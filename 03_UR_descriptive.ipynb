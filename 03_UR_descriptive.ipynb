{
 "cells": [
  {
   "cell_type": "code",
   "execution_count": 214,
   "metadata": {},
   "outputs": [],
   "source": [
    "import matplotlib.pyplot as plt\n",
    "import seaborn as sns\n",
    "sns.set_style(\"whitegrid\")\n",
    "sns.set_context(\"paper\")\n",
    "\n",
    "import numpy as np\n",
    "import pandas as pd\n",
    "import geopandas as gpd\n",
    "from geopandas import GeoDataFrame\n",
    "\n",
    "from sqlalchemy import create_engine\n",
    "engine = create_engine('postgresql://user:@localhost:5432/postgres')\n",
    "conn = engine.connect()\n",
    "from geoalchemy2 import Geometry, WKTElement\n",
    "\n",
    "from sklearn import model_selection\n",
    "%matplotlib inline\n",
    "\n",
    "import warnings\n",
    "warnings.filterwarnings(\"ignore\")\n"
   ]
  },
  {
   "cell_type": "code",
   "execution_count": 217,
   "metadata": {},
   "outputs": [],
   "source": [
    "import statsmodels.api as sm\n",
    "import statsmodels.formula.api as smf\n",
    "import  statsmodels.stats.diagnostic as diag\n",
    "import patsy\n",
    "\n",
    "from sklearn.cluster import KMeans"
   ]
  },
  {
   "cell_type": "markdown",
   "metadata": {},
   "source": [
    "Helper functions"
   ]
  },
  {
   "cell_type": "code",
   "execution_count": 218,
   "metadata": {},
   "outputs": [],
   "source": [
    "def stdarize(X):\n",
    "    std = np.std(X)\n",
    "    mean = np.mean(X)\n",
    "    \n",
    "    return((X-X.mean())/X.std())\n",
    "\n",
    "def percentage_change(X):\n",
    "    std = np.std(X)\n",
    "    mean = np.mean(X)\n",
    "    \n",
    "    return(X/X.mean())-1\n",
    "\n"
   ]
  },
  {
   "cell_type": "code",
   "execution_count": 219,
   "metadata": {},
   "outputs": [],
   "source": [
    "def round_ceil_decade(x):\n",
    "    return(int(np.ceil(x/10)*10))"
   ]
  },
  {
   "cell_type": "code",
   "execution_count": 222,
   "metadata": {},
   "outputs": [],
   "source": [
    "palette = {\"A\":\"#5FCE72\",\"B\":\"#0BC0ED\",\"C\":\"#FFD419\",\"D\":\"#FF4B19\"}\n",
    "# ur_palette = {0:\"#5901E3\",1:\"#E30130\"}\n",
    "ur_palette = {0:\"#4A4A4A\",1:\"#E30130\"}\n",
    "ur_palette1 = {0:'#4A4A4A',1:'#FF3327'}\n",
    "ur_palette2 = {0:'#4A4A4A',1:'#000CFF'}\n",
    "\n",
    "\n",
    "D_highlight_palette = {\"A\":\"#b2b2b2\",\"B\":\"#b2b2b2\",\"C\":\"#b2b2b2\",\"D\":\"#FF4B19\"}\n",
    "D_highlight_palette2 = {\"not_D\":\"#6b6b6b\",\"D\":\"#FF4B19\"}\n"
   ]
  },
  {
   "cell_type": "code",
   "execution_count": 223,
   "metadata": {},
   "outputs": [],
   "source": [
    "fips_codes = pd.read_csv('state_fips.csv',dtype=str).rename(columns={'State (FIPS)':'State'})"
   ]
  },
  {
   "cell_type": "markdown",
   "metadata": {},
   "source": [
    "# Purpose\n",
    "- Explore renewal boundaries and public housing data\n",
    "- Also explore HISDAC: see whether the BUI lines up with UR boundaries? \n"
   ]
  },
  {
   "cell_type": "markdown",
   "metadata": {},
   "source": [
    "# 0. Prep Data\n",
    "## 0.1 Load the results data"
   ]
  },
  {
   "cell_type": "code",
   "execution_count": 225,
   "metadata": {},
   "outputs": [],
   "source": [
    "df_results=gpd.read_postgis('select * from ur_tracts_preds_6',con=conn).drop_duplicates(subset=['gisjoin'])\n"
   ]
  },
  {
   "cell_type": "code",
   "execution_count": 226,
   "metadata": {},
   "outputs": [],
   "source": [
    "w_rf=1\n",
    "w_nn=1.5\n",
    "w_gb=1.5\n",
    "\n",
    "df_results['avg_pred_1'] = df_results[['rf_pred_1','nn_pred_1','gb_pred_1']].apply(lambda x: (w_rf*x['rf_pred_1']+w_nn*x['nn_pred_1']+w_gb*x['gb_pred_1'])/(w_rf+w_nn+w_gb),axis=1)\n"
   ]
  },
  {
   "cell_type": "code",
   "execution_count": 227,
   "metadata": {},
   "outputs": [],
   "source": [
    "# df_1['ur1'] = df_1['avg_pred_1']\n",
    "# df_2['ur2'] = df_2['avg_pred_1']\n",
    "# df_4['ur4'] = df_4['avg_pred_1']\n",
    "# df_5['ur5'] = df_5['avg_pred_1']\n",
    "# df_6['ur6'] = df_6['avg_pred_1']\n",
    "\n",
    "# df_3['ur3'] = df_2['avg_pred_1'].apply(lambda x: 1 if x>thres else 0)"
   ]
  },
  {
   "cell_type": "code",
   "execution_count": 229,
   "metadata": {},
   "outputs": [],
   "source": [
    "\n",
    "perc_median = []\n",
    "thres_cal = np.linspace(.5,.9,40)\n",
    "for thres in thres_cal:\n",
    "    # df_ur = df_6.copy()\n",
    "    df_results['has_ur_new_new'] = df_results['avg_pred_1'].apply(lambda x: 'yes' if x>=thres else 'no')\n",
    "    df_results['has_ur_new'] = df_results.apply(lambda x: 1 if x['has_ur_new_new']=='yes' else (1 if x['has_ur']=='yes' else 0),axis=1)\n",
    "    df =df_results.copy()\n",
    "\n",
    "    t = df.groupby(['STATE','COUNTY','NAME','has_ur_new','has_ur']).count()[['gisjoin']]\n",
    "    t_tot = df.groupby(['STATE','COUNTY','NAME',]).count()[['gisjoin']]\n",
    "    perc = (t/t_tot).reset_index()\n",
    "\n",
    "    med = perc[(perc['has_ur_new']==1)].groupby(['STATE','COUNTY','NAME']).sum()['gisjoin'].describe()['50%']\n",
    "    perc_median.append(med)"
   ]
  },
  {
   "cell_type": "code",
   "execution_count": 181,
   "metadata": {},
   "outputs": [
    {
     "data": {
      "text/plain": [
       "Text(0, 0.5, 'Share of Tracts Predicted')"
      ]
     },
     "execution_count": 181,
     "metadata": {},
     "output_type": "execute_result"
    },
    {
     "data": {
      "image/png": "[encoded data removed]",
      "text/plain": [
       "<Figure size 640x480 with 1 Axes>"
      ]
     },
     "metadata": {},
     "output_type": "display_data"
    }
   ],
   "source": [
    "plt.plot(thres_cal,perc_median)\n",
    "plt.xlabel('Probability Threshold for Acceptance')\n",
    "plt.ylabel('Share of Tracts Predicted')\n"
   ]
  },
  {
   "cell_type": "code",
   "execution_count": 230,
   "metadata": {},
   "outputs": [],
   "source": [
    "thres = 0.7\n",
    "df_results['has_ur_new_new'] = df_results['avg_pred_1'].apply(lambda x: 'yes' if x>=thres else 'no')\n",
    "df_results['has_ur_new'] = df_results.apply(lambda x: 1 if x['has_ur_new_new']=='yes' else (1 if x['has_ur']=='yes' else 0),axis=1)\n",
    "df =df_results.copy()"
   ]
  },
  {
   "cell_type": "markdown",
   "metadata": {},
   "source": [
    "Clean data"
   ]
  },
  {
   "cell_type": "code",
   "execution_count": 231,
   "metadata": {},
   "outputs": [],
   "source": [
    "df = df.drop(columns=[ 'median_income_adj',\n",
    "       'median_income', 'Total_units', '1940_later', '1930_1939', '1920_1929',\n",
    "       '1910_earlier', '1940_later_perc', '1930_1939_perc', '1920_1929_perc',\n",
    "       '1910_earlier_perc', 'hispanic_perc', 'hispanic', 'asian_perc', 'asian',\n",
    "       'unemployed', 'unemployed_perc', ])"
   ]
  },
  {
   "cell_type": "markdown",
   "metadata": {},
   "source": [
    "Add in pop dens "
   ]
  },
  {
   "cell_type": "code",
   "execution_count": 234,
   "metadata": {},
   "outputs": [],
   "source": [
    "for y in [1940,1950,1960,1970,1980,1990,2000,2010]:\n",
    "    df['pop_dens_{}'.format(y)] = df['population_{}'.format(y)]/df.geom.to_crs(\"epsg:3857\").area\n",
    "    \n",
    "    ## Create a category that is non-white percentage\n",
    "    df['nonwhite_perc_{}'.format(y)] = 1-df['white_perc_{}'.format(y)]\n",
    "    df['nonwhite_{}'.format(y)] = df['population_{}'.format(y)]-df['white_{}'.format(y)]"
   ]
  },
  {
   "cell_type": "markdown",
   "metadata": {},
   "source": [
    "Get neighbors"
   ]
  },
  {
   "cell_type": "code",
   "execution_count": 235,
   "metadata": {},
   "outputs": [],
   "source": [
    "df['is_neigh'] = 0\n",
    "for tract in df[df['has_ur_new']==1]['gisjoin'].unique():  \n",
    "    neighbors = [x for x in set(np.array(df[df['geom'].touches(df[df['gisjoin']==tract].head(1)['geom'].values[0])]['gisjoin']))]\n",
    "    df.loc[df['gisjoin'].isin(neighbors),'is_neigh']=1"
   ]
  },
  {
   "cell_type": "code",
   "execution_count": 332,
   "metadata": {},
   "outputs": [],
   "source": [
    "df.rename(columns = {'has_ur_new':'UR_new',\n",
    "                    'has_ur':'UR_dsl'})[['gisjoin','UR_new','UR_dsl','geom']].to_file('ur_tracts',driver='GeoJSON')"
   ]
  },
  {
   "cell_type": "code",
   "execution_count": 189,
   "metadata": {},
   "outputs": [],
   "source": [
    "df.to_postgis('ur_tracts_preds_final_test', \n",
    "                                 engine, \n",
    "                                 if_exists='replace',\n",
    "                                 index=False, \n",
    "                                 dtype={'geom': Geometry(geometry_type='MultiPolygon', srid= 4326)})"
   ]
  },
  {
   "cell_type": "markdown",
   "metadata": {
    "tags": []
   },
   "source": [
    "## 0.1 Data on Urban Renewal Areas\n",
    "- For now, using these categories:\n",
    "    - 'urban renewal grants approved/reserved'\n",
    "    - 'project status'\n",
    "    - 'white families', 'non-white families','total families'\n",
    "    - 'proposed reuse of project land- total',\n",
    "    "
   ]
  },
  {
   "cell_type": "markdown",
   "metadata": {},
   "source": [
    "### 0.1.1 Get the UR boundaries that we currently have"
   ]
  },
  {
   "cell_type": "code",
   "execution_count": 236,
   "metadata": {},
   "outputs": [],
   "source": [
    "ur_boundaries = gpd.read_file('../data/DSL/UR_Projects_cleaned/ur_projects_cleaned.shp')\n",
    "# Format names for consistency\n",
    "ur_boundaries['city'] = ur_boundaries['city'].replace(['nyc'],value='New York')\n",
    "ur_boundaries['city'] = ur_boundaries['city'].str.replace('_',' ')\n",
    "ur_boundaries['city'] = ur_boundaries['city'].str.title()\n",
    "\n",
    "ur_boundaries['city'] = ur_boundaries['city'].replace(['Nyc'],'New York')\n",
    "ur_boundaries['city'] = ur_boundaries['city'].replace(['Philadelphia\\r\\n'],'Philadelphia')\n",
    "\n",
    "ur_boundaries['project'] = ur_boundaries['project'].str.title()\n",
    "\n",
    "## Remove duplicate geometries\n",
    "ur_boundaries = ur_boundaries.groupby('project_id').first().reset_index()\n",
    "ur_boundaries = ur_boundaries.set_crs(epsg=4326)\n",
    "\n",
    "## Format names for consistency\n",
    "ur_boundaries['state'] = ur_boundaries['state'].str.upper()\n"
   ]
  },
  {
   "cell_type": "markdown",
   "metadata": {},
   "source": [
    "### 0.1.2 Get the UR Projects Data"
   ]
  },
  {
   "cell_type": "code",
   "execution_count": 237,
   "metadata": {},
   "outputs": [],
   "source": [
    "ur_data = pd.read_csv('../data/DSL/UR_Projects/non_spatial_data.csv')\n",
    "\n",
    "## Format names for consistency\n",
    "ur_data['city'] = ur_data['city'].replace(['nyc'],value='New York')\n",
    "ur_data['city'] = ur_data['city'].str.title()\n",
    "\n",
    "ur_data['state'] = ur_data['state'].str.upper()\n",
    "\n",
    "ur_data['project'] = ur_data['project'].str.title()"
   ]
  },
  {
   "cell_type": "markdown",
   "metadata": {},
   "source": [
    "Create a table of the latest amt approved and dispursed for each UR project"
   ]
  },
  {
   "cell_type": "code",
   "execution_count": 238,
   "metadata": {},
   "outputs": [],
   "source": [
    "ur_project_res_first = ur_data[(ur_data.cat== 'urban renewal grants approved/reserved')]\\\n",
    "                                .sort_values(['project_id','project','city','state','year'])\\\n",
    "                                .groupby(['project_id','project','city','state'])\\\n",
    "                                .first()[['value','year']]\\\n",
    "                                .reset_index().rename(columns={'value':'amt_reserved_first',\n",
    "                                                                'year':'amt_reserved_year_first'})\n",
    "\n",
    "ur_project_res_first1 = ur_project_res_first[ur_project_res_first.amt_reserved_first.isna()==False]\n",
    "\n",
    "## Now create a column indicated when is the first census year these effects would show in the data\n",
    "ur_project_res_first1['census_year_first'] = ur_project_res_first1['amt_reserved_year_first'].apply(round_ceil_decade)"
   ]
  },
  {
   "cell_type": "code",
   "execution_count": 239,
   "metadata": {},
   "outputs": [],
   "source": [
    "ur_project_res_last = ur_data[(ur_data.cat== 'urban renewal grants approved/reserved')]\\\n",
    "                                .sort_values(['project_id','project','city','state','year'])\\\n",
    "                                .groupby(['project_id','project','city','state'])\\\n",
    "                                .last()[['value','year']]\\\n",
    "                                .reset_index().rename(columns={'value':'amt_reserved_last',\n",
    "                                                                'year':'amt_reserved_year_last'})\n",
    "\n",
    "ur_project_res_last1 = ur_project_res_last[ur_project_res_last.amt_reserved_last.isna()==False]\n"
   ]
  },
  {
   "cell_type": "code",
   "execution_count": 240,
   "metadata": {},
   "outputs": [],
   "source": [
    "ur_project_dis_first = ur_data[(ur_data.cat== 'urban renewal grants dispursed')]\\\n",
    "                                .sort_values(['project_id','project','city','state','year'])\\\n",
    "                                .groupby(['project_id','project','city','state'])\\\n",
    "                                .first()[['value','year']]\\\n",
    "                                .reset_index().rename(columns={'value':'amt_dispursed_first',\n",
    "                                                                'year':'amt_dispursed_year_first'})\n",
    "\n",
    "ur_project_dis_first1 = ur_project_dis_first[ur_project_dis_first.amt_dispursed_first.isna()==False]\n"
   ]
  },
  {
   "cell_type": "code",
   "execution_count": 241,
   "metadata": {},
   "outputs": [],
   "source": [
    "ur_project_dis_last = ur_data[(ur_data.cat== 'urban renewal grants dispursed')]\\\n",
    "                                .sort_values(['project_id','project','city','state','year'])\\\n",
    "                                .groupby(['project_id','project','city','state'])\\\n",
    "                                .last()[['value','year']]\\\n",
    "                                .reset_index().rename(columns={'value':'amt_dispursed_last',\n",
    "                                                                'year':'amt_dispursed_year_last'})\n",
    "\n",
    "ur_project_dis_last1 = ur_project_dis_last[ur_project_dis_last.amt_dispursed_last.isna()==False]"
   ]
  },
  {
   "cell_type": "markdown",
   "metadata": {},
   "source": [
    "Create a table of the latest status for each UR project"
   ]
  },
  {
   "cell_type": "code",
   "execution_count": 242,
   "metadata": {},
   "outputs": [],
   "source": [
    "ur_project_status = ur_data[ur_data.cat== 'project status']\\\n",
    "                                .sort_values(['project_id','project','city','state','year'])\\\n",
    "                                .groupby(['project_id','project','city','state'])\\\n",
    "                                .last()[['value','year']]\\\n",
    "                                .reset_index()\\\n",
    "                                .rename(columns={'value':'project_status',\n",
    "                                                'year':'project_status_year'})"
   ]
  },
  {
   "cell_type": "markdown",
   "metadata": {},
   "source": [
    "Join to project boundaries"
   ]
  },
  {
   "cell_type": "code",
   "execution_count": 243,
   "metadata": {},
   "outputs": [],
   "source": [
    "ur = ur_boundaries.drop(columns=['city','state'])\\\n",
    "                    .merge(ur_project_res_first1[['project_id','amt_reserved_first','amt_reserved_year_first','census_year_first','project','city','state']],\n",
    "                        on=['project_id'],\n",
    "                        how='right')\\\n",
    "                  .rename(columns={'project_y':'project'})\\\n",
    "                  .merge(ur_project_res_last1[['project_id','amt_reserved_last','amt_reserved_year_last']],\n",
    "                        on=['project_id'],\n",
    "                        how='right')\\\n",
    "                  .rename(columns={'project_y':'project'})\n",
    "ur = ur.drop(columns=['project_x'])"
   ]
  },
  {
   "cell_type": "code",
   "execution_count": 244,
   "metadata": {},
   "outputs": [
    {
     "name": "stdout",
     "output_type": "stream",
     "text": [
      "(740, 11) (3941, 16)\n"
     ]
    }
   ],
   "source": [
    "print(ur_boundaries.shape,ur.shape)"
   ]
  },
  {
   "cell_type": "markdown",
   "metadata": {},
   "source": [
    "#### For paper"
   ]
  },
  {
   "cell_type": "markdown",
   "metadata": {},
   "source": [
    "Calc amount in 2010 "
   ]
  },
  {
   "cell_type": "code",
   "execution_count": 245,
   "metadata": {},
   "outputs": [],
   "source": [
    "cpi = pd.read_csv('CPI_U_RS.csv')"
   ]
  },
  {
   "cell_type": "code",
   "execution_count": 246,
   "metadata": {},
   "outputs": [],
   "source": [
    "ur_project_dis_last1['amt_dispursed_last_adj']= ur_project_dis_last1.apply(lambda x: x['amt_dispursed_last']* cpi[cpi['Year']==2010]['CPI'].values[0]/cpi[cpi['Year']==x['amt_dispursed_year_last']]['CPI'].values[0],axis=1)\n",
    "\n",
    "\n"
   ]
  },
  {
   "cell_type": "code",
   "execution_count": 247,
   "metadata": {},
   "outputs": [
    {
     "data": {
      "text/plain": [
       "(1052, 313)"
      ]
     },
     "execution_count": 247,
     "metadata": {},
     "output_type": "execute_result"
    }
   ],
   "source": [
    "df[df['has_ur_new']==1].shape"
   ]
  },
  {
   "cell_type": "markdown",
   "metadata": {},
   "source": [
    "Calc the number of displacements."
   ]
  },
  {
   "cell_type": "code",
   "execution_count": 248,
   "metadata": {},
   "outputs": [
    {
     "data": {
      "text/plain": [
       "199908.0"
      ]
     },
     "execution_count": 248,
     "metadata": {},
     "output_type": "execute_result"
    }
   ],
   "source": [
    "ur_data[(ur_data.cat.isin(['white families', 'non-white families',]))\\\n",
    "        &(ur_data.value.isna()==False)]\\\n",
    "        .sort_values(['project_id','project','city','state','year'])\\\n",
    "        .groupby(['project_id','project','city','state']).tail(1).sum()['value']\n"
   ]
  },
  {
   "cell_type": "markdown",
   "metadata": {},
   "source": [
    "By year project had allocated money"
   ]
  },
  {
   "cell_type": "code",
   "execution_count": 249,
   "metadata": {},
   "outputs": [
    {
     "data": {
      "text/html": [
       "<div>\n",
       "<style scoped>\n",
       "    .dataframe tbody tr th:only-of-type {\n",
       "        vertical-align: middle;\n",
       "    }\n",
       "\n",
       "    .dataframe tbody tr th {\n",
       "        vertical-align: top;\n",
       "    }\n",
       "\n",
       "    .dataframe thead th {\n",
       "        text-align: right;\n",
       "    }\n",
       "</style>\n",
       "<table border=\"1\" class=\"dataframe\">\n",
       "  <thead>\n",
       "    <tr style=\"text-align: right;\">\n",
       "      <th></th>\n",
       "      <th>category_id</th>\n",
       "      <th>project_id</th>\n",
       "      <th>value</th>\n",
       "      <th>quarter</th>\n",
       "      <th>unit_of_measurement</th>\n",
       "      <th>cat</th>\n",
       "      <th>project</th>\n",
       "      <th>city</th>\n",
       "      <th>state</th>\n",
       "    </tr>\n",
       "    <tr>\n",
       "      <th>year</th>\n",
       "      <th></th>\n",
       "      <th></th>\n",
       "      <th></th>\n",
       "      <th></th>\n",
       "      <th></th>\n",
       "      <th></th>\n",
       "      <th></th>\n",
       "      <th></th>\n",
       "      <th></th>\n",
       "    </tr>\n",
       "  </thead>\n",
       "  <tbody>\n",
       "    <tr>\n",
       "      <th>1957</th>\n",
       "      <td>393</td>\n",
       "      <td>393</td>\n",
       "      <td>393</td>\n",
       "      <td>393</td>\n",
       "      <td>393</td>\n",
       "      <td>393</td>\n",
       "      <td>393</td>\n",
       "      <td>393</td>\n",
       "      <td>393</td>\n",
       "    </tr>\n",
       "    <tr>\n",
       "      <th>1958</th>\n",
       "      <td>254</td>\n",
       "      <td>254</td>\n",
       "      <td>254</td>\n",
       "      <td>254</td>\n",
       "      <td>254</td>\n",
       "      <td>254</td>\n",
       "      <td>254</td>\n",
       "      <td>254</td>\n",
       "      <td>254</td>\n",
       "    </tr>\n",
       "    <tr>\n",
       "      <th>1959</th>\n",
       "      <td>99</td>\n",
       "      <td>99</td>\n",
       "      <td>99</td>\n",
       "      <td>99</td>\n",
       "      <td>99</td>\n",
       "      <td>99</td>\n",
       "      <td>99</td>\n",
       "      <td>99</td>\n",
       "      <td>97</td>\n",
       "    </tr>\n",
       "    <tr>\n",
       "      <th>1960</th>\n",
       "      <td>204</td>\n",
       "      <td>204</td>\n",
       "      <td>204</td>\n",
       "      <td>204</td>\n",
       "      <td>204</td>\n",
       "      <td>204</td>\n",
       "      <td>204</td>\n",
       "      <td>204</td>\n",
       "      <td>204</td>\n",
       "    </tr>\n",
       "    <tr>\n",
       "      <th>1961</th>\n",
       "      <td>187</td>\n",
       "      <td>187</td>\n",
       "      <td>187</td>\n",
       "      <td>187</td>\n",
       "      <td>187</td>\n",
       "      <td>187</td>\n",
       "      <td>187</td>\n",
       "      <td>187</td>\n",
       "      <td>187</td>\n",
       "    </tr>\n",
       "    <tr>\n",
       "      <th>1962</th>\n",
       "      <td>352</td>\n",
       "      <td>352</td>\n",
       "      <td>352</td>\n",
       "      <td>352</td>\n",
       "      <td>352</td>\n",
       "      <td>352</td>\n",
       "      <td>352</td>\n",
       "      <td>352</td>\n",
       "      <td>352</td>\n",
       "    </tr>\n",
       "    <tr>\n",
       "      <th>1966</th>\n",
       "      <td>841</td>\n",
       "      <td>841</td>\n",
       "      <td>841</td>\n",
       "      <td>841</td>\n",
       "      <td>841</td>\n",
       "      <td>841</td>\n",
       "      <td>841</td>\n",
       "      <td>841</td>\n",
       "      <td>841</td>\n",
       "    </tr>\n",
       "    <tr>\n",
       "      <th>1967</th>\n",
       "      <td>226</td>\n",
       "      <td>226</td>\n",
       "      <td>226</td>\n",
       "      <td>226</td>\n",
       "      <td>226</td>\n",
       "      <td>226</td>\n",
       "      <td>226</td>\n",
       "      <td>226</td>\n",
       "      <td>226</td>\n",
       "    </tr>\n",
       "    <tr>\n",
       "      <th>1968</th>\n",
       "      <td>101</td>\n",
       "      <td>101</td>\n",
       "      <td>101</td>\n",
       "      <td>101</td>\n",
       "      <td>101</td>\n",
       "      <td>101</td>\n",
       "      <td>101</td>\n",
       "      <td>101</td>\n",
       "      <td>101</td>\n",
       "    </tr>\n",
       "    <tr>\n",
       "      <th>1970</th>\n",
       "      <td>325</td>\n",
       "      <td>325</td>\n",
       "      <td>325</td>\n",
       "      <td>325</td>\n",
       "      <td>325</td>\n",
       "      <td>325</td>\n",
       "      <td>325</td>\n",
       "      <td>325</td>\n",
       "      <td>325</td>\n",
       "    </tr>\n",
       "    <tr>\n",
       "      <th>1972</th>\n",
       "      <td>44</td>\n",
       "      <td>44</td>\n",
       "      <td>44</td>\n",
       "      <td>44</td>\n",
       "      <td>44</td>\n",
       "      <td>44</td>\n",
       "      <td>44</td>\n",
       "      <td>44</td>\n",
       "      <td>44</td>\n",
       "    </tr>\n",
       "    <tr>\n",
       "      <th>1974</th>\n",
       "      <td>95</td>\n",
       "      <td>95</td>\n",
       "      <td>95</td>\n",
       "      <td>95</td>\n",
       "      <td>95</td>\n",
       "      <td>95</td>\n",
       "      <td>95</td>\n",
       "      <td>95</td>\n",
       "      <td>95</td>\n",
       "    </tr>\n",
       "  </tbody>\n",
       "</table>\n",
       "</div>"
      ],
      "text/plain": [
       "      category_id  project_id  value  quarter  unit_of_measurement  cat  \\\n",
       "year                                                                      \n",
       "1957          393         393    393      393                  393  393   \n",
       "1958          254         254    254      254                  254  254   \n",
       "1959           99          99     99       99                   99   99   \n",
       "1960          204         204    204      204                  204  204   \n",
       "1961          187         187    187      187                  187  187   \n",
       "1962          352         352    352      352                  352  352   \n",
       "1966          841         841    841      841                  841  841   \n",
       "1967          226         226    226      226                  226  226   \n",
       "1968          101         101    101      101                  101  101   \n",
       "1970          325         325    325      325                  325  325   \n",
       "1972           44          44     44       44                   44   44   \n",
       "1974           95          95     95       95                   95   95   \n",
       "\n",
       "      project  city  state  \n",
       "year                        \n",
       "1957      393   393    393  \n",
       "1958      254   254    254  \n",
       "1959       99    99     97  \n",
       "1960      204   204    204  \n",
       "1961      187   187    187  \n",
       "1962      352   352    352  \n",
       "1966      841   841    841  \n",
       "1967      226   226    226  \n",
       "1968      101   101    101  \n",
       "1970      325   325    325  \n",
       "1972       44    44     44  \n",
       "1974       95    95     95  "
      ]
     },
     "execution_count": 249,
     "metadata": {},
     "output_type": "execute_result"
    }
   ],
   "source": [
    "ur_data[(ur_data['project'].str.contains('Interim|Demolition|Demonstration|Dev|Enforcement')==False)&\\\n",
    "        (ur_data.value.isna()==False)&\\\n",
    "        (ur_data.value.isna()==False)&\\\n",
    "       (ur_data.cat== 'urban renewal grants approved/reserved')].sort_values(['project_id','project','city','state','year'])\\\n",
    "        .groupby(['project_id']).head(1).groupby('year').count()\n"
   ]
  },
  {
   "cell_type": "markdown",
   "metadata": {},
   "source": [
    "#### Summary"
   ]
  },
  {
   "cell_type": "code",
   "execution_count": 250,
   "metadata": {},
   "outputs": [
    {
     "data": {
      "text/html": [
       "<div>\n",
       "<style scoped>\n",
       "    .dataframe tbody tr th:only-of-type {\n",
       "        vertical-align: middle;\n",
       "    }\n",
       "\n",
       "    .dataframe tbody tr th {\n",
       "        vertical-align: top;\n",
       "    }\n",
       "\n",
       "    .dataframe thead th {\n",
       "        text-align: right;\n",
       "    }\n",
       "</style>\n",
       "<table border=\"1\" class=\"dataframe\">\n",
       "  <thead>\n",
       "    <tr style=\"text-align: right;\">\n",
       "      <th></th>\n",
       "      <th></th>\n",
       "      <th>project_id</th>\n",
       "      <th>FID</th>\n",
       "      <th>city_id</th>\n",
       "      <th>SHAPE_Leng</th>\n",
       "      <th>conf</th>\n",
       "      <th>Shape_Le_1</th>\n",
       "      <th>Shape_Area</th>\n",
       "      <th>amt_reserved_first</th>\n",
       "      <th>amt_reserved_year_first</th>\n",
       "      <th>census_year_first</th>\n",
       "      <th>amt_reserved_last</th>\n",
       "      <th>amt_reserved_year_last</th>\n",
       "    </tr>\n",
       "    <tr>\n",
       "      <th>city</th>\n",
       "      <th>state</th>\n",
       "      <th></th>\n",
       "      <th></th>\n",
       "      <th></th>\n",
       "      <th></th>\n",
       "      <th></th>\n",
       "      <th></th>\n",
       "      <th></th>\n",
       "      <th></th>\n",
       "      <th></th>\n",
       "      <th></th>\n",
       "      <th></th>\n",
       "      <th></th>\n",
       "    </tr>\n",
       "  </thead>\n",
       "  <tbody>\n",
       "    <tr>\n",
       "      <th>Boston</th>\n",
       "      <th>MA</th>\n",
       "      <td>4850</td>\n",
       "      <td>7043.0</td>\n",
       "      <td>1364.0</td>\n",
       "      <td>112255.007912</td>\n",
       "      <td>132.0</td>\n",
       "      <td>143544.535894</td>\n",
       "      <td>28.121254</td>\n",
       "      <td>134067478.0</td>\n",
       "      <td>51054</td>\n",
       "      <td>51090</td>\n",
       "      <td>571589514.0</td>\n",
       "      <td>51304</td>\n",
       "    </tr>\n",
       "    <tr>\n",
       "      <th>New York</th>\n",
       "      <th>NY</th>\n",
       "      <td>27363</td>\n",
       "      <td>239285.0</td>\n",
       "      <td>8064.0</td>\n",
       "      <td>80394.983986</td>\n",
       "      <td>211.0</td>\n",
       "      <td>125873.399649</td>\n",
       "      <td>12.329552</td>\n",
       "      <td>314854017.0</td>\n",
       "      <td>98020</td>\n",
       "      <td>98200</td>\n",
       "      <td>443655470.0</td>\n",
       "      <td>98644</td>\n",
       "    </tr>\n",
       "    <tr>\n",
       "      <th>Philadelphia</th>\n",
       "      <th>PA</th>\n",
       "      <td>75612</td>\n",
       "      <td>16619.0</td>\n",
       "      <td>14450.0</td>\n",
       "      <td>90226.254409</td>\n",
       "      <td>229.0</td>\n",
       "      <td>149216.983773</td>\n",
       "      <td>24.818694</td>\n",
       "      <td>243288757.0</td>\n",
       "      <td>107925</td>\n",
       "      <td>108120</td>\n",
       "      <td>325109867.0</td>\n",
       "      <td>108454</td>\n",
       "    </tr>\n",
       "    <tr>\n",
       "      <th>Chicago</th>\n",
       "      <th>IL</th>\n",
       "      <td>115757</td>\n",
       "      <td>2286.0</td>\n",
       "      <td>12180.0</td>\n",
       "      <td>103409.754790</td>\n",
       "      <td>34.0</td>\n",
       "      <td>112108.079322</td>\n",
       "      <td>30.084029</td>\n",
       "      <td>183282963.0</td>\n",
       "      <td>90156</td>\n",
       "      <td>90310</td>\n",
       "      <td>281182313.0</td>\n",
       "      <td>90768</td>\n",
       "    </tr>\n",
       "    <tr>\n",
       "      <th>San Francisco</th>\n",
       "      <th>CA</th>\n",
       "      <td>42977</td>\n",
       "      <td>2035.0</td>\n",
       "      <td>11709.0</td>\n",
       "      <td>48379.408670</td>\n",
       "      <td>0.0</td>\n",
       "      <td>48066.925363</td>\n",
       "      <td>4.252805</td>\n",
       "      <td>145690990.0</td>\n",
       "      <td>21592</td>\n",
       "      <td>21640</td>\n",
       "      <td>264547927.0</td>\n",
       "      <td>21698</td>\n",
       "    </tr>\n",
       "    <tr>\n",
       "      <th>...</th>\n",
       "      <th>...</th>\n",
       "      <td>...</td>\n",
       "      <td>...</td>\n",
       "      <td>...</td>\n",
       "      <td>...</td>\n",
       "      <td>...</td>\n",
       "      <td>...</td>\n",
       "      <td>...</td>\n",
       "      <td>...</td>\n",
       "      <td>...</td>\n",
       "      <td>...</td>\n",
       "      <td>...</td>\n",
       "      <td>...</td>\n",
       "    </tr>\n",
       "    <tr>\n",
       "      <th>Auburn</th>\n",
       "      <th>AL</th>\n",
       "      <td>1686</td>\n",
       "      <td>0.0</td>\n",
       "      <td>0.0</td>\n",
       "      <td>0.000000</td>\n",
       "      <td>0.0</td>\n",
       "      <td>0.000000</td>\n",
       "      <td>0.000000</td>\n",
       "      <td>27255.0</td>\n",
       "      <td>1957</td>\n",
       "      <td>1960</td>\n",
       "      <td>12111.0</td>\n",
       "      <td>1974</td>\n",
       "    </tr>\n",
       "    <tr>\n",
       "      <th>Wyoming</th>\n",
       "      <th>MI</th>\n",
       "      <td>2890</td>\n",
       "      <td>0.0</td>\n",
       "      <td>0.0</td>\n",
       "      <td>0.000000</td>\n",
       "      <td>0.0</td>\n",
       "      <td>0.000000</td>\n",
       "      <td>0.000000</td>\n",
       "      <td>14666.0</td>\n",
       "      <td>1966</td>\n",
       "      <td>1970</td>\n",
       "      <td>11715.0</td>\n",
       "      <td>1974</td>\n",
       "    </tr>\n",
       "    <tr>\n",
       "      <th>Alma</th>\n",
       "      <th>MI</th>\n",
       "      <td>2696</td>\n",
       "      <td>0.0</td>\n",
       "      <td>0.0</td>\n",
       "      <td>0.000000</td>\n",
       "      <td>0.0</td>\n",
       "      <td>0.000000</td>\n",
       "      <td>0.000000</td>\n",
       "      <td>13094.0</td>\n",
       "      <td>1966</td>\n",
       "      <td>1970</td>\n",
       "      <td>10724.0</td>\n",
       "      <td>1974</td>\n",
       "    </tr>\n",
       "    <tr>\n",
       "      <th>Yale</th>\n",
       "      <th>OK</th>\n",
       "      <td>3589</td>\n",
       "      <td>251.0</td>\n",
       "      <td>1179.0</td>\n",
       "      <td>8161.637883</td>\n",
       "      <td>0.0</td>\n",
       "      <td>8161.637883</td>\n",
       "      <td>1.551647</td>\n",
       "      <td>33480.0</td>\n",
       "      <td>1962</td>\n",
       "      <td>1970</td>\n",
       "      <td>4386.0</td>\n",
       "      <td>1974</td>\n",
       "    </tr>\n",
       "    <tr>\n",
       "      <th>Los Anegles</th>\n",
       "      <th>CA</th>\n",
       "      <td>3824</td>\n",
       "      <td>0.0</td>\n",
       "      <td>0.0</td>\n",
       "      <td>0.000000</td>\n",
       "      <td>0.0</td>\n",
       "      <td>0.000000</td>\n",
       "      <td>0.000000</td>\n",
       "      <td>2887.0</td>\n",
       "      <td>1970</td>\n",
       "      <td>1970</td>\n",
       "      <td>2887.0</td>\n",
       "      <td>1974</td>\n",
       "    </tr>\n",
       "  </tbody>\n",
       "</table>\n",
       "<p>1248 rows × 12 columns</p>\n",
       "</div>"
      ],
      "text/plain": [
       "                     project_id       FID  city_id     SHAPE_Leng   conf  \\\n",
       "city          state                                                        \n",
       "Boston        MA           4850    7043.0   1364.0  112255.007912  132.0   \n",
       "New York      NY          27363  239285.0   8064.0   80394.983986  211.0   \n",
       "Philadelphia  PA          75612   16619.0  14450.0   90226.254409  229.0   \n",
       "Chicago       IL         115757    2286.0  12180.0  103409.754790   34.0   \n",
       "San Francisco CA          42977    2035.0  11709.0   48379.408670    0.0   \n",
       "...                         ...       ...      ...            ...    ...   \n",
       "Auburn        AL           1686       0.0      0.0       0.000000    0.0   \n",
       "Wyoming       MI           2890       0.0      0.0       0.000000    0.0   \n",
       "Alma          MI           2696       0.0      0.0       0.000000    0.0   \n",
       "Yale          OK           3589     251.0   1179.0    8161.637883    0.0   \n",
       "Los Anegles   CA           3824       0.0      0.0       0.000000    0.0   \n",
       "\n",
       "                        Shape_Le_1  Shape_Area  amt_reserved_first  \\\n",
       "city          state                                                  \n",
       "Boston        MA     143544.535894   28.121254         134067478.0   \n",
       "New York      NY     125873.399649   12.329552         314854017.0   \n",
       "Philadelphia  PA     149216.983773   24.818694         243288757.0   \n",
       "Chicago       IL     112108.079322   30.084029         183282963.0   \n",
       "San Francisco CA      48066.925363    4.252805         145690990.0   \n",
       "...                            ...         ...                 ...   \n",
       "Auburn        AL          0.000000    0.000000             27255.0   \n",
       "Wyoming       MI          0.000000    0.000000             14666.0   \n",
       "Alma          MI          0.000000    0.000000             13094.0   \n",
       "Yale          OK       8161.637883    1.551647             33480.0   \n",
       "Los Anegles   CA          0.000000    0.000000              2887.0   \n",
       "\n",
       "                     amt_reserved_year_first  census_year_first  \\\n",
       "city          state                                               \n",
       "Boston        MA                       51054              51090   \n",
       "New York      NY                       98020              98200   \n",
       "Philadelphia  PA                      107925             108120   \n",
       "Chicago       IL                       90156              90310   \n",
       "San Francisco CA                       21592              21640   \n",
       "...                                      ...                ...   \n",
       "Auburn        AL                        1957               1960   \n",
       "Wyoming       MI                        1966               1970   \n",
       "Alma          MI                        1966               1970   \n",
       "Yale          OK                        1962               1970   \n",
       "Los Anegles   CA                        1970               1970   \n",
       "\n",
       "                     amt_reserved_last  amt_reserved_year_last  \n",
       "city          state                                             \n",
       "Boston        MA           571589514.0                   51304  \n",
       "New York      NY           443655470.0                   98644  \n",
       "Philadelphia  PA           325109867.0                  108454  \n",
       "Chicago       IL           281182313.0                   90768  \n",
       "San Francisco CA           264547927.0                   21698  \n",
       "...                                ...                     ...  \n",
       "Auburn        AL               12111.0                    1974  \n",
       "Wyoming       MI               11715.0                    1974  \n",
       "Alma          MI               10724.0                    1974  \n",
       "Yale          OK                4386.0                    1974  \n",
       "Los Anegles   CA                2887.0                    1974  \n",
       "\n",
       "[1248 rows x 12 columns]"
      ]
     },
     "execution_count": 250,
     "metadata": {},
     "output_type": "execute_result"
    }
   ],
   "source": [
    "ur_data_excl = ur_data[ur_data['project'].str.contains('Interim|Demolition|Demonstration|Dev|Enforcement')==False]['project_id']\n",
    "ur[ur.project_id.isin(ur_data_excl.unique())].groupby(['city','state']).sum().sort_values('amt_reserved_last',ascending=False)"
   ]
  },
  {
   "cell_type": "markdown",
   "metadata": {},
   "source": [
    "Residential"
   ]
  },
  {
   "cell_type": "code",
   "execution_count": 251,
   "metadata": {},
   "outputs": [
    {
     "data": {
      "text/html": [
       "<div>\n",
       "<style scoped>\n",
       "    .dataframe tbody tr th:only-of-type {\n",
       "        vertical-align: middle;\n",
       "    }\n",
       "\n",
       "    .dataframe tbody tr th {\n",
       "        vertical-align: top;\n",
       "    }\n",
       "\n",
       "    .dataframe thead th {\n",
       "        text-align: right;\n",
       "    }\n",
       "</style>\n",
       "<table border=\"1\" class=\"dataframe\">\n",
       "  <thead>\n",
       "    <tr style=\"text-align: right;\">\n",
       "      <th></th>\n",
       "      <th>category_id</th>\n",
       "      <th>project_id</th>\n",
       "      <th>value</th>\n",
       "      <th>year</th>\n",
       "      <th>quarter</th>\n",
       "      <th>unit_of_measurement</th>\n",
       "      <th>cat</th>\n",
       "      <th>project</th>\n",
       "      <th>city</th>\n",
       "      <th>state</th>\n",
       "    </tr>\n",
       "  </thead>\n",
       "  <tbody>\n",
       "    <tr>\n",
       "      <th>52574</th>\n",
       "      <td>75</td>\n",
       "      <td>1360</td>\n",
       "      <td>847.0</td>\n",
       "      <td>1966</td>\n",
       "      <td>June</td>\n",
       "      <td>acres</td>\n",
       "      <td>proposed reuse of project land- residential</td>\n",
       "      <td>Eastwick</td>\n",
       "      <td>Philadelphia</td>\n",
       "      <td>PA</td>\n",
       "    </tr>\n",
       "    <tr>\n",
       "      <th>53812</th>\n",
       "      <td>75</td>\n",
       "      <td>3668</td>\n",
       "      <td>324.0</td>\n",
       "      <td>1966</td>\n",
       "      <td>June</td>\n",
       "      <td>acres</td>\n",
       "      <td>proposed reuse of project land- residential</td>\n",
       "      <td>Queen City No 1</td>\n",
       "      <td>Mercedes</td>\n",
       "      <td>TX</td>\n",
       "    </tr>\n",
       "    <tr>\n",
       "      <th>53638</th>\n",
       "      <td>75</td>\n",
       "      <td>2394</td>\n",
       "      <td>321.8</td>\n",
       "      <td>1966</td>\n",
       "      <td>June</td>\n",
       "      <td>acres</td>\n",
       "      <td>proposed reuse of project land- residential</td>\n",
       "      <td>Edgehill</td>\n",
       "      <td>Nashville</td>\n",
       "      <td>TN</td>\n",
       "    </tr>\n",
       "    <tr>\n",
       "      <th>49051</th>\n",
       "      <td>75</td>\n",
       "      <td>2833</td>\n",
       "      <td>305.7</td>\n",
       "      <td>1966</td>\n",
       "      <td>June</td>\n",
       "      <td>acres</td>\n",
       "      <td>proposed reuse of project land- residential</td>\n",
       "      <td>Marquette Neighborhood</td>\n",
       "      <td>Muskegon</td>\n",
       "      <td>MI</td>\n",
       "    </tr>\n",
       "    <tr>\n",
       "      <th>45867</th>\n",
       "      <td>75</td>\n",
       "      <td>3943</td>\n",
       "      <td>266.6</td>\n",
       "      <td>1966</td>\n",
       "      <td>June</td>\n",
       "      <td>acres</td>\n",
       "      <td>proposed reuse of project land- residential</td>\n",
       "      <td>Monterey (Open Land)</td>\n",
       "      <td>South Pasadena</td>\n",
       "      <td>CA</td>\n",
       "    </tr>\n",
       "    <tr>\n",
       "      <th>...</th>\n",
       "      <td>...</td>\n",
       "      <td>...</td>\n",
       "      <td>...</td>\n",
       "      <td>...</td>\n",
       "      <td>...</td>\n",
       "      <td>...</td>\n",
       "      <td>...</td>\n",
       "      <td>...</td>\n",
       "      <td>...</td>\n",
       "      <td>...</td>\n",
       "    </tr>\n",
       "    <tr>\n",
       "      <th>36721</th>\n",
       "      <td>75</td>\n",
       "      <td>351</td>\n",
       "      <td>0.1</td>\n",
       "      <td>1964</td>\n",
       "      <td>December</td>\n",
       "      <td>acres</td>\n",
       "      <td>proposed reuse of project land- residential</td>\n",
       "      <td>Area D</td>\n",
       "      <td>Worcester</td>\n",
       "      <td>MA</td>\n",
       "    </tr>\n",
       "    <tr>\n",
       "      <th>45128</th>\n",
       "      <td>75</td>\n",
       "      <td>1765</td>\n",
       "      <td>0.1</td>\n",
       "      <td>1966</td>\n",
       "      <td>June</td>\n",
       "      <td>acres</td>\n",
       "      <td>proposed reuse of project land- residential</td>\n",
       "      <td>East Church St</td>\n",
       "      <td>Mobile</td>\n",
       "      <td>AL</td>\n",
       "    </tr>\n",
       "    <tr>\n",
       "      <th>48910</th>\n",
       "      <td>75</td>\n",
       "      <td>2788</td>\n",
       "      <td>0.1</td>\n",
       "      <td>1966</td>\n",
       "      <td>June</td>\n",
       "      <td>acres</td>\n",
       "      <td>proposed reuse of project land- residential</td>\n",
       "      <td>Grand River</td>\n",
       "      <td>Grand Rapids</td>\n",
       "      <td>MI</td>\n",
       "    </tr>\n",
       "    <tr>\n",
       "      <th>48530</th>\n",
       "      <td>75</td>\n",
       "      <td>265</td>\n",
       "      <td>0.1</td>\n",
       "      <td>1966</td>\n",
       "      <td>June</td>\n",
       "      <td>acres</td>\n",
       "      <td>proposed reuse of project land- residential</td>\n",
       "      <td>Broadway-Essex</td>\n",
       "      <td>Lawrence</td>\n",
       "      <td>MA</td>\n",
       "    </tr>\n",
       "    <tr>\n",
       "      <th>51625</th>\n",
       "      <td>75</td>\n",
       "      <td>3056</td>\n",
       "      <td>0.1</td>\n",
       "      <td>1966</td>\n",
       "      <td>June</td>\n",
       "      <td>acres</td>\n",
       "      <td>proposed reuse of project land- residential</td>\n",
       "      <td>Perry-Mead</td>\n",
       "      <td>Dayton</td>\n",
       "      <td>OH</td>\n",
       "    </tr>\n",
       "  </tbody>\n",
       "</table>\n",
       "<p>883 rows × 10 columns</p>\n",
       "</div>"
      ],
      "text/plain": [
       "       category_id  project_id  value  year   quarter unit_of_measurement  \\\n",
       "52574           75        1360  847.0  1966      June               acres   \n",
       "53812           75        3668  324.0  1966      June               acres   \n",
       "53638           75        2394  321.8  1966      June               acres   \n",
       "49051           75        2833  305.7  1966      June               acres   \n",
       "45867           75        3943  266.6  1966      June               acres   \n",
       "...            ...         ...    ...   ...       ...                 ...   \n",
       "36721           75         351    0.1  1964  December               acres   \n",
       "45128           75        1765    0.1  1966      June               acres   \n",
       "48910           75        2788    0.1  1966      June               acres   \n",
       "48530           75         265    0.1  1966      June               acres   \n",
       "51625           75        3056    0.1  1966      June               acres   \n",
       "\n",
       "                                               cat                 project  \\\n",
       "52574  proposed reuse of project land- residential                Eastwick   \n",
       "53812  proposed reuse of project land- residential         Queen City No 1   \n",
       "53638  proposed reuse of project land- residential                Edgehill   \n",
       "49051  proposed reuse of project land- residential  Marquette Neighborhood   \n",
       "45867  proposed reuse of project land- residential    Monterey (Open Land)   \n",
       "...                                            ...                     ...   \n",
       "36721  proposed reuse of project land- residential                  Area D   \n",
       "45128  proposed reuse of project land- residential          East Church St   \n",
       "48910  proposed reuse of project land- residential             Grand River   \n",
       "48530  proposed reuse of project land- residential          Broadway-Essex   \n",
       "51625  proposed reuse of project land- residential              Perry-Mead   \n",
       "\n",
       "                 city state  \n",
       "52574    Philadelphia    PA  \n",
       "53812        Mercedes    TX  \n",
       "53638       Nashville    TN  \n",
       "49051        Muskegon    MI  \n",
       "45867  South Pasadena    CA  \n",
       "...               ...   ...  \n",
       "36721       Worcester    MA  \n",
       "45128          Mobile    AL  \n",
       "48910    Grand Rapids    MI  \n",
       "48530        Lawrence    MA  \n",
       "51625          Dayton    OH  \n",
       "\n",
       "[883 rows x 10 columns]"
      ]
     },
     "execution_count": 251,
     "metadata": {},
     "output_type": "execute_result"
    }
   ],
   "source": [
    "ur_data[(ur_data.cat.isin(['proposed reuse of project land- residential',\n",
    "       ]))&(ur_data.value.isna()==False)].sort_values(['project_id','project','city','state','year'])\\\n",
    "        .groupby(['state','city','project_id','project',]).tail(1).sort_values('value',ascending=False)\n",
    "# .sum()['value']"
   ]
  },
  {
   "cell_type": "markdown",
   "metadata": {},
   "source": [
    "Commercial"
   ]
  },
  {
   "cell_type": "code",
   "execution_count": 252,
   "metadata": {},
   "outputs": [
    {
     "data": {
      "text/plain": [
       "7998.8"
      ]
     },
     "execution_count": 252,
     "metadata": {},
     "output_type": "execute_result"
    }
   ],
   "source": [
    "ur_data[(ur_data.cat.isin(['proposed reuse of project land- commercial',\n",
    "       ]))&(ur_data.value.isna()==False)&(ur_data.project_id!=1507)].sort_values(['project_id','project','city','state','year'])\\\n",
    "        .groupby(['state','city','project_id','project',]).tail(1).sort_values('value',ascending=False).sum()['value']"
   ]
  },
  {
   "cell_type": "markdown",
   "metadata": {},
   "source": [
    "Industrial"
   ]
  },
  {
   "cell_type": "code",
   "execution_count": 253,
   "metadata": {},
   "outputs": [
    {
     "data": {
      "text/plain": [
       "9651.8"
      ]
     },
     "execution_count": 253,
     "metadata": {},
     "output_type": "execute_result"
    }
   ],
   "source": [
    "ur_data[(ur_data.cat.isin(['proposed reuse of project land- industrial',\n",
    "       ]))&(ur_data.value.isna()==False)].sort_values(['project_id','project','city','state','year'])\\\n",
    "        .groupby(['state','city','project_id','project',]).tail(1).sum()['value']"
   ]
  },
  {
   "cell_type": "markdown",
   "metadata": {},
   "source": [
    "Public"
   ]
  },
  {
   "cell_type": "code",
   "execution_count": 254,
   "metadata": {},
   "outputs": [
    {
     "data": {
      "text/plain": [
       "7304.5"
      ]
     },
     "execution_count": 254,
     "metadata": {},
     "output_type": "execute_result"
    }
   ],
   "source": [
    "ur_data[(ur_data.cat.isin(['proposed reuse of project land- public',\n",
    "       ]))&(ur_data.value.isna()==False)].sort_values(['project_id','project','city','state','year'])\\\n",
    "        .groupby(['state','city','project_id','project',]).tail(1).sum()['value']"
   ]
  },
  {
   "cell_type": "code",
   "execution_count": 255,
   "metadata": {},
   "outputs": [
    {
     "data": {
      "text/plain": [
       "61380.4"
      ]
     },
     "execution_count": 255,
     "metadata": {},
     "output_type": "execute_result"
    }
   ],
   "source": [
    "ur_data[(ur_data.cat.isin(['proposed reuse of project land- total',\n",
    "       ]))&(ur_data.value.isna()==False)].sort_values(['project_id','project','city','state','year'])\\\n",
    "        .groupby(['state','city','project_id','project',]).tail(1).sum()['value']"
   ]
  },
  {
   "cell_type": "markdown",
   "metadata": {},
   "source": [
    "### 0.1.2.2 Data Cleaning\n",
    "\n",
    "Broadly, here are the types of projects that should be removed from the data: \n",
    "- Later programs that updated UR (to contain less slum clearance/demolition): \n",
    "    - Community Renewal\n",
    "    - Neighborhood Development\n",
    "    - Code Enforcement\n",
    "    - **Actually**, going to remove Demolition Project,Interim Asst Prog,Demonstation Projec \n",
    "- Outliers: \n",
    "    - City is \"Connecticut State At Large\""
   ]
  },
  {
   "cell_type": "code",
   "execution_count": 256,
   "metadata": {},
   "outputs": [],
   "source": [
    "ur1 = ur[(ur['project'].str.contains('Community Renewal|Neighborhood Dev|Code')==False)&\\\n",
    "         (ur['city']!='Connecticut State At Large')]"
   ]
  },
  {
   "cell_type": "markdown",
   "metadata": {},
   "source": [
    "#### 0.4.2.3 How many of the projects are missing in each city? "
   ]
  },
  {
   "cell_type": "code",
   "execution_count": 257,
   "metadata": {},
   "outputs": [],
   "source": [
    "ur1['has_geom'] = ur1.apply(lambda x: 0 if np.isnan(x['Shape_Area'])  else 1, axis=1)"
   ]
  },
  {
   "cell_type": "code",
   "execution_count": 258,
   "metadata": {
    "tags": []
   },
   "outputs": [],
   "source": [
    "ur_hasgeom_bycity_num = ur1.groupby(['state','city'])\\\n",
    "                        .sum()[['has_geom']]\\\n",
    "                        .rename(columns={'has_geom':'num_notmissing'})\n",
    "ur_hasgeom_bycity_res = ur1.groupby(['state','city'])\\\n",
    "                        .sum()[['amt_reserved_last']]\\\n",
    "                        .rename(columns={'amt_reserved_last':'amt_reserved'})\n",
    "ur_hasgeom_bycity_total = ur1.groupby(['state','city'])\\\n",
    "                        .count()[['project_id']]\\\n",
    "                        .rename(columns={'project_id':'total'})\n",
    "\n",
    "ur_hasgeom_bycity_perc = (ur1.groupby(['state','city'])\\\n",
    "                              .sum()[['has_geom']]\\\n",
    "                              .rename(columns={'has_geom':'num_notmissing'})/ur1.groupby(['state','city'])\\\n",
    "                                                 .count()[['has_geom']]\\\n",
    "                                                 .rename(columns={'has_geom':'num_notmissing'})).rename(columns={'num_notmissing':'perc_notmissing'})\n",
    "\n",
    "ur_hasgeom_bycity = pd.concat([ur_hasgeom_bycity_num,ur_hasgeom_bycity_res,ur_hasgeom_bycity_perc,ur_hasgeom_bycity_total],axis=1).reset_index()\n",
    "ur_hasgeom_bycity = ur_hasgeom_bycity.sort_values(['num_notmissing','total'],ascending=False)"
   ]
  },
  {
   "cell_type": "code",
   "execution_count": 259,
   "metadata": {},
   "outputs": [],
   "source": [
    "ur_hasgeom_bycity.to_csv('results/missing_projects.csv')"
   ]
  },
  {
   "cell_type": "markdown",
   "metadata": {},
   "source": [
    "## 0.3 City center information"
   ]
  },
  {
   "cell_type": "code",
   "execution_count": 260,
   "metadata": {},
   "outputs": [],
   "source": [
    "city_centers = gpd.read_file('../data/city_centers/citiesx010g.shp')\n",
    "city_centers = city_centers.sort_values(['STATE_FIPS','COUNTYFIPS','POP_2010'],ascending=False)\\\n",
    "                            .groupby(['STATE_FIPS','COUNTYFIPS'])\\\n",
    "                            .first()\\\n",
    "                            .reset_index()"
   ]
  },
  {
   "cell_type": "markdown",
   "metadata": {},
   "source": [
    "# 1. Pivot the dataframe"
   ]
  },
  {
   "cell_type": "markdown",
   "metadata": {},
   "source": [
    "Create a new UR column"
   ]
  },
  {
   "cell_type": "code",
   "execution_count": 261,
   "metadata": {},
   "outputs": [],
   "source": [
    "cols_use = ['nonwhite','nonwhite_perc','owned_perc','median_homevalue','median_homevalue_adj','median_income','median_income_adj','pop_dens','population','homes','college_perc']\n",
    "\n",
    "df_melt = []\n",
    "for c in cols_use: \n",
    "    if c =='population':\n",
    "        df_col = df[((df.columns[df.columns.str.contains(c)])&(df.columns[df.columns.str.contains('diff')==False]))\\\n",
    "                    &(df.columns[df.columns.str.contains('population_density')==False])\\\n",
    "       |['gisjoin','has_ur','avg_pred_1','has_ur_new','geom']].melt(id_vars=['gisjoin','has_ur','avg_pred_1','has_ur_new','geom'],value_name=c)\n",
    "        \n",
    "        df_col['year'] = df_col['variable'].apply(lambda x: int(x.split('_')[1]))\n",
    "        df_melt.append(df_col.drop(columns=['variable']))\n",
    "    elif 'adj' in c: \n",
    "        df_col = pd.concat([df[((df.columns[df.columns.str.contains(c)])&(df.columns[df.columns.str.contains('diff')==False]))],\n",
    "           df[['gisjoin']]],axis=1).melt(value_name=c,id_vars=['gisjoin'])\n",
    "        df_col['year'] = df_col['variable'].apply(lambda x: int(x.split('_')[-1]))\n",
    "        df_melt.append(df_col.drop(columns=['variable']))\n",
    "    elif c=='nonwhite': \n",
    "        df_col = pd.concat([df[(df.columns[df.columns.str.contains(c)])&(df.columns[df.columns.str.contains('diff|adj|perc')==False])],\n",
    "           df[['gisjoin']]],axis=1).melt(value_name=c,id_vars=['gisjoin'])\n",
    "        df_col['year'] = df_col['variable'].apply(lambda x: int(x.split('_')[-1]))\n",
    "        df_melt.append(df_col.drop(columns=['variable']))\n",
    "    else: \n",
    "        df_col = pd.concat([df[((df.columns[df.columns.str.contains(c)])&(df.columns[df.columns.str.contains('diff')==False])\\\n",
    "                               &(df.columns[df.columns.str.contains('adj')==False]))],\n",
    "           df[['gisjoin']]],axis=1).melt(value_name=c,id_vars=['gisjoin'])\n",
    "        df_col['year'] = df_col['variable'].apply(lambda x: int(x.split('_')[-1]))\n",
    "        df_melt.append(df_col.drop(columns=['variable']))"
   ]
  },
  {
   "cell_type": "code",
   "execution_count": 262,
   "metadata": {},
   "outputs": [],
   "source": [
    "from functools import reduce\n",
    "df1 = reduce(lambda x, y: pd.merge(x, y, on = ['gisjoin','year'],how='left'), df_melt)\n",
    "df1=gpd.GeoDataFrame(df1,crs=\"EPSG:4326\",geometry='geom').reset_index()"
   ]
  },
  {
   "cell_type": "markdown",
   "metadata": {},
   "source": [
    "## 1.1 Get neighbors of urban renewal tracts."
   ]
  },
  {
   "cell_type": "code",
   "execution_count": 263,
   "metadata": {},
   "outputs": [],
   "source": [
    "df1['is_neigh'] = 0\n",
    "for tract in df1[df1['has_ur_new']==1]['gisjoin'].unique():  \n",
    "    neighbors = [x for x in set(np.array(df1[df1['geom'].touches(df1[df1['gisjoin']==tract].head(1)['geom'].values[0])]['gisjoin']))]\n",
    "    df1.loc[df1['gisjoin'].isin(neighbors),'is_neigh']=1"
   ]
  },
  {
   "cell_type": "markdown",
   "metadata": {},
   "source": [
    "Take the log of each col"
   ]
  },
  {
   "cell_type": "code",
   "execution_count": 264,
   "metadata": {},
   "outputs": [],
   "source": [
    "cols_use1 = ['nonwhite','nonwhite_perc','median_income_adj','median_homevalue_adj','median_income','median_homevalue','pop_dens','population','college_perc']\n",
    "for c in cols_use1: \n",
    "    df1['ln_{}'.format(c)] = np.log(df1[c]+.00000001)"
   ]
  },
  {
   "cell_type": "markdown",
   "metadata": {},
   "source": [
    "Create a DF that is either UR or neighbor of UR"
   ]
  },
  {
   "cell_type": "code",
   "execution_count": 265,
   "metadata": {},
   "outputs": [],
   "source": [
    "df1['ur_or_neigh'] =False\n",
    "df1.loc[((df1['is_neigh']==1))|(df1['has_ur_new']==1),'ur_or_neigh']=True"
   ]
  },
  {
   "cell_type": "code",
   "execution_count": 266,
   "metadata": {},
   "outputs": [],
   "source": [
    "df1.groupby(['ur_or_neigh','has_ur_new']).count().to_csv('Results/has_ur_vs_neigh.csv')"
   ]
  },
  {
   "cell_type": "markdown",
   "metadata": {},
   "source": [
    "# 2. Label each tract by HOLC label"
   ]
  },
  {
   "cell_type": "code",
   "execution_count": 267,
   "metadata": {},
   "outputs": [],
   "source": [
    "sql = '''\n",
    "select * from holc_all_dump_4326\n",
    "'''\n",
    "holc = gpd.GeoDataFrame.from_postgis(sql, conn,crs={'init':'epsg:4326'}, geom_col='geometry' )\n",
    "\n",
    "holc['holc_area'] = holc.to_crs(\"EPSG:3857\").area\n",
    "\n",
    "holc['HOLC_Grade'].replace('Blue','B',inplace=True)\n",
    "holc['HOLC_Grade'].replace('Green','A',inplace=True)\n",
    "holc['HOLC_Grade'].replace('Red','D',inplace=True)\n",
    "holc['HOLC_Grade'].replace('Yellow','C',inplace=True)\n",
    "holc.loc[holc['HOLC_Grade'].isna(),'HOLC_Grade'] = 'no_grade'"
   ]
  },
  {
   "cell_type": "code",
   "execution_count": 268,
   "metadata": {},
   "outputs": [],
   "source": [
    "df1_1940 = df1[df1['year']==1940]"
   ]
  },
  {
   "cell_type": "code",
   "execution_count": 269,
   "metadata": {},
   "outputs": [],
   "source": [
    "df1_1940['tract_area'] = df1_1940.to_crs(\"EPSG:3857\").area"
   ]
  },
  {
   "cell_type": "code",
   "execution_count": 270,
   "metadata": {},
   "outputs": [],
   "source": [
    "df1_1940_pieces = gpd.overlay(df1_1940[['geom', 'gisjoin','tract_area']], holc.to_crs(\"EPSG:4326\"), how='intersection')\n",
    "\n",
    "df1_1940_pieces = df1_1940_pieces[df1_1940_pieces.HOLC_Grade.isin(['C', 'D', 'B', 'A'])]\n",
    "df1_1940_pieces['perc_tract'] = df1_1940_pieces.to_crs({'init':'epsg:3857'}).area/df1_1940_pieces['tract_area']\n",
    "df1_1940_pieces['perc_holc'] = df1_1940_pieces.to_crs({'init':'epsg:3857'}).area/df1_1940_pieces['holc_area']"
   ]
  },
  {
   "cell_type": "code",
   "execution_count": 271,
   "metadata": {},
   "outputs": [],
   "source": [
    "df1_1940_pieces_tracts  =df1_1940_pieces.sort_values(['gisjoin','perc_tract']).groupby('gisjoin').tail(1)\n",
    "df1_1940_pieces_holc  =df1_1940_pieces.sort_values(['gisjoin','perc_holc']).groupby('gisjoin').tail(1)"
   ]
  },
  {
   "cell_type": "code",
   "execution_count": 272,
   "metadata": {},
   "outputs": [],
   "source": [
    "df1_1940_pieces1 = df1_1940_pieces.sort_values(['gisjoin','perc_tract'],ascending=False).groupby('gisjoin').first().reset_index()"
   ]
  },
  {
   "cell_type": "code",
   "execution_count": 273,
   "metadata": {},
   "outputs": [],
   "source": [
    "tract_thres = 0.25\n",
    "df1_1940_holc = df1_1940[df1_1940.gisjoin.isin(\n",
    "                                        df1_1940_pieces[df1_1940_pieces['perc_tract']>tract_thres].gisjoin)]\\\n",
    "                                .merge(df1_1940_pieces1[['gisjoin','map_id','HOLC_ID','map_name','HOLC_Grade','HOLC_Lette','name']],on='gisjoin')"
   ]
  },
  {
   "cell_type": "code",
   "execution_count": 274,
   "metadata": {},
   "outputs": [],
   "source": [
    "df1_1940_holc[df1_1940_holc.geom.is_valid==False].geometry = df1_1940_holc[df1_1940_holc.geom.is_valid==False].buffer(0)"
   ]
  },
  {
   "cell_type": "code",
   "execution_count": 275,
   "metadata": {},
   "outputs": [],
   "source": [
    "df1_1940_holc.to_postgis('ur_tract_1940_holc', engine, if_exists='replace', index=False, \n",
    "                         dtype={'geom': Geometry('MultiPolygon', srid= 4326)})"
   ]
  },
  {
   "cell_type": "markdown",
   "metadata": {},
   "source": [
    "Merge back to longitudinal data"
   ]
  },
  {
   "cell_type": "code",
   "execution_count": 276,
   "metadata": {},
   "outputs": [],
   "source": [
    "df2 = df1.merge(df1_1940_holc[['gisjoin','tract_area', 'map_id', 'HOLC_ID',\n",
    "       'map_name', 'HOLC_Grade', 'HOLC_Lette', 'name']],on='gisjoin',how='left')\n",
    "\n",
    "## Replace 0 with NaN WHY AM I DOING THIS?\n",
    "df2.loc[df2.median_homevalue_adj==0,'median_homevalue_adj']=np.nan\n",
    "df2.loc[df2.owned_perc==0,'owned_perc']=np.nan\n",
    "# df3.loc[df3.white_perc==0,'white_perc']=np.nan\n",
    "# df3.loc[df3.college_perc==0,'college_perc']=np.nan\n",
    "\n",
    "df2.loc[df2['HOLC_Grade'].isna(),'HOLC_Grade'] = 'no_grade'\n",
    "\n",
    "df2['state_name'] = df2['gisjoin'].apply(lambda x: fips_codes[fips_codes['State']==x[:3][1:]]['Name'].values[0])"
   ]
  },
  {
   "cell_type": "markdown",
   "metadata": {},
   "source": [
    "Fix the strange missing data issue in 1950 median income"
   ]
  },
  {
   "cell_type": "code",
   "execution_count": 278,
   "metadata": {},
   "outputs": [],
   "source": [
    "infl = cpi[cpi['Year']==2010]['CPI'].values[0]/cpi[cpi['Year']==1950]['CPI'].values[0]\n",
    "df2.loc[(df2['year']==1950),'median_homevalue_adj'] =df2.loc[(df2['year']==1950),'median_homevalue']\n"
   ]
  },
  {
   "cell_type": "code",
   "execution_count": 279,
   "metadata": {},
   "outputs": [],
   "source": [
    "df2_std_state = pd.concat([df2[['year','state_name','HOLC_Grade','map_name','gisjoin','has_ur_new','ur_or_neigh','is_neigh']],\n",
    "                           df2.groupby(['year','state_name'])[['nonwhite_perc', 'owned_perc',\n",
    "       'median_homevalue', 'median_homevalue_adj', 'median_income',\n",
    "       'median_income_adj', 'pop_dens', 'population', 'homes', 'college_perc',\n",
    "       'ln_nonwhite', 'ln_nonwhite_perc', 'ln_median_income_adj',\n",
    "       'ln_median_homevalue_adj', 'ln_median_income', 'ln_median_homevalue',\n",
    "       'ln_pop_dens', 'ln_population', 'ln_college_perc',]].apply(stdarize)],axis=1)"
   ]
  },
  {
   "cell_type": "markdown",
   "metadata": {},
   "source": [
    "Merge back to cross sectional data"
   ]
  },
  {
   "cell_type": "code",
   "execution_count": 280,
   "metadata": {},
   "outputs": [],
   "source": [
    "df_holc = df.merge(df1_1940_holc[['gisjoin','tract_area', 'map_id', 'HOLC_ID',\n",
    "       'map_name', 'HOLC_Grade', 'HOLC_Lette', 'name']],on='gisjoin',how='left')\n",
    "\n",
    "df_holc.loc[df_holc['HOLC_Grade'].isna(),'HOLC_Grade'] = 'no_grade'\n",
    "\n",
    "df_holc['state_name'] = df_holc['gisjoin'].apply(lambda x: fips_codes[fips_codes['State']==x[:3][1:]]['Name'].values[0])\n",
    "# df_holc.loc[df_holc['median_homevalue_adj']==0,'median_homevalue_adj']=np.nan\n",
    "# df_holc.loc[df_holc['owned_perc']==0,'owned_perc']=np.nan\n",
    "# df2.loc[df_holc.white_perc==0,'white_perc']=np.nan\n",
    "# df2.loc[df_holc.college_perc==0,'college_perc']=np.nan"
   ]
  },
  {
   "cell_type": "markdown",
   "metadata": {},
   "source": [
    "Remove outliers and extra columns"
   ]
  },
  {
   "cell_type": "code",
   "execution_count": 281,
   "metadata": {},
   "outputs": [],
   "source": [
    "df_holc= df_holc[df_holc.columns[df_holc.columns.str.contains('_y')==False]]"
   ]
  },
  {
   "cell_type": "code",
   "execution_count": 282,
   "metadata": {},
   "outputs": [],
   "source": [
    "df_holc.groupby(['has_ur_new','HOLC_Grade']).count()['level_0'].to_csv('results/breakdown_counts.csv')"
   ]
  },
  {
   "cell_type": "code",
   "execution_count": 295,
   "metadata": {},
   "outputs": [
    {
     "ename": "KeyboardInterrupt",
     "evalue": "",
     "output_type": "error",
     "traceback": [
      "\u001b[0;31m---------------------------------------------------------------------------\u001b[0m",
      "\u001b[0;31mKeyboardInterrupt\u001b[0m                         Traceback (most recent call last)",
      "Cell \u001b[0;32mIn [295], line 1\u001b[0m\n\u001b[0;32m----> 1\u001b[0m \u001b[43mdf_holc\u001b[49m\u001b[38;5;241;43m.\u001b[39;49m\u001b[43mto_postgis\u001b[49m\u001b[43m(\u001b[49m\u001b[38;5;124;43m'\u001b[39;49m\u001b[38;5;124;43mur_tracts_final_holc\u001b[39;49m\u001b[38;5;124;43m'\u001b[39;49m\u001b[43m,\u001b[49m\u001b[43m \u001b[49m\u001b[43mengine\u001b[49m\u001b[43m,\u001b[49m\u001b[43m \u001b[49m\u001b[43mif_exists\u001b[49m\u001b[38;5;241;43m=\u001b[39;49m\u001b[38;5;124;43m'\u001b[39;49m\u001b[38;5;124;43mreplace\u001b[39;49m\u001b[38;5;124;43m'\u001b[39;49m\u001b[43m,\u001b[49m\u001b[43m \u001b[49m\u001b[43mindex\u001b[49m\u001b[38;5;241;43m=\u001b[39;49m\u001b[38;5;28;43;01mFalse\u001b[39;49;00m\u001b[43m,\u001b[49m\u001b[43m \u001b[49m\n\u001b[1;32m      2\u001b[0m \u001b[43m                         \u001b[49m\u001b[43mdtype\u001b[49m\u001b[38;5;241;43m=\u001b[39;49m\u001b[43m{\u001b[49m\u001b[38;5;124;43m'\u001b[39;49m\u001b[38;5;124;43mgeom\u001b[39;49m\u001b[38;5;124;43m'\u001b[39;49m\u001b[43m:\u001b[49m\u001b[43m \u001b[49m\u001b[43mGeometry\u001b[49m\u001b[43m(\u001b[49m\u001b[38;5;124;43m'\u001b[39;49m\u001b[38;5;124;43mMultiPolygon\u001b[39;49m\u001b[38;5;124;43m'\u001b[39;49m\u001b[43m,\u001b[49m\u001b[43m \u001b[49m\u001b[43msrid\u001b[49m\u001b[38;5;241;43m=\u001b[39;49m\u001b[43m \u001b[49m\u001b[38;5;241;43m4326\u001b[39;49m\u001b[43m)\u001b[49m\u001b[43m}\u001b[49m\u001b[43m)\u001b[49m\n",
      "File \u001b[0;32m~/anaconda3/envs/gds_py/lib/python3.9/site-packages/geopandas/geodataframe.py:1931\u001b[0m, in \u001b[0;36mGeoDataFrame.to_postgis\u001b[0;34m(self, name, con, schema, if_exists, index, index_label, chunksize, dtype)\u001b[0m\n\u001b[1;32m   1871\u001b[0m \u001b[38;5;28;01mdef\u001b[39;00m \u001b[38;5;21mto_postgis\u001b[39m(\n\u001b[1;32m   1872\u001b[0m     \u001b[38;5;28mself\u001b[39m,\n\u001b[1;32m   1873\u001b[0m     name,\n\u001b[0;32m   (...)\u001b[0m\n\u001b[1;32m   1880\u001b[0m     dtype\u001b[38;5;241m=\u001b[39m\u001b[38;5;28;01mNone\u001b[39;00m,\n\u001b[1;32m   1881\u001b[0m ):\n\u001b[1;32m   1882\u001b[0m     \u001b[38;5;124;03m\"\"\"\u001b[39;00m\n\u001b[1;32m   1883\u001b[0m \u001b[38;5;124;03m    Upload GeoDataFrame into PostGIS database.\u001b[39;00m\n\u001b[1;32m   1884\u001b[0m \n\u001b[0;32m   (...)\u001b[0m\n\u001b[1;32m   1929\u001b[0m \n\u001b[1;32m   1930\u001b[0m \u001b[38;5;124;03m    \"\"\"\u001b[39;00m\n\u001b[0;32m-> 1931\u001b[0m     \u001b[43mgeopandas\u001b[49m\u001b[38;5;241;43m.\u001b[39;49m\u001b[43mio\u001b[49m\u001b[38;5;241;43m.\u001b[39;49m\u001b[43msql\u001b[49m\u001b[38;5;241;43m.\u001b[39;49m\u001b[43m_write_postgis\u001b[49m\u001b[43m(\u001b[49m\n\u001b[1;32m   1932\u001b[0m \u001b[43m        \u001b[49m\u001b[38;5;28;43mself\u001b[39;49m\u001b[43m,\u001b[49m\u001b[43m \u001b[49m\u001b[43mname\u001b[49m\u001b[43m,\u001b[49m\u001b[43m \u001b[49m\u001b[43mcon\u001b[49m\u001b[43m,\u001b[49m\u001b[43m \u001b[49m\u001b[43mschema\u001b[49m\u001b[43m,\u001b[49m\u001b[43m \u001b[49m\u001b[43mif_exists\u001b[49m\u001b[43m,\u001b[49m\u001b[43m \u001b[49m\u001b[43mindex\u001b[49m\u001b[43m,\u001b[49m\u001b[43m \u001b[49m\u001b[43mindex_label\u001b[49m\u001b[43m,\u001b[49m\u001b[43m \u001b[49m\u001b[43mchunksize\u001b[49m\u001b[43m,\u001b[49m\u001b[43m \u001b[49m\u001b[43mdtype\u001b[49m\n\u001b[1;32m   1933\u001b[0m \u001b[43m    \u001b[49m\u001b[43m)\u001b[49m\n",
      "File \u001b[0;32m~/anaconda3/envs/gds_py/lib/python3.9/site-packages/geopandas/io/sql.py:445\u001b[0m, in \u001b[0;36m_write_postgis\u001b[0;34m(gdf, name, con, schema, if_exists, index, index_label, chunksize, dtype)\u001b[0m\n\u001b[1;32m    441\u001b[0m                 \u001b[38;5;28;01mraise\u001b[39;00m \u001b[38;5;167;01mValueError\u001b[39;00m(msg)\n\u001b[1;32m    443\u001b[0m \u001b[38;5;28;01mwith\u001b[39;00m _get_conn(con) \u001b[38;5;28;01mas\u001b[39;00m connection:\n\u001b[0;32m--> 445\u001b[0m     \u001b[43mgdf\u001b[49m\u001b[38;5;241;43m.\u001b[39;49m\u001b[43mto_sql\u001b[49m\u001b[43m(\u001b[49m\n\u001b[1;32m    446\u001b[0m \u001b[43m        \u001b[49m\u001b[43mname\u001b[49m\u001b[43m,\u001b[49m\n\u001b[1;32m    447\u001b[0m \u001b[43m        \u001b[49m\u001b[43mconnection\u001b[49m\u001b[43m,\u001b[49m\n\u001b[1;32m    448\u001b[0m \u001b[43m        \u001b[49m\u001b[43mschema\u001b[49m\u001b[38;5;241;43m=\u001b[39;49m\u001b[43mschema_name\u001b[49m\u001b[43m,\u001b[49m\n\u001b[1;32m    449\u001b[0m \u001b[43m        \u001b[49m\u001b[43mif_exists\u001b[49m\u001b[38;5;241;43m=\u001b[39;49m\u001b[43mif_exists\u001b[49m\u001b[43m,\u001b[49m\n\u001b[1;32m    450\u001b[0m \u001b[43m        \u001b[49m\u001b[43mindex\u001b[49m\u001b[38;5;241;43m=\u001b[39;49m\u001b[43mindex\u001b[49m\u001b[43m,\u001b[49m\n\u001b[1;32m    451\u001b[0m \u001b[43m        \u001b[49m\u001b[43mindex_label\u001b[49m\u001b[38;5;241;43m=\u001b[39;49m\u001b[43mindex_label\u001b[49m\u001b[43m,\u001b[49m\n\u001b[1;32m    452\u001b[0m \u001b[43m        \u001b[49m\u001b[43mchunksize\u001b[49m\u001b[38;5;241;43m=\u001b[39;49m\u001b[43mchunksize\u001b[49m\u001b[43m,\u001b[49m\n\u001b[1;32m    453\u001b[0m \u001b[43m        \u001b[49m\u001b[43mdtype\u001b[49m\u001b[38;5;241;43m=\u001b[39;49m\u001b[43mdtype\u001b[49m\u001b[43m,\u001b[49m\n\u001b[1;32m    454\u001b[0m \u001b[43m        \u001b[49m\u001b[43mmethod\u001b[49m\u001b[38;5;241;43m=\u001b[39;49m\u001b[43m_psql_insert_copy\u001b[49m\u001b[43m,\u001b[49m\n\u001b[1;32m    455\u001b[0m \u001b[43m    \u001b[49m\u001b[43m)\u001b[49m\n\u001b[1;32m    457\u001b[0m \u001b[38;5;28;01mreturn\u001b[39;00m\n",
      "File \u001b[0;32m~/anaconda3/envs/gds_py/lib/python3.9/site-packages/pandas/core/generic.py:2987\u001b[0m, in \u001b[0;36mNDFrame.to_sql\u001b[0;34m(self, name, con, schema, if_exists, index, index_label, chunksize, dtype, method)\u001b[0m\n\u001b[1;32m   2830\u001b[0m \u001b[38;5;124;03m\"\"\"\u001b[39;00m\n\u001b[1;32m   2831\u001b[0m \u001b[38;5;124;03mWrite records stored in a DataFrame to a SQL database.\u001b[39;00m\n\u001b[1;32m   2832\u001b[0m \n\u001b[0;32m   (...)\u001b[0m\n\u001b[1;32m   2983\u001b[0m \u001b[38;5;124;03m[(1,), (None,), (2,)]\u001b[39;00m\n\u001b[1;32m   2984\u001b[0m \u001b[38;5;124;03m\"\"\"\u001b[39;00m  \u001b[38;5;66;03m# noqa:E501\u001b[39;00m\n\u001b[1;32m   2985\u001b[0m \u001b[38;5;28;01mfrom\u001b[39;00m \u001b[38;5;21;01mpandas\u001b[39;00m\u001b[38;5;21;01m.\u001b[39;00m\u001b[38;5;21;01mio\u001b[39;00m \u001b[38;5;28;01mimport\u001b[39;00m sql\n\u001b[0;32m-> 2987\u001b[0m \u001b[38;5;28;01mreturn\u001b[39;00m \u001b[43msql\u001b[49m\u001b[38;5;241;43m.\u001b[39;49m\u001b[43mto_sql\u001b[49m\u001b[43m(\u001b[49m\n\u001b[1;32m   2988\u001b[0m \u001b[43m    \u001b[49m\u001b[38;5;28;43mself\u001b[39;49m\u001b[43m,\u001b[49m\n\u001b[1;32m   2989\u001b[0m \u001b[43m    \u001b[49m\u001b[43mname\u001b[49m\u001b[43m,\u001b[49m\n\u001b[1;32m   2990\u001b[0m \u001b[43m    \u001b[49m\u001b[43mcon\u001b[49m\u001b[43m,\u001b[49m\n\u001b[1;32m   2991\u001b[0m \u001b[43m    \u001b[49m\u001b[43mschema\u001b[49m\u001b[38;5;241;43m=\u001b[39;49m\u001b[43mschema\u001b[49m\u001b[43m,\u001b[49m\n\u001b[1;32m   2992\u001b[0m \u001b[43m    \u001b[49m\u001b[43mif_exists\u001b[49m\u001b[38;5;241;43m=\u001b[39;49m\u001b[43mif_exists\u001b[49m\u001b[43m,\u001b[49m\n\u001b[1;32m   2993\u001b[0m \u001b[43m    \u001b[49m\u001b[43mindex\u001b[49m\u001b[38;5;241;43m=\u001b[39;49m\u001b[43mindex\u001b[49m\u001b[43m,\u001b[49m\n\u001b[1;32m   2994\u001b[0m \u001b[43m    \u001b[49m\u001b[43mindex_label\u001b[49m\u001b[38;5;241;43m=\u001b[39;49m\u001b[43mindex_label\u001b[49m\u001b[43m,\u001b[49m\n\u001b[1;32m   2995\u001b[0m \u001b[43m    \u001b[49m\u001b[43mchunksize\u001b[49m\u001b[38;5;241;43m=\u001b[39;49m\u001b[43mchunksize\u001b[49m\u001b[43m,\u001b[49m\n\u001b[1;32m   2996\u001b[0m \u001b[43m    \u001b[49m\u001b[43mdtype\u001b[49m\u001b[38;5;241;43m=\u001b[39;49m\u001b[43mdtype\u001b[49m\u001b[43m,\u001b[49m\n\u001b[1;32m   2997\u001b[0m \u001b[43m    \u001b[49m\u001b[43mmethod\u001b[49m\u001b[38;5;241;43m=\u001b[39;49m\u001b[43mmethod\u001b[49m\u001b[43m,\u001b[49m\n\u001b[1;32m   2998\u001b[0m \u001b[43m\u001b[49m\u001b[43m)\u001b[49m\n",
      "File \u001b[0;32m~/anaconda3/envs/gds_py/lib/python3.9/site-packages/pandas/io/sql.py:695\u001b[0m, in \u001b[0;36mto_sql\u001b[0;34m(frame, name, con, schema, if_exists, index, index_label, chunksize, dtype, method, engine, **engine_kwargs)\u001b[0m\n\u001b[1;32m    690\u001b[0m \u001b[38;5;28;01melif\u001b[39;00m \u001b[38;5;129;01mnot\u001b[39;00m \u001b[38;5;28misinstance\u001b[39m(frame, DataFrame):\n\u001b[1;32m    691\u001b[0m     \u001b[38;5;28;01mraise\u001b[39;00m \u001b[38;5;167;01mNotImplementedError\u001b[39;00m(\n\u001b[1;32m    692\u001b[0m         \u001b[38;5;124m\"\u001b[39m\u001b[38;5;124m'\u001b[39m\u001b[38;5;124mframe\u001b[39m\u001b[38;5;124m'\u001b[39m\u001b[38;5;124m argument should be either a Series or a DataFrame\u001b[39m\u001b[38;5;124m\"\u001b[39m\n\u001b[1;32m    693\u001b[0m     )\n\u001b[0;32m--> 695\u001b[0m \u001b[38;5;28;01mreturn\u001b[39;00m \u001b[43mpandas_sql\u001b[49m\u001b[38;5;241;43m.\u001b[39;49m\u001b[43mto_sql\u001b[49m\u001b[43m(\u001b[49m\n\u001b[1;32m    696\u001b[0m \u001b[43m    \u001b[49m\u001b[43mframe\u001b[49m\u001b[43m,\u001b[49m\n\u001b[1;32m    697\u001b[0m \u001b[43m    \u001b[49m\u001b[43mname\u001b[49m\u001b[43m,\u001b[49m\n\u001b[1;32m    698\u001b[0m \u001b[43m    \u001b[49m\u001b[43mif_exists\u001b[49m\u001b[38;5;241;43m=\u001b[39;49m\u001b[43mif_exists\u001b[49m\u001b[43m,\u001b[49m\n\u001b[1;32m    699\u001b[0m \u001b[43m    \u001b[49m\u001b[43mindex\u001b[49m\u001b[38;5;241;43m=\u001b[39;49m\u001b[43mindex\u001b[49m\u001b[43m,\u001b[49m\n\u001b[1;32m    700\u001b[0m \u001b[43m    \u001b[49m\u001b[43mindex_label\u001b[49m\u001b[38;5;241;43m=\u001b[39;49m\u001b[43mindex_label\u001b[49m\u001b[43m,\u001b[49m\n\u001b[1;32m    701\u001b[0m \u001b[43m    \u001b[49m\u001b[43mschema\u001b[49m\u001b[38;5;241;43m=\u001b[39;49m\u001b[43mschema\u001b[49m\u001b[43m,\u001b[49m\n\u001b[1;32m    702\u001b[0m \u001b[43m    \u001b[49m\u001b[43mchunksize\u001b[49m\u001b[38;5;241;43m=\u001b[39;49m\u001b[43mchunksize\u001b[49m\u001b[43m,\u001b[49m\n\u001b[1;32m    703\u001b[0m \u001b[43m    \u001b[49m\u001b[43mdtype\u001b[49m\u001b[38;5;241;43m=\u001b[39;49m\u001b[43mdtype\u001b[49m\u001b[43m,\u001b[49m\n\u001b[1;32m    704\u001b[0m \u001b[43m    \u001b[49m\u001b[43mmethod\u001b[49m\u001b[38;5;241;43m=\u001b[39;49m\u001b[43mmethod\u001b[49m\u001b[43m,\u001b[49m\n\u001b[1;32m    705\u001b[0m \u001b[43m    \u001b[49m\u001b[43mengine\u001b[49m\u001b[38;5;241;43m=\u001b[39;49m\u001b[43mengine\u001b[49m\u001b[43m,\u001b[49m\n\u001b[1;32m    706\u001b[0m \u001b[43m    \u001b[49m\u001b[38;5;241;43m*\u001b[39;49m\u001b[38;5;241;43m*\u001b[39;49m\u001b[43mengine_kwargs\u001b[49m\u001b[43m,\u001b[49m\n\u001b[1;32m    707\u001b[0m \u001b[43m\u001b[49m\u001b[43m)\u001b[49m\n",
      "File \u001b[0;32m~/anaconda3/envs/gds_py/lib/python3.9/site-packages/pandas/io/sql.py:1738\u001b[0m, in \u001b[0;36mSQLDatabase.to_sql\u001b[0;34m(self, frame, name, if_exists, index, index_label, schema, chunksize, dtype, method, engine, **engine_kwargs)\u001b[0m\n\u001b[1;32m   1726\u001b[0m sql_engine \u001b[38;5;241m=\u001b[39m get_engine(engine)\n\u001b[1;32m   1728\u001b[0m table \u001b[38;5;241m=\u001b[39m \u001b[38;5;28mself\u001b[39m\u001b[38;5;241m.\u001b[39mprep_table(\n\u001b[1;32m   1729\u001b[0m     frame\u001b[38;5;241m=\u001b[39mframe,\n\u001b[1;32m   1730\u001b[0m     name\u001b[38;5;241m=\u001b[39mname,\n\u001b[0;32m   (...)\u001b[0m\n\u001b[1;32m   1735\u001b[0m     dtype\u001b[38;5;241m=\u001b[39mdtype,\n\u001b[1;32m   1736\u001b[0m )\n\u001b[0;32m-> 1738\u001b[0m total_inserted \u001b[38;5;241m=\u001b[39m \u001b[43msql_engine\u001b[49m\u001b[38;5;241;43m.\u001b[39;49m\u001b[43minsert_records\u001b[49m\u001b[43m(\u001b[49m\n\u001b[1;32m   1739\u001b[0m \u001b[43m    \u001b[49m\u001b[43mtable\u001b[49m\u001b[38;5;241;43m=\u001b[39;49m\u001b[43mtable\u001b[49m\u001b[43m,\u001b[49m\n\u001b[1;32m   1740\u001b[0m \u001b[43m    \u001b[49m\u001b[43mcon\u001b[49m\u001b[38;5;241;43m=\u001b[39;49m\u001b[38;5;28;43mself\u001b[39;49m\u001b[38;5;241;43m.\u001b[39;49m\u001b[43mconnectable\u001b[49m\u001b[43m,\u001b[49m\n\u001b[1;32m   1741\u001b[0m \u001b[43m    \u001b[49m\u001b[43mframe\u001b[49m\u001b[38;5;241;43m=\u001b[39;49m\u001b[43mframe\u001b[49m\u001b[43m,\u001b[49m\n\u001b[1;32m   1742\u001b[0m \u001b[43m    \u001b[49m\u001b[43mname\u001b[49m\u001b[38;5;241;43m=\u001b[39;49m\u001b[43mname\u001b[49m\u001b[43m,\u001b[49m\n\u001b[1;32m   1743\u001b[0m \u001b[43m    \u001b[49m\u001b[43mindex\u001b[49m\u001b[38;5;241;43m=\u001b[39;49m\u001b[43mindex\u001b[49m\u001b[43m,\u001b[49m\n\u001b[1;32m   1744\u001b[0m \u001b[43m    \u001b[49m\u001b[43mschema\u001b[49m\u001b[38;5;241;43m=\u001b[39;49m\u001b[43mschema\u001b[49m\u001b[43m,\u001b[49m\n\u001b[1;32m   1745\u001b[0m \u001b[43m    \u001b[49m\u001b[43mchunksize\u001b[49m\u001b[38;5;241;43m=\u001b[39;49m\u001b[43mchunksize\u001b[49m\u001b[43m,\u001b[49m\n\u001b[1;32m   1746\u001b[0m \u001b[43m    \u001b[49m\u001b[43mmethod\u001b[49m\u001b[38;5;241;43m=\u001b[39;49m\u001b[43mmethod\u001b[49m\u001b[43m,\u001b[49m\n\u001b[1;32m   1747\u001b[0m \u001b[43m    \u001b[49m\u001b[38;5;241;43m*\u001b[39;49m\u001b[38;5;241;43m*\u001b[39;49m\u001b[43mengine_kwargs\u001b[49m\u001b[43m,\u001b[49m\n\u001b[1;32m   1748\u001b[0m \u001b[43m\u001b[49m\u001b[43m)\u001b[49m\n\u001b[1;32m   1750\u001b[0m \u001b[38;5;28mself\u001b[39m\u001b[38;5;241m.\u001b[39mcheck_case_sensitive(name\u001b[38;5;241m=\u001b[39mname, schema\u001b[38;5;241m=\u001b[39mschema)\n\u001b[1;32m   1751\u001b[0m \u001b[38;5;28;01mreturn\u001b[39;00m total_inserted\n",
      "File \u001b[0;32m~/anaconda3/envs/gds_py/lib/python3.9/site-packages/pandas/io/sql.py:1325\u001b[0m, in \u001b[0;36mSQLAlchemyEngine.insert_records\u001b[0;34m(self, table, con, frame, name, index, schema, chunksize, method, **engine_kwargs)\u001b[0m\n\u001b[1;32m   1322\u001b[0m \u001b[38;5;28;01mfrom\u001b[39;00m \u001b[38;5;21;01msqlalchemy\u001b[39;00m \u001b[38;5;28;01mimport\u001b[39;00m exc\n\u001b[1;32m   1324\u001b[0m \u001b[38;5;28;01mtry\u001b[39;00m:\n\u001b[0;32m-> 1325\u001b[0m     \u001b[38;5;28;01mreturn\u001b[39;00m \u001b[43mtable\u001b[49m\u001b[38;5;241;43m.\u001b[39;49m\u001b[43minsert\u001b[49m\u001b[43m(\u001b[49m\u001b[43mchunksize\u001b[49m\u001b[38;5;241;43m=\u001b[39;49m\u001b[43mchunksize\u001b[49m\u001b[43m,\u001b[49m\u001b[43m \u001b[49m\u001b[43mmethod\u001b[49m\u001b[38;5;241;43m=\u001b[39;49m\u001b[43mmethod\u001b[49m\u001b[43m)\u001b[49m\n\u001b[1;32m   1326\u001b[0m \u001b[38;5;28;01mexcept\u001b[39;00m exc\u001b[38;5;241m.\u001b[39mSQLAlchemyError \u001b[38;5;28;01mas\u001b[39;00m err:\n\u001b[1;32m   1327\u001b[0m     \u001b[38;5;66;03m# GH34431\u001b[39;00m\n\u001b[1;32m   1328\u001b[0m     \u001b[38;5;66;03m# https://stackoverflow.com/a/67358288/6067848\u001b[39;00m\n\u001b[1;32m   1329\u001b[0m     msg \u001b[38;5;241m=\u001b[39m \u001b[38;5;124mr\u001b[39m\u001b[38;5;124m\"\"\"\u001b[39m\u001b[38;5;124m(\u001b[39m\u001b[38;5;124m\\\u001b[39m\u001b[38;5;124m(1054, \u001b[39m\u001b[38;5;124m\"\u001b[39m\u001b[38;5;124mUnknown column \u001b[39m\u001b[38;5;124m'\u001b[39m\u001b[38;5;124minf(e0)?\u001b[39m\u001b[38;5;124m'\u001b[39m\u001b[38;5;124m in \u001b[39m\u001b[38;5;124m'\u001b[39m\u001b[38;5;124mfield list\u001b[39m\u001b[38;5;124m'\u001b[39m\u001b[38;5;124m\"\u001b[39m\u001b[38;5;124m\\\u001b[39m\u001b[38;5;124m))(?#\u001b[39m\n\u001b[1;32m   1330\u001b[0m \u001b[38;5;124m    )|inf can not be used with MySQL\u001b[39m\u001b[38;5;124m\"\"\"\u001b[39m\n",
      "\u001b[0;31mKeyboardInterrupt\u001b[0m: "
     ]
    }
   ],
   "source": [
    "df_holc.to_postgis('ur_tracts_final_holc', engine, if_exists='replace', index=False, \n",
    "                         dtype={'geom': Geometry('MultiPolygon', srid= 4326)})"
   ]
  },
  {
   "cell_type": "markdown",
   "metadata": {},
   "source": [
    "# 3. Contributors to UR "
   ]
  },
  {
   "cell_type": "code",
   "execution_count": 296,
   "metadata": {},
   "outputs": [],
   "source": [
    "from sklearn.linear_model import LogisticRegressionCV,LogisticRegression\n",
    "from sklearn.preprocessing import StandardScaler\n",
    "from sklearn.ensemble import RandomForestClassifier\n",
    "from sklearn.metrics import r2_score\n",
    "from sklearn import model_selection"
   ]
  },
  {
   "cell_type": "code",
   "execution_count": 297,
   "metadata": {},
   "outputs": [],
   "source": [
    "housing_age_cols = ['Total_units_1950', '1940_later_1950', '1930_1939_1950', '1920_1929_1950',       '1910_earlier_1950', '1940_later_perc_1950', '1930_1939_perc_1950',\n",
    "       '1920_1929_perc_1950', '1910_earlier_perc_1950',]"
   ]
  },
  {
   "cell_type": "code",
   "execution_count": 298,
   "metadata": {},
   "outputs": [],
   "source": [
    "X_cols = np.concatenate([df.columns[df.columns.str.contains('1940')],\n",
    "                         df.columns[df.columns.str.contains('1950')]])"
   ]
  },
  {
   "cell_type": "markdown",
   "metadata": {},
   "source": [
    "## 3.1 Correlations"
   ]
  },
  {
   "cell_type": "code",
   "execution_count": 292,
   "metadata": {},
   "outputs": [
    {
     "data": {
      "image/png": "[encoded data removed]",
      "text/plain": [
       "<Figure size 1200x1200 with 2 Axes>"
      ]
     },
     "metadata": {},
     "output_type": "display_data"
    }
   ],
   "source": [
    "fig,ax = plt.subplots(figsize=(12,12))\n",
    "cmap = sns.color_palette('Spectral',as_cmap=True)\n",
    "sns.heatmap(df_holc[X_cols].corr(), center=0,  square=True,\n",
    "            cmap=cmap,cbar_kws={\"shrink\": .5})\n",
    "plt.tight_layout()\n",
    "\n",
    "plt.savefig('Results/all_corr_reg.svg')"
   ]
  },
  {
   "cell_type": "markdown",
   "metadata": {},
   "source": [
    "Remove some of high correlations and keep only certain columns"
   ]
  },
  {
   "cell_type": "markdown",
   "metadata": {},
   "source": [
    "Four regressions: \n",
    "1. All Data\n",
    "2. Just UR and neighbors\n",
    "3. Just UR and neighbors - only D tracts\n",
    "4. Just UR and neighbors - only non-D tracts"
   ]
  },
  {
   "cell_type": "code",
   "execution_count": 299,
   "metadata": {},
   "outputs": [],
   "source": [
    "def clean_data(X,cols_reg):\n",
    "    \n",
    "    ## Clean data\n",
    "    X['median_income_adj_1950'] = X['median_income_adj_1950'].apply(lambda x: np.nan if x ==0 else x)\n",
    "    X['median_homevalue_adj_1950'] = X['median_homevalue_adj_1950'].apply(lambda x: np.nan if x <=5000 else (np.nan if x>=X['median_homevalue_adj_1950'].max() else x))\n",
    "    X = X[X['median_income_adj_1950']<1000000]\n",
    "    X  = X[X['median_homevalue_adj_1950']<1000000]\n",
    "    X = X[X['population_density_1950']<=.1]\n",
    "    X['ln_pop_dens_1950'] = np.log(X['pop_dens_1950']+.000001)\n",
    "    try: \n",
    "        \n",
    "        X['ln_nonwhite_perc_1950_diff'] = np.log(X['nonwhite_perc_1950_diff']+.000001)\n",
    "    except KeyError as e:\n",
    "        \n",
    "        pass\n",
    "    X['ln_white_perc_1950_diff'] = np.log(X['white_perc_1950_diff']+.000001)\n",
    "    X['ln_owned_perc_1950_diff'] = np.log(X['owned_perc_1950_diff']+.000001)\n",
    "    X['ln_population_density_1950_diff']= np.log(X['population_density_1950_diff']+.000001)\n",
    "    X['ln_college_perc_1950_diff']= np.log(X['college_perc_1950_diff']+.000001)\n",
    "\n",
    "    \n",
    "    \n",
    "#     X1 = stdarize(X[cols_reg])\n",
    "    X1 = X.groupby(['state'])[cols_reg].apply(stdarize)\n",
    "    if 'HOLC_Grade' in cols_reg:\n",
    "        X1 =pd.merge(X1.fillna(np.mean(X1)),X[['HOLC_Grade']],left_index=True,right_index=True)\n",
    "    else: \n",
    "        X1 =X1.fillna(np.mean(X1))\n",
    "        \n",
    "#     X1 = X1[cols_reg]\n",
    "    \n",
    "    return X1"
   ]
  },
  {
   "cell_type": "code",
   "execution_count": 300,
   "metadata": {},
   "outputs": [],
   "source": [
    "df_holc['state_name'] = df_holc['state'].apply(lambda x: fips_codes[fips_codes['State']==x]['Name'].values[0])"
   ]
  },
  {
   "cell_type": "markdown",
   "metadata": {},
   "source": [
    "Get nonwhite percentage"
   ]
  },
  {
   "cell_type": "code",
   "execution_count": 301,
   "metadata": {},
   "outputs": [],
   "source": [
    "df_holc['nonwhite_perc_1950'] = 1-df_holc['white_perc_1950']\n",
    "df_holc['nonwhite_perc_1950_diff'] = (1-df_holc['white_1950'])-(1-df_holc['white_1940'])\n",
    "df_holc['college_perc_1950_diff'] = (df_holc['college_perc_1950']- df_holc['college_perc_1940'])"
   ]
  },
  {
   "cell_type": "code",
   "execution_count": 302,
   "metadata": {},
   "outputs": [],
   "source": [
    "from statsmodels.stats.anova import anova_lm\n"
   ]
  },
  {
   "cell_type": "code",
   "execution_count": 303,
   "metadata": {},
   "outputs": [],
   "source": [
    "cols_reg = ['dist_to_center','nonwhite_perc_1950', 'median_homevalue_adj_1950',\n",
    "         'owned_perc_1950',\n",
    "     'teens_earlier_perc_1950',\n",
    "           'ln_pop_dens_1950', 'ln_nonwhite_perc_1950_diff',\n",
    "           'ln_owned_perc_1950_diff', 'population_density_1950_diff','ln_college_perc_1950_diff']"
   ]
  },
  {
   "cell_type": "code",
   "execution_count": 304,
   "metadata": {},
   "outputs": [],
   "source": [
    "## Clean data\n",
    "X= clean_data(df_holc.rename(columns={'1910_earlier_perc_1950':'teens_earlier_perc_1950'}),cols_reg)\n",
    "# ## Dummy\n",
    "holc_grade =df_holc.loc[X.index]['HOLC_Grade']\n",
    "y = df_holc.loc[X.index]['has_ur_new']\n",
    "state = df_holc.loc[X.index]['state_name']\n",
    "df_reg1 = pd.concat([X,y,holc_grade,state],axis=1)\n",
    "\n",
    "\n",
    "## Clean data\n",
    "X_neigh = clean_data(df_holc[df_holc.gisjoin.isin(df1[df1['ur_or_neigh']==True]['gisjoin'])].rename(columns={'1910_earlier_perc_1950':'teens_earlier_perc_1950'}),\n",
    "                     cols_reg)\n",
    "y_neigh = df_holc.loc[X_neigh.index]['has_ur_new']\n",
    "state_neigh = df_holc.loc[X_neigh.index]['state_name']\n",
    "holc_grade_neigh =df_holc.loc[X_neigh.index]['HOLC_Grade']\n",
    "\n",
    "df_reg2 = pd.concat([X_neigh,y_neigh,holc_grade_neigh,state_neigh],axis=1)\n",
    "\n",
    "## Regression formulas\n",
    "f1='has_ur_new ~ ' +' + '.join(cols_reg)+' + nonwhite_perc_1950:median_homevalue_adj_1950'\\\n",
    "+' + teens_earlier_perc_1950:nonwhite_perc_1950+C(state_name)'\n",
    "\n",
    "f1_holc='has_ur_new ~ ' +' + '.join(cols_reg)+' + nonwhite_perc_1950:median_homevalue_adj_1950'\\\n",
    "+' + teens_earlier_perc_1950:nonwhite_perc_1950'+'+C(state_name) + C(HOLC_Grade)'\n",
    "\n",
    "\n",
    "f2='has_ur_new ~ ' +' + '.join(cols_reg)+' + nonwhite_perc_1950:median_homevalue_adj_1950'\\\n",
    "+' + teens_earlier_perc_1950:nonwhite_perc_1950'+' + nonwhite_perc_1950:median_homevalue_adj_1950 +C(HOLC_Grade)+C(state_name)'\n"
   ]
  },
  {
   "cell_type": "code",
   "execution_count": 305,
   "metadata": {},
   "outputs": [
    {
     "data": {
      "image/png": "[encoded data removed]",
      "text/plain": [
       "<Figure size 800x800 with 2 Axes>"
      ]
     },
     "metadata": {},
     "output_type": "display_data"
    }
   ],
   "source": [
    "fig,ax = plt.subplots(figsize=(8,8))\n",
    "cmap = sns.color_palette('Spectral',as_cmap=True)\n",
    "# cmap = sns.diverging_palette(0, 200,s=160,center='light', as_cmap=True)\n",
    "mask = np.triu(np.ones_like(X.corr(), dtype=np.bool))\n",
    "\n",
    "sns.heatmap(X.corr(), center=0,  square=True,mask=mask,annot=True,\n",
    "            cmap=cmap,cbar_kws={\"shrink\": .5},linewidths=.1,linecolor='white')\n",
    "plt.tight_layout()\n",
    "\n",
    "plt.savefig('Results/colsuse_corr_reg.svg')"
   ]
  },
  {
   "cell_type": "markdown",
   "metadata": {},
   "source": [
    "**Standard Logistic**"
   ]
  },
  {
   "cell_type": "markdown",
   "metadata": {},
   "source": [
    "## 3.2 All Data"
   ]
  },
  {
   "cell_type": "code",
   "execution_count": 306,
   "metadata": {},
   "outputs": [
    {
     "name": "stdout",
     "output_type": "stream",
     "text": [
      "Optimization terminated successfully    (Exit mode 0)\n",
      "            Current function value: 0.15000558313033488\n",
      "            Iterations: 389\n",
      "            Function evaluations: 390\n",
      "            Gradient evaluations: 389\n"
     ]
    },
    {
     "data": {
      "text/html": [
       "<table class=\"simpletable\">\n",
       "<caption>Logit Regression Results</caption>\n",
       "<tr>\n",
       "  <th>Dep. Variable:</th>      <td>has_ur_new</td>    <th>  No. Observations:  </th>   <td>  5363</td>  \n",
       "</tr>\n",
       "<tr>\n",
       "  <th>Model:</th>                 <td>Logit</td>      <th>  Df Residuals:      </th>   <td>  5320</td>  \n",
       "</tr>\n",
       "<tr>\n",
       "  <th>Method:</th>                 <td>MLE</td>       <th>  Df Model:          </th>   <td>    42</td>  \n",
       "</tr>\n",
       "<tr>\n",
       "  <th>Date:</th>            <td>Sat, 04 May 2024</td> <th>  Pseudo R-squ.:     </th>   <td>0.3525</td>  \n",
       "</tr>\n",
       "<tr>\n",
       "  <th>Time:</th>                <td>09:53:25</td>     <th>  Log-Likelihood:    </th>  <td> -804.48</td> \n",
       "</tr>\n",
       "<tr>\n",
       "  <th>converged:</th>             <td>True</td>       <th>  LL-Null:           </th>  <td> -1242.5</td> \n",
       "</tr>\n",
       "<tr>\n",
       "  <th>Covariance Type:</th>      <td>cluster</td>     <th>  LLR p-value:       </th> <td>1.788e-156</td>\n",
       "</tr>\n",
       "</table>\n",
       "<table class=\"simpletable\">\n",
       "<tr>\n",
       "                        <td></td>                          <th>coef</th>     <th>std err</th>      <th>z</th>      <th>P>|z|</th>  <th>[0.025</th>    <th>0.975]</th>  \n",
       "</tr>\n",
       "<tr>\n",
       "  <th>Intercept</th>                                    <td>   -3.0166</td> <td>    0.709</td> <td>   -4.253</td> <td> 0.000</td> <td>   -4.407</td> <td>   -1.626</td>\n",
       "</tr>\n",
       "<tr>\n",
       "  <th>C(state_name)[T.California]</th>                  <td>   -1.1582</td> <td>    0.161</td> <td>   -7.194</td> <td> 0.000</td> <td>   -1.474</td> <td>   -0.843</td>\n",
       "</tr>\n",
       "<tr>\n",
       "  <th>C(state_name)[T.Colorado]</th>                    <td>   -0.9917</td> <td>    0.114</td> <td>   -8.701</td> <td> 0.000</td> <td>   -1.215</td> <td>   -0.768</td>\n",
       "</tr>\n",
       "<tr>\n",
       "  <th>C(state_name)[T.Connecticut]</th>                 <td>    2.1365</td> <td>    0.170</td> <td>   12.550</td> <td> 0.000</td> <td>    1.803</td> <td>    2.470</td>\n",
       "</tr>\n",
       "<tr>\n",
       "  <th>C(state_name)[T.District of Columbia]</th>        <td>    2.4144</td> <td>    0.500</td> <td>    4.825</td> <td> 0.000</td> <td>    1.434</td> <td>    3.395</td>\n",
       "</tr>\n",
       "<tr>\n",
       "  <th>C(state_name)[T.Georgia]</th>                     <td>    0.5436</td> <td>    0.077</td> <td>    7.015</td> <td> 0.000</td> <td>    0.392</td> <td>    0.695</td>\n",
       "</tr>\n",
       "<tr>\n",
       "  <th>C(state_name)[T.Illinois]</th>                    <td>   -1.4984</td> <td>    0.149</td> <td>  -10.048</td> <td> 0.000</td> <td>   -1.791</td> <td>   -1.206</td>\n",
       "</tr>\n",
       "<tr>\n",
       "  <th>C(state_name)[T.Indiana]</th>                     <td>   -2.2310</td> <td>    0.151</td> <td>  -14.728</td> <td> 0.000</td> <td>   -2.528</td> <td>   -1.934</td>\n",
       "</tr>\n",
       "<tr>\n",
       "  <th>C(state_name)[T.Kentucky]</th>                    <td>   -0.1704</td> <td>    0.098</td> <td>   -1.736</td> <td> 0.083</td> <td>   -0.363</td> <td>    0.022</td>\n",
       "</tr>\n",
       "<tr>\n",
       "  <th>C(state_name)[T.Louisiana]</th>                   <td>  -17.0716</td> <td>    1.026</td> <td>  -16.639</td> <td> 0.000</td> <td>  -19.083</td> <td>  -15.061</td>\n",
       "</tr>\n",
       "<tr>\n",
       "  <th>C(state_name)[T.Maryland]</th>                    <td>    0.1423</td> <td>    0.111</td> <td>    1.277</td> <td> 0.202</td> <td>   -0.076</td> <td>    0.361</td>\n",
       "</tr>\n",
       "<tr>\n",
       "  <th>C(state_name)[T.Massachusetts]</th>               <td>    1.5783</td> <td>    0.108</td> <td>   14.572</td> <td> 0.000</td> <td>    1.366</td> <td>    1.791</td>\n",
       "</tr>\n",
       "<tr>\n",
       "  <th>C(state_name)[T.Michigan]</th>                    <td>   -0.8854</td> <td>    0.120</td> <td>   -7.398</td> <td> 0.000</td> <td>   -1.120</td> <td>   -0.651</td>\n",
       "</tr>\n",
       "<tr>\n",
       "  <th>C(state_name)[T.Minnesota]</th>                   <td>    0.1703</td> <td>    0.237</td> <td>    0.718</td> <td> 0.473</td> <td>   -0.295</td> <td>    0.635</td>\n",
       "</tr>\n",
       "<tr>\n",
       "  <th>C(state_name)[T.Missouri]</th>                    <td>   -0.9802</td> <td>    0.183</td> <td>   -5.362</td> <td> 0.000</td> <td>   -1.339</td> <td>   -0.622</td>\n",
       "</tr>\n",
       "<tr>\n",
       "  <th>C(state_name)[T.New Jersey]</th>                  <td>   -1.7778</td> <td>    0.102</td> <td>  -17.467</td> <td> 0.000</td> <td>   -1.977</td> <td>   -1.578</td>\n",
       "</tr>\n",
       "<tr>\n",
       "  <th>C(state_name)[T.New York]</th>                    <td>   -4.0249</td> <td>    0.272</td> <td>  -14.782</td> <td> 0.000</td> <td>   -4.559</td> <td>   -3.491</td>\n",
       "</tr>\n",
       "<tr>\n",
       "  <th>C(state_name)[T.Ohio]</th>                        <td>   -0.5549</td> <td>    0.130</td> <td>   -4.268</td> <td> 0.000</td> <td>   -0.810</td> <td>   -0.300</td>\n",
       "</tr>\n",
       "<tr>\n",
       "  <th>C(state_name)[T.Oklahoma]</th>                    <td>    0.6623</td> <td>    0.190</td> <td>    3.480</td> <td> 0.001</td> <td>    0.289</td> <td>    1.035</td>\n",
       "</tr>\n",
       "<tr>\n",
       "  <th>C(state_name)[T.Oregon]</th>                      <td>    0.5807</td> <td>    0.145</td> <td>    3.992</td> <td> 0.000</td> <td>    0.296</td> <td>    0.866</td>\n",
       "</tr>\n",
       "<tr>\n",
       "  <th>C(state_name)[T.Pennsylvania]</th>                <td>    0.0912</td> <td>    0.089</td> <td>    1.027</td> <td> 0.304</td> <td>   -0.083</td> <td>    0.265</td>\n",
       "</tr>\n",
       "<tr>\n",
       "  <th>C(state_name)[T.Rhode Island]</th>                <td>    1.8101</td> <td>    0.530</td> <td>    3.417</td> <td> 0.001</td> <td>    0.772</td> <td>    2.848</td>\n",
       "</tr>\n",
       "<tr>\n",
       "  <th>C(state_name)[T.Tennessee]</th>                   <td>    0.1216</td> <td>    0.237</td> <td>    0.512</td> <td> 0.608</td> <td>   -0.344</td> <td>    0.587</td>\n",
       "</tr>\n",
       "<tr>\n",
       "  <th>C(state_name)[T.Texas]</th>                       <td>   -1.0960</td> <td>    0.220</td> <td>   -4.981</td> <td> 0.000</td> <td>   -1.527</td> <td>   -0.665</td>\n",
       "</tr>\n",
       "<tr>\n",
       "  <th>C(state_name)[T.Virginia]</th>                    <td>    0.5295</td> <td>    0.057</td> <td>    9.322</td> <td> 0.000</td> <td>    0.418</td> <td>    0.641</td>\n",
       "</tr>\n",
       "<tr>\n",
       "  <th>C(state_name)[T.Washington]</th>                  <td>   -2.8805</td> <td>    0.407</td> <td>   -7.076</td> <td> 0.000</td> <td>   -3.678</td> <td>   -2.083</td>\n",
       "</tr>\n",
       "<tr>\n",
       "  <th>C(state_name)[T.Wisconsin]</th>                   <td>   -1.7936</td> <td>    0.129</td> <td>  -13.940</td> <td> 0.000</td> <td>   -2.046</td> <td>   -1.541</td>\n",
       "</tr>\n",
       "<tr>\n",
       "  <th>C(HOLC_Grade)[T.B]</th>                           <td>   -0.0240</td> <td>    0.676</td> <td>   -0.036</td> <td> 0.972</td> <td>   -1.349</td> <td>    1.301</td>\n",
       "</tr>\n",
       "<tr>\n",
       "  <th>C(HOLC_Grade)[T.C]</th>                           <td>   -0.2616</td> <td>    0.795</td> <td>   -0.329</td> <td> 0.742</td> <td>   -1.820</td> <td>    1.296</td>\n",
       "</tr>\n",
       "<tr>\n",
       "  <th>C(HOLC_Grade)[T.D]</th>                           <td>    0.2808</td> <td>    0.888</td> <td>    0.316</td> <td> 0.752</td> <td>   -1.459</td> <td>    2.021</td>\n",
       "</tr>\n",
       "<tr>\n",
       "  <th>C(HOLC_Grade)[T.no_grade]</th>                    <td>   -0.8865</td> <td>    0.885</td> <td>   -1.002</td> <td> 0.316</td> <td>   -2.620</td> <td>    0.847</td>\n",
       "</tr>\n",
       "<tr>\n",
       "  <th>dist_to_center</th>                               <td>   -0.0559</td> <td>    0.093</td> <td>   -0.602</td> <td> 0.547</td> <td>   -0.238</td> <td>    0.126</td>\n",
       "</tr>\n",
       "<tr>\n",
       "  <th>nonwhite_perc_1950</th>                           <td>    0.2509</td> <td>    0.188</td> <td>    1.335</td> <td> 0.182</td> <td>   -0.117</td> <td>    0.619</td>\n",
       "</tr>\n",
       "<tr>\n",
       "  <th>median_homevalue_adj_1950</th>                    <td>   -0.1255</td> <td>    0.156</td> <td>   -0.806</td> <td> 0.420</td> <td>   -0.430</td> <td>    0.180</td>\n",
       "</tr>\n",
       "<tr>\n",
       "  <th>owned_perc_1950</th>                              <td>   -0.5489</td> <td>    0.199</td> <td>   -2.753</td> <td> 0.006</td> <td>   -0.940</td> <td>   -0.158</td>\n",
       "</tr>\n",
       "<tr>\n",
       "  <th>teens_earlier_perc_1950</th>                      <td>    0.8266</td> <td>    0.179</td> <td>    4.621</td> <td> 0.000</td> <td>    0.476</td> <td>    1.177</td>\n",
       "</tr>\n",
       "<tr>\n",
       "  <th>ln_pop_dens_1950</th>                             <td>    0.0018</td> <td>    0.170</td> <td>    0.011</td> <td> 0.991</td> <td>   -0.331</td> <td>    0.334</td>\n",
       "</tr>\n",
       "<tr>\n",
       "  <th>ln_nonwhite_perc_1950_diff</th>                   <td>   -0.1038</td> <td>    0.097</td> <td>   -1.067</td> <td> 0.286</td> <td>   -0.294</td> <td>    0.087</td>\n",
       "</tr>\n",
       "<tr>\n",
       "  <th>ln_owned_perc_1950_diff</th>                      <td>    0.1845</td> <td>    0.136</td> <td>    1.353</td> <td> 0.176</td> <td>   -0.083</td> <td>    0.452</td>\n",
       "</tr>\n",
       "<tr>\n",
       "  <th>population_density_1950_diff</th>                 <td>    0.1577</td> <td>    0.122</td> <td>    1.288</td> <td> 0.198</td> <td>   -0.082</td> <td>    0.398</td>\n",
       "</tr>\n",
       "<tr>\n",
       "  <th>ln_college_perc_1950_diff</th>                    <td>    0.0002</td> <td>    0.078</td> <td>    0.003</td> <td> 0.998</td> <td>   -0.153</td> <td>    0.153</td>\n",
       "</tr>\n",
       "<tr>\n",
       "  <th>nonwhite_perc_1950:median_homevalue_adj_1950</th> <td>   -0.1232</td> <td>    0.126</td> <td>   -0.977</td> <td> 0.328</td> <td>   -0.370</td> <td>    0.124</td>\n",
       "</tr>\n",
       "<tr>\n",
       "  <th>teens_earlier_perc_1950:nonwhite_perc_1950</th>   <td>    0.0267</td> <td>    0.107</td> <td>    0.250</td> <td> 0.803</td> <td>   -0.183</td> <td>    0.236</td>\n",
       "</tr>\n",
       "</table>"
      ],
      "text/plain": [
       "<class 'statsmodels.iolib.summary.Summary'>\n",
       "\"\"\"\n",
       "                           Logit Regression Results                           \n",
       "==============================================================================\n",
       "Dep. Variable:             has_ur_new   No. Observations:                 5363\n",
       "Model:                          Logit   Df Residuals:                     5320\n",
       "Method:                           MLE   Df Model:                           42\n",
       "Date:                Sat, 04 May 2024   Pseudo R-squ.:                  0.3525\n",
       "Time:                        09:53:25   Log-Likelihood:                -804.48\n",
       "converged:                       True   LL-Null:                       -1242.5\n",
       "Covariance Type:              cluster   LLR p-value:                1.788e-156\n",
       "================================================================================================================\n",
       "                                                   coef    std err          z      P>|z|      [0.025      0.975]\n",
       "----------------------------------------------------------------------------------------------------------------\n",
       "Intercept                                       -3.0166      0.709     -4.253      0.000      -4.407      -1.626\n",
       "C(state_name)[T.California]                     -1.1582      0.161     -7.194      0.000      -1.474      -0.843\n",
       "C(state_name)[T.Colorado]                       -0.9917      0.114     -8.701      0.000      -1.215      -0.768\n",
       "C(state_name)[T.Connecticut]                     2.1365      0.170     12.550      0.000       1.803       2.470\n",
       "C(state_name)[T.District of Columbia]            2.4144      0.500      4.825      0.000       1.434       3.395\n",
       "C(state_name)[T.Georgia]                         0.5436      0.077      7.015      0.000       0.392       0.695\n",
       "C(state_name)[T.Illinois]                       -1.4984      0.149    -10.048      0.000      -1.791      -1.206\n",
       "C(state_name)[T.Indiana]                        -2.2310      0.151    -14.728      0.000      -2.528      -1.934\n",
       "C(state_name)[T.Kentucky]                       -0.1704      0.098     -1.736      0.083      -0.363       0.022\n",
       "C(state_name)[T.Louisiana]                     -17.0716      1.026    -16.639      0.000     -19.083     -15.061\n",
       "C(state_name)[T.Maryland]                        0.1423      0.111      1.277      0.202      -0.076       0.361\n",
       "C(state_name)[T.Massachusetts]                   1.5783      0.108     14.572      0.000       1.366       1.791\n",
       "C(state_name)[T.Michigan]                       -0.8854      0.120     -7.398      0.000      -1.120      -0.651\n",
       "C(state_name)[T.Minnesota]                       0.1703      0.237      0.718      0.473      -0.295       0.635\n",
       "C(state_name)[T.Missouri]                       -0.9802      0.183     -5.362      0.000      -1.339      -0.622\n",
       "C(state_name)[T.New Jersey]                     -1.7778      0.102    -17.467      0.000      -1.977      -1.578\n",
       "C(state_name)[T.New York]                       -4.0249      0.272    -14.782      0.000      -4.559      -3.491\n",
       "C(state_name)[T.Ohio]                           -0.5549      0.130     -4.268      0.000      -0.810      -0.300\n",
       "C(state_name)[T.Oklahoma]                        0.6623      0.190      3.480      0.001       0.289       1.035\n",
       "C(state_name)[T.Oregon]                          0.5807      0.145      3.992      0.000       0.296       0.866\n",
       "C(state_name)[T.Pennsylvania]                    0.0912      0.089      1.027      0.304      -0.083       0.265\n",
       "C(state_name)[T.Rhode Island]                    1.8101      0.530      3.417      0.001       0.772       2.848\n",
       "C(state_name)[T.Tennessee]                       0.1216      0.237      0.512      0.608      -0.344       0.587\n",
       "C(state_name)[T.Texas]                          -1.0960      0.220     -4.981      0.000      -1.527      -0.665\n",
       "C(state_name)[T.Virginia]                        0.5295      0.057      9.322      0.000       0.418       0.641\n",
       "C(state_name)[T.Washington]                     -2.8805      0.407     -7.076      0.000      -3.678      -2.083\n",
       "C(state_name)[T.Wisconsin]                      -1.7936      0.129    -13.940      0.000      -2.046      -1.541\n",
       "C(HOLC_Grade)[T.B]                              -0.0240      0.676     -0.036      0.972      -1.349       1.301\n",
       "C(HOLC_Grade)[T.C]                              -0.2616      0.795     -0.329      0.742      -1.820       1.296\n",
       "C(HOLC_Grade)[T.D]                               0.2808      0.888      0.316      0.752      -1.459       2.021\n",
       "C(HOLC_Grade)[T.no_grade]                       -0.8865      0.885     -1.002      0.316      -2.620       0.847\n",
       "dist_to_center                                  -0.0559      0.093     -0.602      0.547      -0.238       0.126\n",
       "nonwhite_perc_1950                               0.2509      0.188      1.335      0.182      -0.117       0.619\n",
       "median_homevalue_adj_1950                       -0.1255      0.156     -0.806      0.420      -0.430       0.180\n",
       "owned_perc_1950                                 -0.5489      0.199     -2.753      0.006      -0.940      -0.158\n",
       "teens_earlier_perc_1950                          0.8266      0.179      4.621      0.000       0.476       1.177\n",
       "ln_pop_dens_1950                                 0.0018      0.170      0.011      0.991      -0.331       0.334\n",
       "ln_nonwhite_perc_1950_diff                      -0.1038      0.097     -1.067      0.286      -0.294       0.087\n",
       "ln_owned_perc_1950_diff                          0.1845      0.136      1.353      0.176      -0.083       0.452\n",
       "population_density_1950_diff                     0.1577      0.122      1.288      0.198      -0.082       0.398\n",
       "ln_college_perc_1950_diff                        0.0002      0.078      0.003      0.998      -0.153       0.153\n",
       "nonwhite_perc_1950:median_homevalue_adj_1950    -0.1232      0.126     -0.977      0.328      -0.370       0.124\n",
       "teens_earlier_perc_1950:nonwhite_perc_1950       0.0267      0.107      0.250      0.803      -0.183       0.236\n",
       "================================================================================================================\n",
       "\"\"\""
      ]
     },
     "execution_count": 306,
     "metadata": {},
     "output_type": "execute_result"
    }
   ],
   "source": [
    "lr = smf.logit(formula=f1_holc,data=df_reg1,missing='drop',).fit_regularized(cov_type='cluster',cov_kwds={'groups': df_reg1['state_name']})\n",
    "#                                                                          'cluster',cov_kwds={'groups': df_reg1['state_name']})\n",
    "lr.summary()"
   ]
  },
  {
   "cell_type": "markdown",
   "metadata": {},
   "source": [
    "## 3.3 Just UR and neighbors"
   ]
  },
  {
   "cell_type": "code",
   "execution_count": 308,
   "metadata": {},
   "outputs": [
    {
     "name": "stdout",
     "output_type": "stream",
     "text": [
      "Optimization terminated successfully    (Exit mode 0)\n",
      "            Current function value: 0.5084937064476327\n",
      "            Iterations: 313\n",
      "            Function evaluations: 313\n",
      "            Gradient evaluations: 313\n"
     ]
    },
    {
     "data": {
      "text/html": [
       "<table class=\"simpletable\">\n",
       "<caption>Logit Regression Results</caption>\n",
       "<tr>\n",
       "  <th>Dep. Variable:</th>      <td>has_ur_new</td>    <th>  No. Observations:  </th>  <td>  1107</td>  \n",
       "</tr>\n",
       "<tr>\n",
       "  <th>Model:</th>                 <td>Logit</td>      <th>  Df Residuals:      </th>  <td>  1064</td>  \n",
       "</tr>\n",
       "<tr>\n",
       "  <th>Method:</th>                 <td>MLE</td>       <th>  Df Model:          </th>  <td>    42</td>  \n",
       "</tr>\n",
       "<tr>\n",
       "  <th>Date:</th>            <td>Sat, 04 May 2024</td> <th>  Pseudo R-squ.:     </th>  <td>0.1555</td>  \n",
       "</tr>\n",
       "<tr>\n",
       "  <th>Time:</th>                <td>09:55:01</td>     <th>  Log-Likelihood:    </th> <td> -562.90</td> \n",
       "</tr>\n",
       "<tr>\n",
       "  <th>converged:</th>             <td>True</td>       <th>  LL-Null:           </th> <td> -666.56</td> \n",
       "</tr>\n",
       "<tr>\n",
       "  <th>Covariance Type:</th>      <td>cluster</td>     <th>  LLR p-value:       </th> <td>1.004e-23</td>\n",
       "</tr>\n",
       "</table>\n",
       "<table class=\"simpletable\">\n",
       "<tr>\n",
       "                        <td></td>                          <th>coef</th>     <th>std err</th>      <th>z</th>      <th>P>|z|</th>  <th>[0.025</th>    <th>0.975]</th>  \n",
       "</tr>\n",
       "<tr>\n",
       "  <th>Intercept</th>                                    <td>   -0.8158</td> <td>    0.749</td> <td>   -1.089</td> <td> 0.276</td> <td>   -2.284</td> <td>    0.652</td>\n",
       "</tr>\n",
       "<tr>\n",
       "  <th>C(state_name)[T.California]</th>                  <td>    0.2021</td> <td>    0.048</td> <td>    4.174</td> <td> 0.000</td> <td>    0.107</td> <td>    0.297</td>\n",
       "</tr>\n",
       "<tr>\n",
       "  <th>C(state_name)[T.Colorado]</th>                    <td>   -0.6005</td> <td>    0.132</td> <td>   -4.550</td> <td> 0.000</td> <td>   -0.859</td> <td>   -0.342</td>\n",
       "</tr>\n",
       "<tr>\n",
       "  <th>C(state_name)[T.Connecticut]</th>                 <td>    2.6132</td> <td>    0.135</td> <td>   19.428</td> <td> 0.000</td> <td>    2.350</td> <td>    2.877</td>\n",
       "</tr>\n",
       "<tr>\n",
       "  <th>C(state_name)[T.District of Columbia]</th>        <td>    2.0200</td> <td>    0.562</td> <td>    3.597</td> <td> 0.000</td> <td>    0.919</td> <td>    3.121</td>\n",
       "</tr>\n",
       "<tr>\n",
       "  <th>C(state_name)[T.Georgia]</th>                     <td>    0.8020</td> <td>    0.060</td> <td>   13.317</td> <td> 0.000</td> <td>    0.684</td> <td>    0.920</td>\n",
       "</tr>\n",
       "<tr>\n",
       "  <th>C(state_name)[T.Illinois]</th>                    <td>   -0.1073</td> <td>    0.059</td> <td>   -1.814</td> <td> 0.070</td> <td>   -0.223</td> <td>    0.009</td>\n",
       "</tr>\n",
       "<tr>\n",
       "  <th>C(state_name)[T.Indiana]</th>                     <td>   -0.4538</td> <td>    0.123</td> <td>   -3.690</td> <td> 0.000</td> <td>   -0.695</td> <td>   -0.213</td>\n",
       "</tr>\n",
       "<tr>\n",
       "  <th>C(state_name)[T.Kentucky]</th>                    <td>    0.3323</td> <td>    0.071</td> <td>    4.665</td> <td> 0.000</td> <td>    0.193</td> <td>    0.472</td>\n",
       "</tr>\n",
       "<tr>\n",
       "  <th>C(state_name)[T.Louisiana]</th>                   <td>  -16.4949</td> <td>    1.044</td> <td>  -15.802</td> <td> 0.000</td> <td>  -18.541</td> <td>  -14.449</td>\n",
       "</tr>\n",
       "<tr>\n",
       "  <th>C(state_name)[T.Maryland]</th>                    <td>    0.7906</td> <td>    0.133</td> <td>    5.962</td> <td> 0.000</td> <td>    0.531</td> <td>    1.051</td>\n",
       "</tr>\n",
       "<tr>\n",
       "  <th>C(state_name)[T.Massachusetts]</th>               <td>    1.9926</td> <td>    0.079</td> <td>   25.221</td> <td> 0.000</td> <td>    1.838</td> <td>    2.147</td>\n",
       "</tr>\n",
       "<tr>\n",
       "  <th>C(state_name)[T.Michigan]</th>                    <td>    0.2464</td> <td>    0.098</td> <td>    2.506</td> <td> 0.012</td> <td>    0.054</td> <td>    0.439</td>\n",
       "</tr>\n",
       "<tr>\n",
       "  <th>C(state_name)[T.Minnesota]</th>                   <td>    0.4728</td> <td>    0.130</td> <td>    3.639</td> <td> 0.000</td> <td>    0.218</td> <td>    0.727</td>\n",
       "</tr>\n",
       "<tr>\n",
       "  <th>C(state_name)[T.Missouri]</th>                    <td>    0.0221</td> <td>    0.099</td> <td>    0.222</td> <td> 0.824</td> <td>   -0.173</td> <td>    0.217</td>\n",
       "</tr>\n",
       "<tr>\n",
       "  <th>C(state_name)[T.New Jersey]</th>                  <td>   -0.1311</td> <td>    0.160</td> <td>   -0.819</td> <td> 0.413</td> <td>   -0.445</td> <td>    0.183</td>\n",
       "</tr>\n",
       "<tr>\n",
       "  <th>C(state_name)[T.New York]</th>                    <td>    1.1387</td> <td>    0.167</td> <td>    6.807</td> <td> 0.000</td> <td>    0.811</td> <td>    1.467</td>\n",
       "</tr>\n",
       "<tr>\n",
       "  <th>C(state_name)[T.Ohio]</th>                        <td>    0.3291</td> <td>    0.075</td> <td>    4.394</td> <td> 0.000</td> <td>    0.182</td> <td>    0.476</td>\n",
       "</tr>\n",
       "<tr>\n",
       "  <th>C(state_name)[T.Oklahoma]</th>                    <td>    1.3452</td> <td>    0.089</td> <td>   15.179</td> <td> 0.000</td> <td>    1.171</td> <td>    1.519</td>\n",
       "</tr>\n",
       "<tr>\n",
       "  <th>C(state_name)[T.Oregon]</th>                      <td>    0.9960</td> <td>    0.118</td> <td>    8.416</td> <td> 0.000</td> <td>    0.764</td> <td>    1.228</td>\n",
       "</tr>\n",
       "<tr>\n",
       "  <th>C(state_name)[T.Pennsylvania]</th>                <td>    0.5823</td> <td>    0.077</td> <td>    7.554</td> <td> 0.000</td> <td>    0.431</td> <td>    0.733</td>\n",
       "</tr>\n",
       "<tr>\n",
       "  <th>C(state_name)[T.Rhode Island]</th>                <td>    1.5912</td> <td>    0.553</td> <td>    2.877</td> <td> 0.004</td> <td>    0.507</td> <td>    2.675</td>\n",
       "</tr>\n",
       "<tr>\n",
       "  <th>C(state_name)[T.Tennessee]</th>                   <td>    0.6990</td> <td>    0.228</td> <td>    3.072</td> <td> 0.002</td> <td>    0.253</td> <td>    1.145</td>\n",
       "</tr>\n",
       "<tr>\n",
       "  <th>C(state_name)[T.Texas]</th>                       <td>   -0.0587</td> <td>    0.126</td> <td>   -0.465</td> <td> 0.642</td> <td>   -0.306</td> <td>    0.189</td>\n",
       "</tr>\n",
       "<tr>\n",
       "  <th>C(state_name)[T.Virginia]</th>                    <td>    0.4328</td> <td>    0.070</td> <td>    6.153</td> <td> 0.000</td> <td>    0.295</td> <td>    0.571</td>\n",
       "</tr>\n",
       "<tr>\n",
       "  <th>C(state_name)[T.Washington]</th>                  <td>   -1.2732</td> <td>    0.216</td> <td>   -5.889</td> <td> 0.000</td> <td>   -1.697</td> <td>   -0.849</td>\n",
       "</tr>\n",
       "<tr>\n",
       "  <th>C(state_name)[T.Wisconsin]</th>                   <td>   -0.9636</td> <td>    0.088</td> <td>  -10.912</td> <td> 0.000</td> <td>   -1.137</td> <td>   -0.791</td>\n",
       "</tr>\n",
       "<tr>\n",
       "  <th>C(HOLC_Grade)[T.B]</th>                           <td>    0.0978</td> <td>    0.691</td> <td>    0.142</td> <td> 0.887</td> <td>   -1.256</td> <td>    1.452</td>\n",
       "</tr>\n",
       "<tr>\n",
       "  <th>C(HOLC_Grade)[T.C]</th>                           <td>   -0.8606</td> <td>    0.775</td> <td>   -1.110</td> <td> 0.267</td> <td>   -2.380</td> <td>    0.659</td>\n",
       "</tr>\n",
       "<tr>\n",
       "  <th>C(HOLC_Grade)[T.D]</th>                           <td>   -0.6364</td> <td>    0.833</td> <td>   -0.764</td> <td> 0.445</td> <td>   -2.268</td> <td>    0.996</td>\n",
       "</tr>\n",
       "<tr>\n",
       "  <th>C(HOLC_Grade)[T.no_grade]</th>                    <td>   -1.6678</td> <td>    1.031</td> <td>   -1.618</td> <td> 0.106</td> <td>   -3.688</td> <td>    0.352</td>\n",
       "</tr>\n",
       "<tr>\n",
       "  <th>dist_to_center</th>                               <td>   -0.0653</td> <td>    0.083</td> <td>   -0.784</td> <td> 0.433</td> <td>   -0.229</td> <td>    0.098</td>\n",
       "</tr>\n",
       "<tr>\n",
       "  <th>nonwhite_perc_1950</th>                           <td>    0.3326</td> <td>    0.116</td> <td>    2.862</td> <td> 0.004</td> <td>    0.105</td> <td>    0.560</td>\n",
       "</tr>\n",
       "<tr>\n",
       "  <th>median_homevalue_adj_1950</th>                    <td>   -0.2342</td> <td>    0.116</td> <td>   -2.021</td> <td> 0.043</td> <td>   -0.461</td> <td>   -0.007</td>\n",
       "</tr>\n",
       "<tr>\n",
       "  <th>owned_perc_1950</th>                              <td>   -0.3205</td> <td>    0.150</td> <td>   -2.137</td> <td> 0.033</td> <td>   -0.614</td> <td>   -0.027</td>\n",
       "</tr>\n",
       "<tr>\n",
       "  <th>teens_earlier_perc_1950</th>                      <td>    0.4131</td> <td>    0.128</td> <td>    3.232</td> <td> 0.001</td> <td>    0.163</td> <td>    0.664</td>\n",
       "</tr>\n",
       "<tr>\n",
       "  <th>ln_pop_dens_1950</th>                             <td>   -0.0433</td> <td>    0.137</td> <td>   -0.315</td> <td> 0.753</td> <td>   -0.312</td> <td>    0.226</td>\n",
       "</tr>\n",
       "<tr>\n",
       "  <th>ln_nonwhite_perc_1950_diff</th>                   <td>   -0.1660</td> <td>    0.081</td> <td>   -2.049</td> <td> 0.040</td> <td>   -0.325</td> <td>   -0.007</td>\n",
       "</tr>\n",
       "<tr>\n",
       "  <th>ln_owned_perc_1950_diff</th>                      <td>    0.1595</td> <td>    0.115</td> <td>    1.384</td> <td> 0.166</td> <td>   -0.066</td> <td>    0.385</td>\n",
       "</tr>\n",
       "<tr>\n",
       "  <th>population_density_1950_diff</th>                 <td>    0.1393</td> <td>    0.124</td> <td>    1.128</td> <td> 0.259</td> <td>   -0.103</td> <td>    0.381</td>\n",
       "</tr>\n",
       "<tr>\n",
       "  <th>ln_college_perc_1950_diff</th>                    <td>    0.0212</td> <td>    0.087</td> <td>    0.245</td> <td> 0.807</td> <td>   -0.149</td> <td>    0.191</td>\n",
       "</tr>\n",
       "<tr>\n",
       "  <th>nonwhite_perc_1950:median_homevalue_adj_1950</th> <td>   -0.1331</td> <td>    0.177</td> <td>   -0.753</td> <td> 0.452</td> <td>   -0.480</td> <td>    0.213</td>\n",
       "</tr>\n",
       "<tr>\n",
       "  <th>teens_earlier_perc_1950:nonwhite_perc_1950</th>   <td>   -0.0190</td> <td>    0.143</td> <td>   -0.133</td> <td> 0.894</td> <td>   -0.299</td> <td>    0.261</td>\n",
       "</tr>\n",
       "</table>"
      ],
      "text/plain": [
       "<class 'statsmodels.iolib.summary.Summary'>\n",
       "\"\"\"\n",
       "                           Logit Regression Results                           \n",
       "==============================================================================\n",
       "Dep. Variable:             has_ur_new   No. Observations:                 1107\n",
       "Model:                          Logit   Df Residuals:                     1064\n",
       "Method:                           MLE   Df Model:                           42\n",
       "Date:                Sat, 04 May 2024   Pseudo R-squ.:                  0.1555\n",
       "Time:                        09:55:01   Log-Likelihood:                -562.90\n",
       "converged:                       True   LL-Null:                       -666.56\n",
       "Covariance Type:              cluster   LLR p-value:                 1.004e-23\n",
       "================================================================================================================\n",
       "                                                   coef    std err          z      P>|z|      [0.025      0.975]\n",
       "----------------------------------------------------------------------------------------------------------------\n",
       "Intercept                                       -0.8158      0.749     -1.089      0.276      -2.284       0.652\n",
       "C(state_name)[T.California]                      0.2021      0.048      4.174      0.000       0.107       0.297\n",
       "C(state_name)[T.Colorado]                       -0.6005      0.132     -4.550      0.000      -0.859      -0.342\n",
       "C(state_name)[T.Connecticut]                     2.6132      0.135     19.428      0.000       2.350       2.877\n",
       "C(state_name)[T.District of Columbia]            2.0200      0.562      3.597      0.000       0.919       3.121\n",
       "C(state_name)[T.Georgia]                         0.8020      0.060     13.317      0.000       0.684       0.920\n",
       "C(state_name)[T.Illinois]                       -0.1073      0.059     -1.814      0.070      -0.223       0.009\n",
       "C(state_name)[T.Indiana]                        -0.4538      0.123     -3.690      0.000      -0.695      -0.213\n",
       "C(state_name)[T.Kentucky]                        0.3323      0.071      4.665      0.000       0.193       0.472\n",
       "C(state_name)[T.Louisiana]                     -16.4949      1.044    -15.802      0.000     -18.541     -14.449\n",
       "C(state_name)[T.Maryland]                        0.7906      0.133      5.962      0.000       0.531       1.051\n",
       "C(state_name)[T.Massachusetts]                   1.9926      0.079     25.221      0.000       1.838       2.147\n",
       "C(state_name)[T.Michigan]                        0.2464      0.098      2.506      0.012       0.054       0.439\n",
       "C(state_name)[T.Minnesota]                       0.4728      0.130      3.639      0.000       0.218       0.727\n",
       "C(state_name)[T.Missouri]                        0.0221      0.099      0.222      0.824      -0.173       0.217\n",
       "C(state_name)[T.New Jersey]                     -0.1311      0.160     -0.819      0.413      -0.445       0.183\n",
       "C(state_name)[T.New York]                        1.1387      0.167      6.807      0.000       0.811       1.467\n",
       "C(state_name)[T.Ohio]                            0.3291      0.075      4.394      0.000       0.182       0.476\n",
       "C(state_name)[T.Oklahoma]                        1.3452      0.089     15.179      0.000       1.171       1.519\n",
       "C(state_name)[T.Oregon]                          0.9960      0.118      8.416      0.000       0.764       1.228\n",
       "C(state_name)[T.Pennsylvania]                    0.5823      0.077      7.554      0.000       0.431       0.733\n",
       "C(state_name)[T.Rhode Island]                    1.5912      0.553      2.877      0.004       0.507       2.675\n",
       "C(state_name)[T.Tennessee]                       0.6990      0.228      3.072      0.002       0.253       1.145\n",
       "C(state_name)[T.Texas]                          -0.0587      0.126     -0.465      0.642      -0.306       0.189\n",
       "C(state_name)[T.Virginia]                        0.4328      0.070      6.153      0.000       0.295       0.571\n",
       "C(state_name)[T.Washington]                     -1.2732      0.216     -5.889      0.000      -1.697      -0.849\n",
       "C(state_name)[T.Wisconsin]                      -0.9636      0.088    -10.912      0.000      -1.137      -0.791\n",
       "C(HOLC_Grade)[T.B]                               0.0978      0.691      0.142      0.887      -1.256       1.452\n",
       "C(HOLC_Grade)[T.C]                              -0.8606      0.775     -1.110      0.267      -2.380       0.659\n",
       "C(HOLC_Grade)[T.D]                              -0.6364      0.833     -0.764      0.445      -2.268       0.996\n",
       "C(HOLC_Grade)[T.no_grade]                       -1.6678      1.031     -1.618      0.106      -3.688       0.352\n",
       "dist_to_center                                  -0.0653      0.083     -0.784      0.433      -0.229       0.098\n",
       "nonwhite_perc_1950                               0.3326      0.116      2.862      0.004       0.105       0.560\n",
       "median_homevalue_adj_1950                       -0.2342      0.116     -2.021      0.043      -0.461      -0.007\n",
       "owned_perc_1950                                 -0.3205      0.150     -2.137      0.033      -0.614      -0.027\n",
       "teens_earlier_perc_1950                          0.4131      0.128      3.232      0.001       0.163       0.664\n",
       "ln_pop_dens_1950                                -0.0433      0.137     -0.315      0.753      -0.312       0.226\n",
       "ln_nonwhite_perc_1950_diff                      -0.1660      0.081     -2.049      0.040      -0.325      -0.007\n",
       "ln_owned_perc_1950_diff                          0.1595      0.115      1.384      0.166      -0.066       0.385\n",
       "population_density_1950_diff                     0.1393      0.124      1.128      0.259      -0.103       0.381\n",
       "ln_college_perc_1950_diff                        0.0212      0.087      0.245      0.807      -0.149       0.191\n",
       "nonwhite_perc_1950:median_homevalue_adj_1950    -0.1331      0.177     -0.753      0.452      -0.480       0.213\n",
       "teens_earlier_perc_1950:nonwhite_perc_1950      -0.0190      0.143     -0.133      0.894      -0.299       0.261\n",
       "================================================================================================================\n",
       "\"\"\""
      ]
     },
     "execution_count": 308,
     "metadata": {},
     "output_type": "execute_result"
    }
   ],
   "source": [
    "# lr_neigh = sm.Logit(y_neigh,sm.add_constant(X_neigh),missing='drop').fit_regularized(cov_type='HC3')\n",
    "lr_neigh = smf.logit(formula=f1_holc, data=df_reg2,missing='drop').fit_regularized(cov_type='cluster',cov_kwds={'groups': df_reg2['state_name']})\n",
    "lr_neigh.summary()\n"
   ]
  },
  {
   "cell_type": "markdown",
   "metadata": {},
   "source": [
    "## 3.4 Just UR and neighbors - just D"
   ]
  },
  {
   "cell_type": "code",
   "execution_count": 144,
   "metadata": {},
   "outputs": [],
   "source": [
    "X_cols_HOLC = ['dist_to_center','nonwhite_perc_1950','median_homevalue_adj_1950', 'owned_perc_1950',\n",
    "            'college_perc_1950',\n",
    "           'teens_earlier_perc_1950','ln_pop_dens_1950',\n",
    "               'ln_white_perc_1950_diff',\n",
    "           'ln_owned_perc_1950_diff', 'ln_population_density_1950_diff','ln_college_perc_1950_diff',\n",
    "    ]"
   ]
  },
  {
   "cell_type": "code",
   "execution_count": 138,
   "metadata": {},
   "outputs": [],
   "source": [
    "df_holc['state_name'] = df_holc['state'].apply(lambda x: fips_codes[fips_codes['State']==x]['Name'].values[0])"
   ]
  },
  {
   "cell_type": "code",
   "execution_count": 139,
   "metadata": {},
   "outputs": [],
   "source": [
    "df_holc['nonwhite_perc_1950'] = (1-df_holc['white_perc_1950'])"
   ]
  },
  {
   "cell_type": "code",
   "execution_count": 197,
   "metadata": {},
   "outputs": [
    {
     "name": "stdout",
     "output_type": "stream",
     "text": [
      "Optimization terminated successfully    (Exit mode 0)\n",
      "            Current function value: 0.6181161988971787\n",
      "            Iterations: 29\n",
      "            Function evaluations: 30\n",
      "            Gradient evaluations: 29\n"
     ]
    },
    {
     "name": "stderr",
     "output_type": "stream",
     "text": [
      "/Users/wenfeixu/anaconda3/envs/gds/lib/python3.8/site-packages/pandas/core/arraylike.py:358: RuntimeWarning: invalid value encountered in log\n",
      "  result = getattr(ufunc, method)(*inputs, **kwargs)\n"
     ]
    },
    {
     "data": {
      "text/html": [
       "<table class=\"simpletable\">\n",
       "<caption>Logit Regression Results</caption>\n",
       "<tr>\n",
       "  <th>Dep. Variable:</th>      <td>has_ur_new</td>    <th>  No. Observations:  </th>  <td>   524</td>  \n",
       "</tr>\n",
       "<tr>\n",
       "  <th>Model:</th>                 <td>Logit</td>      <th>  Df Residuals:      </th>  <td>   511</td>  \n",
       "</tr>\n",
       "<tr>\n",
       "  <th>Method:</th>                 <td>MLE</td>       <th>  Df Model:          </th>  <td>    12</td>  \n",
       "</tr>\n",
       "<tr>\n",
       "  <th>Date:</th>            <td>Mon, 01 Nov 2021</td> <th>  Pseudo R-squ.:     </th>  <td>0.05300</td> \n",
       "</tr>\n",
       "<tr>\n",
       "  <th>Time:</th>                <td>13:55:58</td>     <th>  Log-Likelihood:    </th> <td> -323.89</td> \n",
       "</tr>\n",
       "<tr>\n",
       "  <th>converged:</th>             <td>True</td>       <th>  LL-Null:           </th> <td> -342.02</td> \n",
       "</tr>\n",
       "<tr>\n",
       "  <th>Covariance Type:</th>      <td>cluster</td>     <th>  LLR p-value:       </th> <td>0.0002946</td>\n",
       "</tr>\n",
       "</table>\n",
       "<table class=\"simpletable\">\n",
       "<tr>\n",
       "                        <td></td>                          <th>coef</th>     <th>std err</th>      <th>z</th>      <th>P>|z|</th>  <th>[0.025</th>    <th>0.975]</th>  \n",
       "</tr>\n",
       "<tr>\n",
       "  <th>Intercept</th>                                    <td>   -0.6309</td> <td>    0.166</td> <td>   -3.797</td> <td> 0.000</td> <td>   -0.957</td> <td>   -0.305</td>\n",
       "</tr>\n",
       "<tr>\n",
       "  <th>dist_to_center</th>                               <td>   -0.0729</td> <td>    0.077</td> <td>   -0.946</td> <td> 0.344</td> <td>   -0.224</td> <td>    0.078</td>\n",
       "</tr>\n",
       "<tr>\n",
       "  <th>nonwhite_perc_1950</th>                           <td>    0.3799</td> <td>    0.116</td> <td>    3.285</td> <td> 0.001</td> <td>    0.153</td> <td>    0.607</td>\n",
       "</tr>\n",
       "<tr>\n",
       "  <th>median_homevalue_adj_1950</th>                    <td>   -0.0699</td> <td>    0.112</td> <td>   -0.622</td> <td> 0.534</td> <td>   -0.290</td> <td>    0.150</td>\n",
       "</tr>\n",
       "<tr>\n",
       "  <th>owned_perc_1950</th>                              <td>   -0.2630</td> <td>    0.175</td> <td>   -1.503</td> <td> 0.133</td> <td>   -0.606</td> <td>    0.080</td>\n",
       "</tr>\n",
       "<tr>\n",
       "  <th>teens_earlier_perc_1950</th>                      <td>    0.0759</td> <td>    0.108</td> <td>    0.704</td> <td> 0.481</td> <td>   -0.135</td> <td>    0.287</td>\n",
       "</tr>\n",
       "<tr>\n",
       "  <th>ln_pop_dens_1950</th>                             <td>   -0.1370</td> <td>    0.175</td> <td>   -0.783</td> <td> 0.434</td> <td>   -0.480</td> <td>    0.206</td>\n",
       "</tr>\n",
       "<tr>\n",
       "  <th>ln_nonwhite_perc_1950_diff</th>                   <td>   -0.1271</td> <td>    0.090</td> <td>   -1.414</td> <td> 0.157</td> <td>   -0.303</td> <td>    0.049</td>\n",
       "</tr>\n",
       "<tr>\n",
       "  <th>ln_owned_perc_1950_diff</th>                      <td>    0.1596</td> <td>    0.124</td> <td>    1.290</td> <td> 0.197</td> <td>   -0.083</td> <td>    0.402</td>\n",
       "</tr>\n",
       "<tr>\n",
       "  <th>population_density_1950_diff</th>                 <td>    0.0562</td> <td>    0.103</td> <td>    0.544</td> <td> 0.587</td> <td>   -0.146</td> <td>    0.259</td>\n",
       "</tr>\n",
       "<tr>\n",
       "  <th>ln_college_perc_1950_diff</th>                    <td>   -0.0239</td> <td>    0.112</td> <td>   -0.214</td> <td> 0.830</td> <td>   -0.243</td> <td>    0.195</td>\n",
       "</tr>\n",
       "<tr>\n",
       "  <th>nonwhite_perc_1950:median_homevalue_adj_1950</th> <td>   -0.1495</td> <td>    0.123</td> <td>   -1.213</td> <td> 0.225</td> <td>   -0.391</td> <td>    0.092</td>\n",
       "</tr>\n",
       "<tr>\n",
       "  <th>teens_earlier_perc_1950:nonwhite_perc_1950</th>   <td>    0.0998</td> <td>    0.121</td> <td>    0.822</td> <td> 0.411</td> <td>   -0.138</td> <td>    0.338</td>\n",
       "</tr>\n",
       "</table>"
      ],
      "text/plain": [
       "<class 'statsmodels.iolib.summary.Summary'>\n",
       "\"\"\"\n",
       "                           Logit Regression Results                           \n",
       "==============================================================================\n",
       "Dep. Variable:             has_ur_new   No. Observations:                  524\n",
       "Model:                          Logit   Df Residuals:                      511\n",
       "Method:                           MLE   Df Model:                           12\n",
       "Date:                Mon, 01 Nov 2021   Pseudo R-squ.:                 0.05300\n",
       "Time:                        13:55:58   Log-Likelihood:                -323.89\n",
       "converged:                       True   LL-Null:                       -342.02\n",
       "Covariance Type:              cluster   LLR p-value:                 0.0002946\n",
       "================================================================================================================\n",
       "                                                   coef    std err          z      P>|z|      [0.025      0.975]\n",
       "----------------------------------------------------------------------------------------------------------------\n",
       "Intercept                                       -0.6309      0.166     -3.797      0.000      -0.957      -0.305\n",
       "dist_to_center                                  -0.0729      0.077     -0.946      0.344      -0.224       0.078\n",
       "nonwhite_perc_1950                               0.3799      0.116      3.285      0.001       0.153       0.607\n",
       "median_homevalue_adj_1950                       -0.0699      0.112     -0.622      0.534      -0.290       0.150\n",
       "owned_perc_1950                                 -0.2630      0.175     -1.503      0.133      -0.606       0.080\n",
       "teens_earlier_perc_1950                          0.0759      0.108      0.704      0.481      -0.135       0.287\n",
       "ln_pop_dens_1950                                -0.1370      0.175     -0.783      0.434      -0.480       0.206\n",
       "ln_nonwhite_perc_1950_diff                      -0.1271      0.090     -1.414      0.157      -0.303       0.049\n",
       "ln_owned_perc_1950_diff                          0.1596      0.124      1.290      0.197      -0.083       0.402\n",
       "population_density_1950_diff                     0.0562      0.103      0.544      0.587      -0.146       0.259\n",
       "ln_college_perc_1950_diff                       -0.0239      0.112     -0.214      0.830      -0.243       0.195\n",
       "nonwhite_perc_1950:median_homevalue_adj_1950    -0.1495      0.123     -1.213      0.225      -0.391       0.092\n",
       "teens_earlier_perc_1950:nonwhite_perc_1950       0.0998      0.121      0.822      0.411      -0.138       0.338\n",
       "================================================================================================================\n",
       "\"\"\""
      ]
     },
     "execution_count": 197,
     "metadata": {},
     "output_type": "execute_result"
    }
   ],
   "source": [
    "# X_D = df_holc[df_holc.gisjoin.isin(df2_D['gisjoin'])][X_cols_HOLC]\n",
    "df_D_reg = df_holc[df_holc.gisjoin.isin(df2_D['gisjoin'])].rename(columns={'1910_earlier_perc_1950':'teens_earlier_perc_1950'})\n",
    "\n",
    "X_D = clean_data(df_D_reg,cols_reg)\n",
    "y_D = df_holc.loc[X_D.index]['has_ur_new']\n",
    "\n",
    "state_D= df_D_reg.loc[X_D.index]['state_name']\n",
    "df_reg3 = pd.concat([X_D,y_D,state_D],axis=1)\n",
    "\n",
    "f1_D='has_ur_new ~ ' +' + '.join(cols_reg)+' + nonwhite_perc_1950:median_homevalue_adj_1950 + teens_earlier_perc_1950:nonwhite_perc_1950'\n",
    "\n",
    "# lr_D = sm.Logit(y_D,sm.add_constant(X1_D),missing='drop').fit_regularized(cov='HC3')\n",
    "lr_D1 = smf.logit(f1_D,data=df_reg3,missing='drop').fit_regularized(cov_type='cluster',cov_kwds={'groups': df_reg3['state_name']})\n",
    "y_D1_pred= lr_D1.predict()\n",
    "lr_D1.summary()"
   ]
  },
  {
   "cell_type": "markdown",
   "metadata": {},
   "source": [
    "Just UR and neighbors - just non-D"
   ]
  },
  {
   "cell_type": "code",
   "execution_count": 118,
   "metadata": {},
   "outputs": [],
   "source": [
    "# X_cols_HOLC = ['dist_to_center','nonwhite_perc_1950', \n",
    "# 'median_income_adj_1950',\n",
    "#            'ln_pop_dens_1950',\n",
    "#                'ln_white_perc_1950_diff',\n",
    "#            'ln_owned_perc_1950_diff', 'ln_population_density_1950_diff','ln_college_perc_1950_diff',\n",
    "#     ]\n"
   ]
  },
  {
   "cell_type": "code",
   "execution_count": 311,
   "metadata": {},
   "outputs": [],
   "source": [
    "# X_D = df_holc[df_holc.gisjoin.isin(df2_D['gisjoin'])][X_cols_HOLC]\n",
    "df_nonD_reg = df_holc[df_holc.gisjoin.isin(df2_nonD['gisjoin'])].rename(columns={'1910_earlier_perc_1950':'teens_earlier_perc_1950'})\n",
    "\n",
    "X_nonD = clean_data(df_nonD_reg,cols_reg)\n",
    "y_nonD = df_nonD_reg.loc[X_nonD.index]['has_ur_new']\n",
    "\n",
    "state_nonD= df_nonD_reg.loc[X_nonD.index]['state_name']\n",
    "df_reg4 = pd.concat([X_nonD,y_nonD,state_nonD],axis=1)\n",
    "\n",
    "f1_nonD='has_ur_new ~ ' +' + '.join(cols_reg)+' + nonwhite_perc_1950:median_homevalue_adj_1950 + teens_earlier_perc_1950:nonwhite_perc_1950'\n",
    "# +' + white_perc_1950:college_perc_1950'+' + median_homevalue_adj_1950:college_perc_1950'\\\n",
    "# +' + teens_earlier_perc_1950:white_perc_1950'+' + white_perc_1950:median_homevalue_adj_1950'\n",
    "\n",
    "# lr_D = sm.Logit(y_D,sm.add_constant(X1_D),missing='drop').fit_regularized(cov='HC3')\n",
    "lr_nonD1 = smf.logit(f1_nonD,data=df_reg4,missing='drop').fit_regularized(cov='HC3')\n",
    "#     cov_type='cluster',cov_kwds={'groups': df_reg4['state_name']})\n",
    "lr_nonD1.summary()"
   ]
  },
  {
   "cell_type": "code",
   "execution_count": null,
   "metadata": {},
   "outputs": [],
   "source": []
  }
 ],
 "metadata": {
  "kernelspec": {
   "display_name": "Python 3",
   "language": "python",
   "name": "python3"
  },
  "language_info": {
   "codemirror_mode": {
    "name": "ipython",
    "version": 3
   },
   "file_extension": ".py",
   "mimetype": "text/x-python",
   "name": "python",
   "nbconvert_exporter": "python",
   "pygments_lexer": "ipython3",
   "version": "3.9.13"
  }
 },
 "nbformat": 4,
 "nbformat_minor": 4
}

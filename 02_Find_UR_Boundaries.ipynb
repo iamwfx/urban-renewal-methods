{
 "cells": [
  {
   "cell_type": "code",
   "execution_count": 74,
   "metadata": {
    "tags": []
   },
   "outputs": [],
   "source": [
    "import matplotlib.pyplot as plt\n",
    "import seaborn as sns\n",
    "sns.set_style(\"whitegrid\")\n",
    "sns.set_context(\"paper\")\n",
    "\n",
    "import numpy as np\n",
    "import pandas as pd\n",
    "import geopandas as gpd\n",
    "from geopandas import GeoDataFrame\n",
    "\n",
    "\n",
    "from sqlalchemy import create_engine\n",
    "engine = create_engine('postgresql://user:@localhost:5432/postgres')\n",
    "conn = engine.connect()\n",
    "\n",
    "from geoalchemy2 import Geometry, WKTElement\n",
    "\n",
    "from sklearn import ensemble, neural_network, preprocessing, model_selection,metrics,pipeline, decomposition, cluster,naive_bayes,gaussian_process\n",
    "\n",
    "%matplotlib inline\n"
   ]
  },
  {
   "cell_type": "code",
   "execution_count": 3,
   "metadata": {},
   "outputs": [],
   "source": [
    "df_nyc_use  = gpd.read_file('Final/Data/df_nyc_use.gpkg',driver='GPKG')\n",
    "df_natl_use = gpd.read_file('Final/Data/df_natl_use.gpkg',driver='GPKG')\n",
    "df_all_use2 = gpd.read_file('Final/Data/df_all_use2.geojson')"
   ]
  },
  {
   "cell_type": "code",
   "execution_count": 4,
   "metadata": {},
   "outputs": [],
   "source": [
    "def stdarize(X):\n",
    "    std = np.std(X)\n",
    "    mean = np.mean(X)\n",
    "    \n",
    "    return((X-X.mean())/X.std())"
   ]
  },
  {
   "cell_type": "markdown",
   "metadata": {
    "tags": []
   },
   "source": [
    "# 1. Model UR"
   ]
  },
  {
   "cell_type": "markdown",
   "metadata": {},
   "source": [
    "## 1.1 Train on NYC data and UR data in other cities"
   ]
  },
  {
   "cell_type": "markdown",
   "metadata": {},
   "source": [
    "### 1.1.1 Prep data"
   ]
  },
  {
   "cell_type": "code",
   "execution_count": 5,
   "metadata": {},
   "outputs": [],
   "source": [
    "x_cols1 = [ 'population',\n",
    "       'white', 'white_perc', 'black', 'black_perc', 'other', 'other_perc','median_homevalue_adj','median_income_adj', 'homes', 'college',\n",
    "       'college_perc', 'owned_perc', 'population_density','county_pop']\n",
    "\n",
    "x_cols3 = [ 'dist_to_center','ph_buildings_count','ph_mean_constr_year','ph_total_units_in_tract',\n",
    "    'population_1940',\n",
    "       'white_1940', 'white_perc_1940', 'black_1940', 'black_perc_1940', 'other_1940', 'other_perc_1940',\n",
    "        'median_homevalue_adj_1940', 'homes_1940', 'college_1940',\n",
    "       'college_perc_1940', 'owned_perc_1940', 'population_density_1940',\n",
    "       'population_1950', 'white_1950', 'white_perc_1950', 'black_1950',\n",
    "       'black_perc_1950', 'other_1950', 'other_perc_1950',\n",
    "        'median_homevalue_adj_1950', 'homes_1950',\n",
    "       'college_1950', 'college_perc_1950','median_income_1950','median_income_adj_1950', 'owned_perc_1950', 'population_density_1950','Total_units_1950',\n",
    "       '1940_later_1950', '1930_1939_1950', '1920_1929_1950',\n",
    "       '1910_earlier_1950', '1940_later_perc_1950', '1930_1939_perc_1950',\n",
    "       '1920_1929_perc_1950', '1910_earlier_perc_1950',\n",
    "       'population_1960', 'white_1960', 'white_perc_1960', 'black_1960',\n",
    "       'black_perc_1960', 'other_1960', 'other_perc_1960',\n",
    "       'median_homevalue_1960', 'median_homevalue_adj_1960', 'homes_1960',\n",
    "       'college_1960', 'college_perc_1960', 'median_income_adj_1960',\n",
    "       'median_income_1960', 'owned_perc_1960', 'population_density_1960',\n",
    "           'population_1970', 'white_1970', 'white_perc_1970', 'black_1970',\n",
    "       'black_perc_1970', 'other_1970', 'other_perc_1970',\n",
    "       'median_homevalue_1970', 'median_homevalue_adj_1970', 'homes_1970',\n",
    "       'college_1970', 'college_perc_1970', 'median_income_adj_1970',\n",
    "       'median_income_1970', 'owned_perc_1970', 'population_density_1970',\n",
    "    'population_1980', 'white_1980', 'white_perc_1980', 'black_1980',\n",
    "       'black_perc_1980', 'other_1980', 'other_perc_1980',\n",
    "         'median_homevalue_adj_1980', 'homes_1980',\n",
    "       'college_1980', 'college_perc_1980', 'median_income_adj_1980','median_income_1980','owned_perc_1980', 'population_density_1980',\n",
    "    'county_pop_1980','county_pop_1950','county_pop_1940','county_pop_1960','county_pop_1970',\n",
    "       \n",
    "]\n",
    "\n",
    "housing_age_cols = ['Total_units_1950', '1940_later_1950', '1930_1939_1950', '1920_1929_1950',       '1910_earlier_1950', '1940_later_perc_1950', '1930_1939_perc_1950',\n",
    "       '1920_1929_perc_1950', '1910_earlier_perc_1950',]"
   ]
  },
  {
   "cell_type": "markdown",
   "metadata": {},
   "source": [
    "### 1.1.2 Select a sample of non-UR areas"
   ]
  },
  {
   "cell_type": "code",
   "execution_count": 89,
   "metadata": {},
   "outputs": [],
   "source": [
    "\n",
    "X1 = df_all_use2[x_cols3]+.0000000001\n",
    "\n",
    "## Standardize by State, County\n",
    "X1 = pd.merge(df_all_use2[['state','county']],X1,right_index=True,left_index=True)\n",
    "\n",
    "for c in x_cols1: \n",
    "    if c =='median_income_adj':\n",
    "        X1[c+\"_1960_diff\"] = X1[c+'_1960']-X1[c+'_1950']\n",
    "        X1[c+\"_1970_diff\"] = X1[c+'_1970']-X1[c+'_1960']\n",
    "        X1[c+\"_1980_diff\"] = X1[c+'_1980']-X1[c+'_1970']\n",
    "    else: \n",
    "        X1[c+\"_1950_diff\"] = X1[c+'_1950']-X1[c+'_1940']\n",
    "        X1[c+\"_1960_diff\"] = X1[c+'_1960']-X1[c+'_1950']\n",
    "        X1[c+\"_1970_diff\"] = X1[c+'_1970']-X1[c+'_1960']\n",
    "        X1[c+\"_1980_diff\"] = X1[c+'_1980']-X1[c+'_1970']\n",
    "\n",
    "X1 = X1.groupby(['state','county'])\\\n",
    "        .apply(stdarize)\n",
    "X1.replace([np.inf, -np.inf], np.nan, inplace=True)\n",
    "X1 = X1.fillna(.0000000001)\n",
    "X1 = X1.drop(columns=['state','county'])\n",
    "\n",
    "## Add in a clustering component\n",
    "k=10\n",
    "kmeans = cluster.KMeans(n_clusters=k, init='k-means++')\n",
    "\n",
    "\n",
    "kmeans.fit_transform(X1)\n",
    "X1['label_k{}'.format(k)] = kmeans.fit_predict(X1)\n",
    "X1_dummies= pd.get_dummies(X1['label_k{}'.format(k)],prefix='kmeans')\n",
    "X1_dummies_cols = X1_dummies.columns\n",
    "X1 = pd.concat([X1,X1_dummies],axis=1)\n",
    "\n",
    "## Create a new DF with the dummy vars\n",
    "df_all_use3 = pd.concat([df_all_use2,X1_dummies,X1['label_k{}'.format(k)]],axis=1)\n",
    "df_all_use3[['label_k{}'.format(k),'geometry']].to_postgis('tracts_withlabels', engine, if_exists='replace', index=False, \n",
    "                         dtype={'geom': Geometry('MultiPolygon', srid= 4326)})\n",
    "\n",
    "X1 = pd.merge(df_all_use3[['state','county','has_ur','has_ph','nyc']],X1,right_index=True,left_index=True)\n",
    "\n",
    "# ### Create a sample of the X's that are in NYC or has UR. \n",
    "X1_1 =  X1[X1['nyc']=='yes']\n",
    "X1_2 =  X1[(X1['nyc']=='no')&(X1['has_ur']=='yes')].sample(frac=.6)\n",
    "X1_3 =  X1[(X1['nyc']=='no')&(X1['has_ur']=='no')].sample(frac=.1,random_state=42)\n",
    "\n",
    "## Choose the five tracts furthest away from the city center that does not have UR. \n",
    "X1_3 = X1[(X1['nyc']=='no')&(X1['has_ur']=='no')].sort_values(['state','county','dist_to_center']).groupby(['state','county'],group_keys=False).tail(5)\n",
    "\n",
    "X1_use = pd.concat([X1_1,X1_2,X1_3])\n",
    "# X1 = X1[((X1['state']=='36')&(X1['county'].isin(['005','047','061','081','085'])))|(X1['has_ur']=='yes')]\n",
    "X1_use= X1_use.drop(columns=['state','county','has_ur','nyc','label_k{}'.format(k)])\n",
    "\n",
    "\n",
    "\n",
    "# ## modify original data for any new dropped drows\n",
    "df_all_use4 = df_all_use3.loc[X1_use.index]\n"
   ]
  },
  {
   "cell_type": "code",
   "execution_count": 98,
   "metadata": {},
   "outputs": [
    {
     "data": {
      "text/html": [
       "<div>\n",
       "<style scoped>\n",
       "    .dataframe tbody tr th:only-of-type {\n",
       "        vertical-align: middle;\n",
       "    }\n",
       "\n",
       "    .dataframe tbody tr th {\n",
       "        vertical-align: top;\n",
       "    }\n",
       "\n",
       "    .dataframe thead th {\n",
       "        text-align: right;\n",
       "    }\n",
       "</style>\n",
       "<table border=\"1\" class=\"dataframe\">\n",
       "  <thead>\n",
       "    <tr style=\"text-align: right;\">\n",
       "      <th></th>\n",
       "      <th></th>\n",
       "      <th>level_0</th>\n",
       "      <th>gisjoin</th>\n",
       "      <th>index</th>\n",
       "      <th>gisjoin_1930</th>\n",
       "      <th>count</th>\n",
       "      <th>population_1940</th>\n",
       "      <th>white_1940</th>\n",
       "      <th>white_perc_1940</th>\n",
       "      <th>black_1940</th>\n",
       "      <th>black_perc_1940</th>\n",
       "      <th>...</th>\n",
       "      <th>county_pop_1970</th>\n",
       "      <th>STATE_FIPS</th>\n",
       "      <th>COUNTYFIPS</th>\n",
       "      <th>NAME</th>\n",
       "      <th>ph_buildings_count</th>\n",
       "      <th>ph_mean_constr_year</th>\n",
       "      <th>ph_total_units_in_tract</th>\n",
       "      <th>ph_closest_constr_decade</th>\n",
       "      <th>has_ph</th>\n",
       "      <th>geometry</th>\n",
       "    </tr>\n",
       "    <tr>\n",
       "      <th>state</th>\n",
       "      <th>county</th>\n",
       "      <th></th>\n",
       "      <th></th>\n",
       "      <th></th>\n",
       "      <th></th>\n",
       "      <th></th>\n",
       "      <th></th>\n",
       "      <th></th>\n",
       "      <th></th>\n",
       "      <th></th>\n",
       "      <th></th>\n",
       "      <th></th>\n",
       "      <th></th>\n",
       "      <th></th>\n",
       "      <th></th>\n",
       "      <th></th>\n",
       "      <th></th>\n",
       "      <th></th>\n",
       "      <th></th>\n",
       "      <th></th>\n",
       "      <th></th>\n",
       "      <th></th>\n",
       "    </tr>\n",
       "  </thead>\n",
       "  <tbody>\n",
       "    <tr>\n",
       "      <th>AL</th>\n",
       "      <th>Jefferson</th>\n",
       "      <td>52</td>\n",
       "      <td>52</td>\n",
       "      <td>0</td>\n",
       "      <td>0</td>\n",
       "      <td>0</td>\n",
       "      <td>52</td>\n",
       "      <td>52</td>\n",
       "      <td>52</td>\n",
       "      <td>52</td>\n",
       "      <td>52</td>\n",
       "      <td>...</td>\n",
       "      <td>52</td>\n",
       "      <td>52</td>\n",
       "      <td>52</td>\n",
       "      <td>52</td>\n",
       "      <td>8</td>\n",
       "      <td>8</td>\n",
       "      <td>8</td>\n",
       "      <td>8</td>\n",
       "      <td>52</td>\n",
       "      <td>52</td>\n",
       "    </tr>\n",
       "    <tr>\n",
       "      <th rowspan=\"4\" valign=\"top\">CA</th>\n",
       "      <th>Alameda</th>\n",
       "      <td>117</td>\n",
       "      <td>117</td>\n",
       "      <td>0</td>\n",
       "      <td>0</td>\n",
       "      <td>0</td>\n",
       "      <td>117</td>\n",
       "      <td>117</td>\n",
       "      <td>117</td>\n",
       "      <td>117</td>\n",
       "      <td>117</td>\n",
       "      <td>...</td>\n",
       "      <td>117</td>\n",
       "      <td>117</td>\n",
       "      <td>117</td>\n",
       "      <td>117</td>\n",
       "      <td>3</td>\n",
       "      <td>3</td>\n",
       "      <td>3</td>\n",
       "      <td>3</td>\n",
       "      <td>117</td>\n",
       "      <td>117</td>\n",
       "    </tr>\n",
       "    <tr>\n",
       "      <th>Contra Costa</th>\n",
       "      <td>13</td>\n",
       "      <td>13</td>\n",
       "      <td>0</td>\n",
       "      <td>0</td>\n",
       "      <td>0</td>\n",
       "      <td>13</td>\n",
       "      <td>13</td>\n",
       "      <td>13</td>\n",
       "      <td>13</td>\n",
       "      <td>13</td>\n",
       "      <td>...</td>\n",
       "      <td>13</td>\n",
       "      <td>13</td>\n",
       "      <td>13</td>\n",
       "      <td>13</td>\n",
       "      <td>2</td>\n",
       "      <td>2</td>\n",
       "      <td>2</td>\n",
       "      <td>2</td>\n",
       "      <td>13</td>\n",
       "      <td>13</td>\n",
       "    </tr>\n",
       "    <tr>\n",
       "      <th>Los Angeles</th>\n",
       "      <td>586</td>\n",
       "      <td>586</td>\n",
       "      <td>0</td>\n",
       "      <td>0</td>\n",
       "      <td>0</td>\n",
       "      <td>586</td>\n",
       "      <td>586</td>\n",
       "      <td>586</td>\n",
       "      <td>586</td>\n",
       "      <td>586</td>\n",
       "      <td>...</td>\n",
       "      <td>586</td>\n",
       "      <td>586</td>\n",
       "      <td>586</td>\n",
       "      <td>586</td>\n",
       "      <td>50</td>\n",
       "      <td>50</td>\n",
       "      <td>50</td>\n",
       "      <td>50</td>\n",
       "      <td>586</td>\n",
       "      <td>586</td>\n",
       "    </tr>\n",
       "    <tr>\n",
       "      <th>San Francisco</th>\n",
       "      <td>118</td>\n",
       "      <td>118</td>\n",
       "      <td>0</td>\n",
       "      <td>0</td>\n",
       "      <td>0</td>\n",
       "      <td>118</td>\n",
       "      <td>118</td>\n",
       "      <td>118</td>\n",
       "      <td>118</td>\n",
       "      <td>118</td>\n",
       "      <td>...</td>\n",
       "      <td>118</td>\n",
       "      <td>118</td>\n",
       "      <td>118</td>\n",
       "      <td>118</td>\n",
       "      <td>4</td>\n",
       "      <td>4</td>\n",
       "      <td>4</td>\n",
       "      <td>4</td>\n",
       "      <td>118</td>\n",
       "      <td>118</td>\n",
       "    </tr>\n",
       "    <tr>\n",
       "      <th>...</th>\n",
       "      <th>...</th>\n",
       "      <td>...</td>\n",
       "      <td>...</td>\n",
       "      <td>...</td>\n",
       "      <td>...</td>\n",
       "      <td>...</td>\n",
       "      <td>...</td>\n",
       "      <td>...</td>\n",
       "      <td>...</td>\n",
       "      <td>...</td>\n",
       "      <td>...</td>\n",
       "      <td>...</td>\n",
       "      <td>...</td>\n",
       "      <td>...</td>\n",
       "      <td>...</td>\n",
       "      <td>...</td>\n",
       "      <td>...</td>\n",
       "      <td>...</td>\n",
       "      <td>...</td>\n",
       "      <td>...</td>\n",
       "      <td>...</td>\n",
       "      <td>...</td>\n",
       "    </tr>\n",
       "    <tr>\n",
       "      <th rowspan=\"2\" valign=\"top\">TX</th>\n",
       "      <th>Harris</th>\n",
       "      <td>50</td>\n",
       "      <td>50</td>\n",
       "      <td>0</td>\n",
       "      <td>0</td>\n",
       "      <td>0</td>\n",
       "      <td>50</td>\n",
       "      <td>50</td>\n",
       "      <td>50</td>\n",
       "      <td>50</td>\n",
       "      <td>50</td>\n",
       "      <td>...</td>\n",
       "      <td>50</td>\n",
       "      <td>50</td>\n",
       "      <td>50</td>\n",
       "      <td>50</td>\n",
       "      <td>7</td>\n",
       "      <td>7</td>\n",
       "      <td>7</td>\n",
       "      <td>7</td>\n",
       "      <td>50</td>\n",
       "      <td>50</td>\n",
       "    </tr>\n",
       "    <tr>\n",
       "      <th>Travis</th>\n",
       "      <td>14</td>\n",
       "      <td>14</td>\n",
       "      <td>0</td>\n",
       "      <td>0</td>\n",
       "      <td>0</td>\n",
       "      <td>14</td>\n",
       "      <td>14</td>\n",
       "      <td>14</td>\n",
       "      <td>14</td>\n",
       "      <td>14</td>\n",
       "      <td>...</td>\n",
       "      <td>14</td>\n",
       "      <td>14</td>\n",
       "      <td>14</td>\n",
       "      <td>14</td>\n",
       "      <td>1</td>\n",
       "      <td>1</td>\n",
       "      <td>1</td>\n",
       "      <td>1</td>\n",
       "      <td>14</td>\n",
       "      <td>14</td>\n",
       "    </tr>\n",
       "    <tr>\n",
       "      <th>VA</th>\n",
       "      <th>Richmond (city)</th>\n",
       "      <td>47</td>\n",
       "      <td>47</td>\n",
       "      <td>0</td>\n",
       "      <td>0</td>\n",
       "      <td>0</td>\n",
       "      <td>47</td>\n",
       "      <td>47</td>\n",
       "      <td>47</td>\n",
       "      <td>47</td>\n",
       "      <td>47</td>\n",
       "      <td>...</td>\n",
       "      <td>47</td>\n",
       "      <td>47</td>\n",
       "      <td>47</td>\n",
       "      <td>47</td>\n",
       "      <td>8</td>\n",
       "      <td>8</td>\n",
       "      <td>8</td>\n",
       "      <td>8</td>\n",
       "      <td>47</td>\n",
       "      <td>47</td>\n",
       "    </tr>\n",
       "    <tr>\n",
       "      <th>WA</th>\n",
       "      <th>King</th>\n",
       "      <td>79</td>\n",
       "      <td>79</td>\n",
       "      <td>0</td>\n",
       "      <td>0</td>\n",
       "      <td>0</td>\n",
       "      <td>79</td>\n",
       "      <td>79</td>\n",
       "      <td>79</td>\n",
       "      <td>79</td>\n",
       "      <td>79</td>\n",
       "      <td>...</td>\n",
       "      <td>79</td>\n",
       "      <td>79</td>\n",
       "      <td>79</td>\n",
       "      <td>79</td>\n",
       "      <td>27</td>\n",
       "      <td>27</td>\n",
       "      <td>27</td>\n",
       "      <td>27</td>\n",
       "      <td>79</td>\n",
       "      <td>79</td>\n",
       "    </tr>\n",
       "    <tr>\n",
       "      <th>WI</th>\n",
       "      <th>Milwaukee</th>\n",
       "      <td>153</td>\n",
       "      <td>153</td>\n",
       "      <td>0</td>\n",
       "      <td>0</td>\n",
       "      <td>0</td>\n",
       "      <td>153</td>\n",
       "      <td>153</td>\n",
       "      <td>153</td>\n",
       "      <td>153</td>\n",
       "      <td>153</td>\n",
       "      <td>...</td>\n",
       "      <td>153</td>\n",
       "      <td>153</td>\n",
       "      <td>153</td>\n",
       "      <td>153</td>\n",
       "      <td>64</td>\n",
       "      <td>64</td>\n",
       "      <td>64</td>\n",
       "      <td>64</td>\n",
       "      <td>153</td>\n",
       "      <td>153</td>\n",
       "    </tr>\n",
       "  </tbody>\n",
       "</table>\n",
       "<p>64 rows × 183 columns</p>\n",
       "</div>"
      ],
      "text/plain": [
       "                       level_0  gisjoin  index  gisjoin_1930  count  \\\n",
       "state county                                                          \n",
       "AL    Jefferson             52       52      0             0      0   \n",
       "CA    Alameda              117      117      0             0      0   \n",
       "      Contra Costa          13       13      0             0      0   \n",
       "      Los Angeles          586      586      0             0      0   \n",
       "      San Francisco        118      118      0             0      0   \n",
       "...                        ...      ...    ...           ...    ...   \n",
       "TX    Harris                50       50      0             0      0   \n",
       "      Travis                14       14      0             0      0   \n",
       "VA    Richmond (city)       47       47      0             0      0   \n",
       "WA    King                  79       79      0             0      0   \n",
       "WI    Milwaukee            153      153      0             0      0   \n",
       "\n",
       "                       population_1940  white_1940  white_perc_1940  \\\n",
       "state county                                                          \n",
       "AL    Jefferson                     52          52               52   \n",
       "CA    Alameda                      117         117              117   \n",
       "      Contra Costa                  13          13               13   \n",
       "      Los Angeles                  586         586              586   \n",
       "      San Francisco                118         118              118   \n",
       "...                                ...         ...              ...   \n",
       "TX    Harris                        50          50               50   \n",
       "      Travis                        14          14               14   \n",
       "VA    Richmond (city)               47          47               47   \n",
       "WA    King                          79          79               79   \n",
       "WI    Milwaukee                    153         153              153   \n",
       "\n",
       "                       black_1940  black_perc_1940  ...  county_pop_1970  \\\n",
       "state county                                        ...                    \n",
       "AL    Jefferson                52               52  ...               52   \n",
       "CA    Alameda                 117              117  ...              117   \n",
       "      Contra Costa             13               13  ...               13   \n",
       "      Los Angeles             586              586  ...              586   \n",
       "      San Francisco           118              118  ...              118   \n",
       "...                           ...              ...  ...              ...   \n",
       "TX    Harris                   50               50  ...               50   \n",
       "      Travis                   14               14  ...               14   \n",
       "VA    Richmond (city)          47               47  ...               47   \n",
       "WA    King                     79               79  ...               79   \n",
       "WI    Milwaukee               153              153  ...              153   \n",
       "\n",
       "                       STATE_FIPS  COUNTYFIPS  NAME  ph_buildings_count  \\\n",
       "state county                                                              \n",
       "AL    Jefferson                52          52    52                   8   \n",
       "CA    Alameda                 117         117   117                   3   \n",
       "      Contra Costa             13          13    13                   2   \n",
       "      Los Angeles             586         586   586                  50   \n",
       "      San Francisco           118         118   118                   4   \n",
       "...                           ...         ...   ...                 ...   \n",
       "TX    Harris                   50          50    50                   7   \n",
       "      Travis                   14          14    14                   1   \n",
       "VA    Richmond (city)          47          47    47                   8   \n",
       "WA    King                     79          79    79                  27   \n",
       "WI    Milwaukee               153         153   153                  64   \n",
       "\n",
       "                       ph_mean_constr_year  ph_total_units_in_tract  \\\n",
       "state county                                                          \n",
       "AL    Jefferson                          8                        8   \n",
       "CA    Alameda                            3                        3   \n",
       "      Contra Costa                       2                        2   \n",
       "      Los Angeles                       50                       50   \n",
       "      San Francisco                      4                        4   \n",
       "...                                    ...                      ...   \n",
       "TX    Harris                             7                        7   \n",
       "      Travis                             1                        1   \n",
       "VA    Richmond (city)                    8                        8   \n",
       "WA    King                              27                       27   \n",
       "WI    Milwaukee                         64                       64   \n",
       "\n",
       "                       ph_closest_constr_decade  has_ph  geometry  \n",
       "state county                                                       \n",
       "AL    Jefferson                               8      52        52  \n",
       "CA    Alameda                                 3     117       117  \n",
       "      Contra Costa                            2      13        13  \n",
       "      Los Angeles                            50     586       586  \n",
       "      San Francisco                           4     118       118  \n",
       "...                                         ...     ...       ...  \n",
       "TX    Harris                                  7      50        50  \n",
       "      Travis                                  1      14        14  \n",
       "VA    Richmond (city)                         8      47        47  \n",
       "WA    King                                   27      79        79  \n",
       "WI    Milwaukee                              64     153       153  \n",
       "\n",
       "[64 rows x 183 columns]"
      ]
     },
     "execution_count": 98,
     "metadata": {},
     "output_type": "execute_result"
    }
   ],
   "source": [
    "df_all_use2.groupby(['state','county']).count()"
   ]
  },
  {
   "cell_type": "code",
   "execution_count": 83,
   "metadata": {},
   "outputs": [],
   "source": [
    "### Optional: PCA\n",
    "pca = decomposition.PCA(n_components='mle')\n",
    "X1_use_pca = pca.fit_transform(X1_use)\n",
    "X1_use_pca = X1_use_pca[:,:50]"
   ]
  },
  {
   "cell_type": "markdown",
   "metadata": {},
   "source": [
    "### 1.1.3 Create train test sets"
   ]
  },
  {
   "cell_type": "code",
   "execution_count": 84,
   "metadata": {},
   "outputs": [],
   "source": [
    "y1 = df_all_use4.loc[X1_use.index]['has_ur']\n",
    "y1 = np.array(y1)\n",
    "y1 = [0 if j=='no' else 1 for j in y1]\n",
    "\n",
    "### Only using diffs in the X's\n",
    "X1_use = X1_use[['dist_to_center']+\\\n",
    "                list(X1_use.columns[X1_use.columns.str.contains('diff')])+\\\n",
    "                list(X1_use.columns[X1_use.columns.str.contains('kmeans')])+\\\n",
    "                list(X1_use.columns[X1_use.columns.str.contains('ph')])+\\\n",
    "                ['has_ph']+\n",
    "                housing_age_cols]\n",
    "X_train1, X_test1, y_train1, y_test1 =model_selection.train_test_split(X1_use, y1)\n",
    "\n",
    "X_train1_pca, X_test1_pca,y_train1_pca,y_test1_pca  =model_selection.train_test_split(X1_use_pca, y1)\n",
    "\n",
    "### Create a df just based on the test set for training the model\n",
    "### and gathering results\n",
    "df_all_use4 = df_all_use4.loc[X_test1.index]\n"
   ]
  },
  {
   "cell_type": "markdown",
   "metadata": {},
   "source": [
    "## 3.3 Get the national tracts\n",
    "This will essentially create two types of holdout data: \n",
    "1) Labeled UR data\n",
    "2) Non-labeled data, possibly with UR tracts in it."
   ]
  },
  {
   "cell_type": "code",
   "execution_count": 85,
   "metadata": {},
   "outputs": [],
   "source": [
    "# df_natl_wnyc_use = pd.concat([df_use,df_natl_use]).copy().reset_index()\n",
    "# df_rest = df_all_use2.loc[~df_all_use2.index.isin(X1.index)].copy()\n",
    "df_rest = df_all_use3.copy()\n",
    "\n",
    "\n",
    "X_natl = X1.loc[~X1.index.isin(X1_use.index)]\n",
    "\n",
    "\n",
    "X_natl_ur = X_natl[X_natl['has_ur']=='yes']\n",
    "X_natl_nonur = X_natl[X_natl['has_ur']=='no']\n",
    "\n",
    "X_natl = X_natl.drop(columns=['state','county','has_ur'])\n",
    "X_natl_ur = X_natl_ur.drop(columns=['state','county','has_ur'])\n",
    "X_natl_nonur = X_natl_nonur.drop(columns=['state','county','has_ur'])\n",
    "\n",
    "#######\n",
    "## modify original data for any new dropped drows\n",
    "df_rest1 = df_rest.loc[X_natl.index]\n",
    "df_rest1_ur = df_rest.loc[X_natl_ur.index]\n",
    "df_rest1_nonur = df_rest.loc[X_natl_nonur.index]\n",
    "#######\n",
    "\n",
    "# y = census_1940_nyc_USE_1.apply(lambda x: 1 if x['has_ur_1960']=='yes' else(2 if x['has_ur_1970']=='yes' else 0) ,axis=1)\n",
    "y_natl = df_rest1.loc[X_natl.index]['has_ur']\n",
    "y_natl = [0 if j=='no' else 1 for j in y_natl]\n",
    "\n",
    "y_natl_ur = df_rest1_ur.loc[X_natl_ur.index]['has_ur']\n",
    "y_natl_ur = [0 if j=='no' else 1 for j in y_natl_ur]\n",
    "\n",
    "y_natl_nonur = df_rest1_nonur.loc[X_natl_nonur.index]['has_ur']\n",
    "y_natl_nonur = [0 if j=='no' else 1 for j in y_natl_nonur]\n",
    "\n",
    "X_natl = X_natl[['dist_to_center']+\\\n",
    "                list(X_natl.columns[X_natl.columns.str.contains('diff')])+\\\n",
    "                list(X_natl.columns[X_natl.columns.str.contains('kmeans')])+\\\n",
    "                list(X_natl.columns[X_natl.columns.str.contains('ph')])+\\\n",
    "                ['has_ph']+\n",
    "                housing_age_cols]\n",
    "X_natl_ur = X_natl_ur[['dist_to_center']+\\\n",
    "                      list(X_natl_ur.columns[X_natl_ur.columns.str.contains('diff')])+\\\n",
    "                      list(X_natl_ur.columns[X_natl_ur.columns.str.contains('kmeans')])+\\\n",
    "                      list(X_natl_ur.columns[X_natl_ur.columns.str.contains('ph')])+\\\n",
    "                      ['has_ph']+\n",
    "                      housing_age_cols]\n",
    "X_natl_nonur = X_natl_nonur[['dist_to_center']+\\\n",
    "                        list(X_natl_nonur.columns[X_natl_nonur.columns.str.contains('diff')])+\\\n",
    "                        list(X_natl_nonur.columns[X_natl_nonur.columns.str.contains('kmeans')])+\\\n",
    "                        list(X_natl_nonur.columns[X_natl_nonur.columns.str.contains('ph')])+\\\n",
    "                            ['has_ph']+\n",
    "                            housing_age_cols]\n"
   ]
  },
  {
   "cell_type": "markdown",
   "metadata": {},
   "source": [
    "**Function to automatically update predictions and export geojsons**"
   ]
  },
  {
   "cell_type": "code",
   "execution_count": 86,
   "metadata": {},
   "outputs": [],
   "source": [
    "def update_export_preds(model,suffix=''):\n",
    "    print(model)\n",
    "    df_all_use4['y_pred'] =model.predict(X_test1)\n",
    "    df_all_use4['y_prob_0'] = model.predict_proba(X_test1)[:,0]\n",
    "    df_all_use4['y_prob_1'] = model.predict_proba(X_test1)[:,1]\n",
    "\n",
    "    df_rest1['y_pred'] =model.predict(X_natl)\n",
    "    df_rest1['y_prob_0'] = model.predict_proba(X_natl)[:,0]\n",
    "    df_rest1['y_prob_1'] = model.predict_proba(X_natl)[:,1]\n",
    "    \n",
    "    df_rest1_ur['y_pred'] =model.predict(X_natl_ur)\n",
    "    df_rest1_ur['y_prob_0'] = model.predict_proba(X_natl_ur)[:,0]\n",
    "    df_rest1_ur['y_prob_1'] = model.predict_proba(X_natl_ur)[:,1]\n",
    "    \n",
    "    df_rest1_nonur['y_pred'] =model.predict(X_natl_nonur)\n",
    "    df_rest1_nonur['y_prob_0'] = model.predict_proba(X_natl_nonur)[:,0]\n",
    "    df_rest1_nonur['y_prob_1'] = model.predict_proba(X_natl_nonur)[:,1]\n",
    "    \n",
    "    df_all_use4[['geom','y_pred','y_prob_0','y_prob_1']+\\\n",
    "                list(X1.columns[X1.columns.str.contains('kmeans')])].to_postgis('test_{}'.format(suffix), engine, if_exists='replace', index=False, \n",
    "                         dtype={'geom': Geometry('MultiPolygon', srid= 4326)})\n",
    "\n",
    "    df_rest1[['geom','y_pred','y_prob_0','y_prob_1']].to_postgis('pred_{}'.format(suffix), engine, if_exists='replace', index=False, \n",
    "                         dtype={'geom': Geometry('MultiPolygon', srid= 4326)})\n",
    "    \n",
    "    df_rest1_ur[['geom','y_pred','y_prob_0','y_prob_1']].to_postgis('pred_UR_{}'.format(suffix), engine, if_exists='replace', index=False, \n",
    "                         dtype={'geom': Geometry('MultiPolygon', srid= 4326)})\n",
    "    \n",
    "    df_rest1_nonur[['geom','y_pred','y_prob_0','y_prob_1']].to_postgis('pred_nonUR_{}'.format(suffix), engine, if_exists='replace', index=False, \n",
    "                         dtype={'geom': Geometry('MultiPolygon', srid= 4326)})\n",
    "    \n",
    "    print(\"Export Done\")"
   ]
  },
  {
   "cell_type": "markdown",
   "metadata": {},
   "source": [
    "## 1.2 Check OLS and lasso regression results\n"
   ]
  },
  {
   "cell_type": "code",
   "execution_count": 91,
   "metadata": {},
   "outputs": [],
   "source": [
    "from sklearn.linear_model import LogisticRegression\n",
    "model = LogisticRegression()\n",
    "model.fit(X_train1,y_train1)\n",
    "print(model.score(X_test1,y_test1))"
   ]
  },
  {
   "cell_type": "code",
   "execution_count": 70,
   "metadata": {},
   "outputs": [
    {
     "name": "stdout",
     "output_type": "stream",
     "text": [
      "Test Set Scores:\n",
      " Precision: 0.74 \n",
      "Recall: 0.47 \n",
      "Accuracy: 0.9 \n",
      "F1 weighted: 0.89\n",
      "National Scores:\n",
      " Precision: 0.16 \n",
      "Recall: 0.55 \n",
      "Accuracy: 0.84 \n",
      "F1 weighted: 0.88\n",
      "National UR Scores:\n",
      " Precision: 1.0 \n",
      "Recall: 0.55 \n",
      "Accuracy: 0.55 \n",
      "F1 weighted: 0.71\n",
      "Proportion Predicted As UR from non-UR sample: 0.14437367303609341\n"
     ]
    }
   ],
   "source": [
    "y_pred1 = model.predict(X_test1)\n",
    "df_all_use4['y_pred'] =y_pred1\n",
    "\n",
    "y_prob1 = model.predict_proba(X_test1)\n",
    "df_all_use4['y_prob_0'] = model.predict_proba(X_test1)[:,0]\n",
    "df_all_use4['y_prob_1'] = model.predict_proba(X_test1)[:,1]\n",
    "\n",
    "# sample_weights1 = [1 if x==0 else 10 for x in y_test1]\n",
    "precision1, recall1, _ = metrics.precision_recall_curve(y_test1,y_pred1)\n",
    "accuracy1 = metrics.accuracy_score(y_test1,y_pred1)\n",
    "f11 = metrics.f1_score(y_test1,y_pred1,average='weighted',)\n",
    "print(\"Test Set Scores:\\n\",\"Precision:\",np.round(precision1[1],2),\n",
    "        \"\\nRecall:\",np.round(recall1[1],2),\"\\nAccuracy:\",np.round(accuracy1,2),\"\\nF1 weighted:\",np.round(f11,2))\n",
    "\n",
    "# sample_weights1 = [1 if x==0 else 100 for x in y_test1]\n",
    "# metrics.f1_score(y_test1,y_pred1,average='weighted',sample_weight=sample_weights1)y_pred2 =rf_mdl_estimators.predict(X_natl)\n",
    "y_pred2 =model.predict(X_natl)\n",
    "df_rest1['y_pred'] =y_pred2\n",
    "df_rest1['y_prob_0'] = model.predict_proba(X_natl)[:,0]\n",
    "df_rest1['y_prob_1'] = model.predict_proba(X_natl)[:,1]\n",
    "\n",
    "y_pred2_ur =model.predict(X_natl_ur)\n",
    "df_rest1_ur['y_pred'] =model.predict(X_natl_ur)\n",
    "df_rest1_ur['y_prob_0'] = model.predict_proba(X_natl_ur)[:,0]\n",
    "df_rest1_ur['y_prob_1'] = model.predict_proba(X_natl_ur)[:,1]\n",
    "\n",
    "df_rest1_nonur['y_pred'] =model.predict(X_natl_nonur)\n",
    "df_rest1_nonur['y_prob_0'] = model.predict_proba(X_natl_nonur)[:,0]\n",
    "df_rest1_nonur['y_prob_1'] = model.predict_proba(X_natl_nonur)[:,1]\n",
    "\n",
    "y_pred2_nonur =model.predict(X_natl_nonur)\n",
    "prop_nonur_pred = np.sum(y_pred2_nonur)/len(y_pred2_nonur)\n",
    "\n",
    "precision2, recall2, _ = metrics.precision_recall_curve(y_natl, y_pred2)\n",
    "accuracy2 = metrics.accuracy_score(y_natl,y_pred2)\n",
    "\n",
    "f12 = metrics.f1_score(y_natl,y_pred2,average='weighted',)\n",
    "print(\"National Scores:\\n\",\"Precision:\",np.round(precision2[1],2),\n",
    "        \"\\nRecall:\",np.round(recall2[1],2),\"\\nAccuracy:\",np.round(accuracy2,2),\"\\nF1 weighted:\",np.round(f12,2))\n",
    "\n",
    "\n",
    "precision2_ur, recall2_ur, _ = metrics.precision_recall_curve(y_natl_ur, y_pred2_ur)\n",
    "accuracy2_ur = metrics.accuracy_score(y_natl_ur,y_pred2_ur)\n",
    "\n",
    "f12_ur = metrics.f1_score(y_natl_ur,y_pred2_ur,average='weighted',)\n",
    "print(\"National UR Scores:\\n\",\"Precision:\",np.round(precision2_ur[1],2),\n",
    "        \"\\nRecall:\",np.round(recall2_ur[1],2),\"\\nAccuracy:\",np.round(accuracy2_ur,2),\"\\nF1 weighted:\",np.round(f12_ur,2))\n",
    "\n",
    "print(f'Proportion Predicted As UR from non-UR sample: {prop_nonur_pred}')"
   ]
  },
  {
   "cell_type": "markdown",
   "metadata": {},
   "source": [
    "## 1.3 ML - Hyper-parameter tuning\n",
    "\n",
    "Since we are not sure about the unlabeled data, we'll test this in two steps: \n",
    "- Step 1: Test for just the labeled UR test areas (1's) to get high F1-scores. \n",
    "- Step 2: If step 1 is good, test for the unlabeled tracts. This should produce some areas that are labeled 1...percentage TBD."
   ]
  },
  {
   "cell_type": "markdown",
   "metadata": {},
   "source": [
    "Function for updating predictions and exporting geoms"
   ]
  },
  {
   "cell_type": "markdown",
   "metadata": {},
   "source": [
    "### 3.3.1 Random forest \n",
    "First test for how to weigh classes"
   ]
  },
  {
   "cell_type": "code",
   "execution_count": null,
   "metadata": {},
   "outputs": [],
   "source": [
    "# Number of trees in random forest\n",
    "n_estimators = [int(x) for x in np.linspace(start = 100, stop = 2000, num = 20)]\n",
    "# Number of features to consider at every split\n",
    "max_features = ['log2', 'sqrt',]\n",
    "# Maximum number of levels in tree\n",
    "max_depth = [int(x) for x in np.linspace(5, 110, num = 11)]\n",
    "max_depth.append(None)\n",
    "# Minimum number of samples required to split a node\n",
    "min_samples_split = [2, 5, 10]\n",
    "# Minimum number of samples required at each leaf node\n",
    "min_samples_leaf = [1, 2, 4,10]\n",
    "# Method of selecting samples for training each tree\n",
    "bootstrap = [ False]\n",
    "\n",
    "# Create the random grid\n",
    "random_grid = {'n_estimators': n_estimators,\n",
    "               'max_features': max_features,\n",
    "               'max_depth': max_depth,\n",
    "               'min_samples_split': min_samples_split,\n",
    "               'min_samples_leaf': min_samples_leaf,\n",
    "               'bootstrap': bootstrap}\n",
    "\n",
    "rf_mdl = ensemble.RandomForestClassifier(random_state=42,)\n",
    "\n",
    "rf_random = model_selection.RandomizedSearchCV(estimator = rf_mdl,scoring='f1_weighted', param_distributions = random_grid, n_iter = 100, cv = 3, verbose=2, random_state=42, n_jobs = -1)\n",
    "# Fit the random search model\n",
    "rf_random.fit(X_train1,y_train1)"
   ]
  },
  {
   "cell_type": "code",
   "execution_count": null,
   "metadata": {},
   "outputs": [],
   "source": [
    "# rf_random.best_params_"
   ]
  },
  {
   "cell_type": "code",
   "execution_count": null,
   "metadata": {},
   "outputs": [],
   "source": [
    "# rf_best = rf_random.best_estimator_\n",
    "# update_export_preds(rf_best,'rf')"
   ]
  },
  {
   "cell_type": "code",
   "execution_count": null,
   "metadata": {},
   "outputs": [],
   "source": [
    "# rf_mdl_weights =ensemble.RandomForestClassifier(**rf_random.best_params_)\n",
    "# rf_mdl_weights.fit(X_train1,y_train1)"
   ]
  },
  {
   "cell_type": "markdown",
   "metadata": {},
   "source": [
    "Which were the best params? Results from running the above:\n",
    "```\n",
    "{'n_estimators': 800,\n",
    " 'min_samples_split': 5,\n",
    " 'min_samples_leaf': 1,\n",
    " 'max_features': 'sqrt',\n",
    " 'max_depth': 47,\n",
    " 'bootstrap': False}\n",
    " ```"
   ]
  },
  {
   "cell_type": "markdown",
   "metadata": {},
   "source": [
    "### Create a function to tune the model"
   ]
  },
  {
   "cell_type": "code",
   "execution_count": 60,
   "metadata": {},
   "outputs": [],
   "source": [
    "def tune_model(mdl,xarray,param_name,**params):\n",
    "    test_scores = []\n",
    "    holdout_natl = []\n",
    "    holdout_natl_ur = []\n",
    "    prop_nonur_pred = []\n",
    "\n",
    "    for j in xarray: \n",
    "        params[param_name]=j\n",
    "        print(j)\n",
    "\n",
    "        ### Train the model\n",
    "        model = mdl(**params)\n",
    "#         model.fit(X1_use,y1)\n",
    "        model.fit(X_train1,y_train1)\n",
    "\n",
    "\n",
    "#         ## Get the scores for the test set\n",
    "#         y_pred1 = model.predict(X_test1)\n",
    "\n",
    "#         ## Get the scores for the national test set\n",
    "        y_pred2 =model.predict(X_natl)\n",
    "        y_pred2_ur =model.predict(X_natl_ur)\n",
    "        model.fit(X_train1,y_train1)\n",
    "        y_pred2_nonur =model.predict(X_natl_nonur)\n",
    "\n",
    "        ## Plot the scores' sensitivities. \n",
    "        test_scores.append(np.round(np.mean(model_selection.cross_val_score(estimator=model,\n",
    "                                          X=X1_use,\n",
    "                                          y=y1,\n",
    "                                          cv=3,\n",
    "                                          scoring='f1_weighted')),decimals=3))\n",
    "\n",
    "#         test_scores.append(np.round(metrics.f1_score(y_test1,y_pred1,average='weighted'),decimals=3))\n",
    "        holdout_natl.append(np.round(metrics.f1_score(y_natl,y_pred2,average='weighted'),decimals=3))\n",
    "        holdout_natl_ur.append(np.round(metrics.f1_score(y_natl_ur,y_pred2_ur,average='weighted'),decimals=3))\n",
    "\n",
    "        prop_nonur_pred.append(np.sum(y_pred2_nonur)/len(y_pred2_nonur))\n",
    "    \n",
    "    y_pred1 = model.predict(X_test1)\n",
    "    df_all_use4['y_pred'] =y_pred1\n",
    "\n",
    "    y_prob1 = model.predict_proba(X_test1)\n",
    "    df_all_use4['y_prob_0'] = model.predict_proba(X_test1)[:,0]\n",
    "    df_all_use4['y_prob_1'] = model.predict_proba(X_test1)[:,1]\n",
    "\n",
    "    # sample_weights1 = [1 if x==0 else 10 for x in y_test1]\n",
    "    precision1, recall1, _ = metrics.precision_recall_curve(y_test1,y_pred1)\n",
    "    accuracy1 = metrics.accuracy_score(y_test1,y_pred1)\n",
    "    f11 = metrics.f1_score(y_test1,y_pred1,average='weighted',)\n",
    "    print(\"Test Set Scores:\\n\",\"Precision:\",np.round(precision1[1],2),\n",
    "          \"\\nRecall:\",np.round(recall1[1],2),\"\\nAccuracy:\",np.round(accuracy1,2),\"\\nF1 weighted:\",np.round(f11,2))\n",
    "\n",
    "    # sample_weights1 = [1 if x==0 else 100 for x in y_test1]\n",
    "    # metrics.f1_score(y_test1,y_pred1,average='weighted',sample_weight=sample_weights1)y_pred2 =rf_mdl_estimators.predict(X_natl)\n",
    "    y_pred2 =model.predict(X_natl)\n",
    "    df_rest1['y_pred'] =y_pred2\n",
    "    df_rest1['y_prob_0'] = model.predict_proba(X_natl)[:,0]\n",
    "    df_rest1['y_prob_1'] = model.predict_proba(X_natl)[:,1]\n",
    "\n",
    "    y_pred2_ur =model.predict(X_natl_ur)\n",
    "    df_rest1_ur['y_pred'] =model.predict(X_natl_ur)\n",
    "    df_rest1_ur['y_prob_0'] = model.predict_proba(X_natl_ur)[:,0]\n",
    "    df_rest1_ur['y_prob_1'] = model.predict_proba(X_natl_ur)[:,1]\n",
    "\n",
    "\n",
    "    precision2, recall2, _ = metrics.precision_recall_curve(y_natl, y_pred2)\n",
    "    accuracy2 = metrics.accuracy_score(y_natl,y_pred2)\n",
    "\n",
    "    f12 = metrics.f1_score(y_natl,y_pred2,average='weighted',)\n",
    "    print(\"National Scores:\\n\",\"Precision:\",np.round(precision2[1],2),\n",
    "          \"\\nRecall:\",np.round(recall2[1],2),\"\\nAccuracy:\",np.round(accuracy2,2),\"\\nF1 weighted:\",np.round(f12,2))\n",
    "\n",
    "\n",
    "    precision2_ur, recall2_ur, _ = metrics.precision_recall_curve(y_natl_ur, y_pred2_ur)\n",
    "    accuracy2_ur = metrics.accuracy_score(y_natl_ur,y_pred2_ur)\n",
    "\n",
    "    f12_ur = metrics.f1_score(y_natl_ur,y_pred2_ur,average='weighted',)\n",
    "    print(\"National UR Scores:\\n\",\"Precision:\",np.round(precision2_ur[1],2),\n",
    "          \"\\nRecall:\",np.round(recall2_ur[1],2),\"\\nAccuracy:\",np.round(accuracy2_ur,2),\"\\nF1 weighted:\",np.round(f12_ur,2))\n",
    "    \n",
    "    plt.plot(xarray,test_scores,label='Sample')\n",
    "    plt.plot(xarray,holdout_natl_ur,label='National')\n",
    "    plt.plot(xarray,prop_nonur_pred,label='Proportion Predicted As UR from non-UR sample')\n",
    "    plt.legend()\n",
    "    \n",
    "    return test_scores,holdout_natl,holdout_natl_ur,prop_nonur_pred"
   ]
  },
  {
   "cell_type": "markdown",
   "metadata": {},
   "source": [
    "**Number of Estimators**"
   ]
  },
  {
   "cell_type": "code",
   "execution_count": null,
   "metadata": {},
   "outputs": [
    {
     "name": "stdout",
     "output_type": "stream",
     "text": [
      "2\n",
      "12\n",
      "22\n",
      "33\n",
      "43\n",
      "54\n",
      "64\n",
      "74\n",
      "85\n",
      "95\n",
      "106\n",
      "116\n",
      "127\n",
      "137\n",
      "147\n",
      "158\n",
      "168\n",
      "179\n",
      "189\n",
      "200\n",
      "Test Set Scores:\n",
      " Precision: 0.89 \n",
      "Recall: 0.72 \n",
      "Accuracy: 0.95 \n",
      "F1 weighted: 0.95\n",
      "National Scores:\n",
      " Precision: 0.07 \n",
      "Recall: 0.93 \n",
      "Accuracy: 0.4 \n",
      "F1 weighted: 0.52\n",
      "National UR Scores:\n",
      " Precision: 1.0 \n",
      "Recall: 0.93 \n",
      "Accuracy: 0.93 \n",
      "F1 weighted: 0.96\n"
     ]
    },
    {
     "data": {
      "image/png": "[encoded data removed]",
      "text/plain": [
       "<Figure size 432x288 with 1 Axes>"
      ]
     },
     "metadata": {
      "needs_background": "light"
     },
     "output_type": "display_data"
    }
   ],
   "source": [
    "x_nest = [int(x) for x in np.linspace(2,200,20)]\n",
    "mdl_params = {\n",
    "#      'n_estimators': 800,\n",
    "#  'min_samples_split': 5,\n",
    "#  'min_samples_leaf': 1,\n",
    " 'max_features': 'sqrt',\n",
    "#  'max_depth': 47,\n",
    " 'bootstrap': False,\n",
    " 'random_state':42\n",
    "}\n",
    "rf_mdl_nest = ensemble.RandomForestClassifier\n",
    "test_scores_nest,holdout_natl_nest,holdout_natl_ur_nest,prop_nonur_pred_nest = tune_model(rf_mdl_nest,x_nest,'n_estimators',**mdl_params)"
   ]
  },
  {
   "cell_type": "code",
   "execution_count": null,
   "metadata": {},
   "outputs": [
    {
     "name": "stdout",
     "output_type": "stream",
     "text": [
      "100\n",
      "144\n",
      "188\n",
      "233\n",
      "277\n",
      "322\n",
      "366\n",
      "411\n",
      "455\n",
      "500\n",
      "Test Set Scores:\n",
      " Precision: 0.88 \n",
      "Recall: 0.77 \n",
      "Accuracy: 0.95 \n",
      "F1 weighted: 0.95\n",
      "National Scores:\n",
      " Precision: 0.07 \n",
      "Recall: 0.95 \n",
      "Accuracy: 0.36 \n",
      "F1 weighted: 0.48\n",
      "National UR Scores:\n",
      " Precision: 1.0 \n",
      "Recall: 0.95 \n",
      "Accuracy: 0.95 \n",
      "F1 weighted: 0.97\n"
     ]
    },
    {
     "data": {
      "image/png": "[encoded data removed]",
      "text/plain": [
       "<Figure size 432x288 with 1 Axes>"
      ]
     },
     "metadata": {
      "needs_background": "light"
     },
     "output_type": "display_data"
    }
   ],
   "source": [
    "x_nest = [int(x) for x in np.linspace(100,500,10)]\n",
    "mdl_params = {\n",
    "#      'n_estimators': 800,\n",
    "#  'min_samples_split': 5,\n",
    "#  'min_samples_leaf': 1,\n",
    "#  'max_features': 'sqrt',\n",
    "#  'max_depth': 47,\n",
    "#  'bootstrap': False,\n",
    "#  'random_state':42\n",
    "}\n",
    "rf_mdl_nest = ensemble.RandomForestClassifier\n",
    "test_scores_nest,holdout_natl_nest,holdout_natl_ur_nest,prop_ur_pred_nest = tune_model(rf_mdl_nest,x_nest,'n_estimators',**mdl_params)"
   ]
  },
  {
   "cell_type": "code",
   "execution_count": null,
   "metadata": {},
   "outputs": [],
   "source": [
    "# n_estimators_rf = 200\n",
    "n_estimators_rf = 100"
   ]
  },
  {
   "cell_type": "markdown",
   "metadata": {},
   "source": [
    "**Min Samples Leaf**"
   ]
  },
  {
   "cell_type": "code",
   "execution_count": null,
   "metadata": {},
   "outputs": [
    {
     "name": "stdout",
     "output_type": "stream",
     "text": [
      "2\n",
      "24\n",
      "46\n",
      "68\n",
      "90\n",
      "112\n",
      "134\n",
      "156\n",
      "178\n",
      "200\n",
      "Test Set Scores:\n",
      " Precision: 0.91 \n",
      "Recall: 0.63 \n",
      "Accuracy: 0.94 \n",
      "F1 weighted: 0.94\n",
      "National Scores:\n",
      " Precision: 0.08 \n",
      "Recall: 0.82 \n",
      "Accuracy: 0.51 \n",
      "F1 weighted: 0.63\n",
      "National UR Scores:\n",
      " Precision: 1.0 \n",
      "Recall: 0.82 \n",
      "Accuracy: 0.82 \n",
      "F1 weighted: 0.9\n"
     ]
    },
    {
     "data": {
      "image/png": "[encoded data removed]",
      "text/plain": [
       "<Figure size 432x288 with 1 Axes>"
      ]
     },
     "metadata": {
      "needs_background": "light"
     },
     "output_type": "display_data"
    }
   ],
   "source": [
    "x_minleaf = [int(x) for x in np.linspace(2,200,10)]\n",
    "mdl_params = {\n",
    "    'n_estimators':n_estimators_rf,\n",
    "#  'min_samples_split': 5,\n",
    " 'max_features': 'sqrt',\n",
    "#  'max_depth': None,\n",
    " 'bootstrap': False,\n",
    "'random_state':42\n",
    "}\n",
    "rf_mdl_minleaf = ensemble.RandomForestClassifier\n",
    "test_scores_minleaf,holdout_natl_minleaf,holdout_natl_ur_minleaf,prop_ur_pred_minleaf = tune_model(rf_mdl_minleaf,x_minleaf,'min_samples_leaf',**mdl_params)"
   ]
  },
  {
   "cell_type": "code",
   "execution_count": null,
   "metadata": {},
   "outputs": [],
   "source": [
    "# min_samples_leaf_rf=170\n",
    "min_samples_leaf_rf=60"
   ]
  },
  {
   "cell_type": "markdown",
   "metadata": {},
   "source": [
    "**Max depth**"
   ]
  },
  {
   "cell_type": "code",
   "execution_count": null,
   "metadata": {},
   "outputs": [
    {
     "name": "stdout",
     "output_type": "stream",
     "text": [
      "2\n",
      "3\n",
      "4\n",
      "5\n",
      "6\n",
      "7\n",
      "8\n",
      "9\n",
      "10\n",
      "Test Set Scores:\n",
      " Precision: 0.87 \n",
      "Recall: 0.72 \n",
      "Accuracy: 0.95 \n",
      "F1 weighted: 0.94\n",
      "National Scores:\n",
      " Precision: 0.08 \n",
      "Recall: 0.91 \n",
      "Accuracy: 0.44 \n",
      "F1 weighted: 0.57\n",
      "National UR Scores:\n",
      " Precision: 1.0 \n",
      "Recall: 0.91 \n",
      "Accuracy: 0.91 \n",
      "F1 weighted: 0.96\n"
     ]
    },
    {
     "data": {
      "image/png": "[encoded data removed]",
      "text/plain": [
       "<Figure size 432x288 with 1 Axes>"
      ]
     },
     "metadata": {
      "needs_background": "light"
     },
     "output_type": "display_data"
    }
   ],
   "source": [
    "x_maxdepth = [int(x) for x in np.linspace(2,10,9)]\n",
    "mdl_params = {\n",
    "    'n_estimators':n_estimators_rf,\n",
    " 'min_samples_leaf':min_samples_leaf_rf,\n",
    " 'max_features': 'sqrt',\n",
    " 'bootstrap': False,\n",
    "'random_state':42\n",
    "}\n",
    "rf_mdl_maxdepth = ensemble.RandomForestClassifier\n",
    "test_scores_maxdepth,holdout_natl_maxdepth,holdout_natl_ur_maxdepth,prop_ur_pred_maxdepth = tune_model(rf_mdl_maxdepth,x_maxdepth,'max_depth',**mdl_params)"
   ]
  },
  {
   "cell_type": "code",
   "execution_count": null,
   "metadata": {},
   "outputs": [],
   "source": [
    "max_depth_rf =3\n",
    "# max_depth_rf =8"
   ]
  },
  {
   "cell_type": "markdown",
   "metadata": {},
   "source": [
    "**Min samples split**"
   ]
  },
  {
   "cell_type": "code",
   "execution_count": null,
   "metadata": {},
   "outputs": [
    {
     "name": "stdout",
     "output_type": "stream",
     "text": [
      "2\n",
      "26\n",
      "51\n",
      "75\n",
      "100\n",
      "Test Set Scores:\n",
      " Precision: 0.84 \n",
      "Recall: 0.58 \n",
      "Accuracy: 0.93 \n",
      "F1 weighted: 0.92\n",
      "National Scores:\n",
      " Precision: 0.1 \n",
      "Recall: 0.7 \n",
      "Accuracy: 0.68 \n",
      "F1 weighted: 0.77\n",
      "National UR Scores:\n",
      " Precision: 1.0 \n",
      "Recall: 0.7 \n",
      "Accuracy: 0.7 \n",
      "F1 weighted: 0.82\n"
     ]
    },
    {
     "data": {
      "image/png": "[encoded data removed]",
      "text/plain": [
       "<Figure size 432x288 with 1 Axes>"
      ]
     },
     "metadata": {
      "needs_background": "light"
     },
     "output_type": "display_data"
    }
   ],
   "source": [
    "x_split = [int(x) for x in np.linspace(2,100,5)]\n",
    "mdl_params = {\n",
    "    'n_estimators':n_estimators_rf,\n",
    " 'min_samples_leaf':min_samples_leaf_rf,\n",
    " 'max_features': 'sqrt',\n",
    "    'max_depth':max_depth_rf,\n",
    " 'bootstrap': False,\n",
    "'random_state':42}\n",
    "rf_mdl_split = ensemble.RandomForestClassifier\n",
    "test_scores_split,holdout_natl_split,holdout_natl_ur_split,prop_ur_pred_split = tune_model(rf_mdl_split,x_split,'min_samples_split',**mdl_params)"
   ]
  },
  {
   "cell_type": "code",
   "execution_count": null,
   "metadata": {},
   "outputs": [],
   "source": [
    "min_samples_split_rf= 40"
   ]
  },
  {
   "cell_type": "markdown",
   "metadata": {},
   "source": [
    "## Final RF Model\n",
    "```\n",
    "mdl_params_final = {\n",
    "    'n_estimators':200,\n",
    " 'min_samples_leaf': 200,\n",
    "    'min_samples_split':2,\n",
    " 'max_features': 'sqrt',\n",
    " 'max_depth': None,\n",
    " 'bootstrap': False}\n",
    " ```"
   ]
  },
  {
   "cell_type": "code",
   "execution_count": null,
   "metadata": {},
   "outputs": [
    {
     "name": "stdout",
     "output_type": "stream",
     "text": [
      "0.7846153846153846\n",
      "0.486553432413305\n",
      "RandomForestClassifier(bootstrap=False, max_depth=3, max_features='sqrt',\n",
      "                       min_samples_leaf=60, min_samples_split=40)\n",
      "Export Done\n"
     ]
    }
   ],
   "source": [
    "mdl_params_final = {\n",
    "    'n_estimators':n_estimators_rf,\n",
    " 'min_samples_leaf': min_samples_leaf_rf,\n",
    "    'min_samples_split':min_samples_split_rf,\n",
    " 'max_features': 'sqrt',\n",
    " 'max_depth': max_depth_rf,\n",
    " 'bootstrap': False}\n",
    "rf_mdl_final = ensemble.RandomForestClassifier(**mdl_params_final)\n",
    "\n",
    "rf_mdl_final.fit(X_train1,y_train1)\n",
    "\n",
    "df_all_use4['y_pred'] =rf_mdl_final.predict(X_test1)\n",
    "print(df_all_use4['y_pred'].sum()/np.sum(y_test1))\n",
    "\n",
    "# df_rest1_ur['y_prob_1'] = model.predict_proba(X_natl_ur)[:,1]\n",
    "\n",
    "df_rest1_nonur['y_pred'] =rf_mdl_final.predict(X_natl_nonur)\n",
    "df_rest1_nonur['y_prob_0'] = rf_mdl_final.predict_proba(X_natl_nonur)[:,0]\n",
    "df_rest1_nonur['y_prob_1'] = rf_mdl_final.predict_proba(X_natl_nonur)[:,1]\n",
    "print(df_rest1_nonur['y_pred'].sum()/df_rest1_nonur['y_pred'].shape[0])\n",
    "\n",
    "update_export_preds(rf_mdl_final,'rf6')"
   ]
  },
  {
   "cell_type": "code",
   "execution_count": null,
   "metadata": {},
   "outputs": [
    {
     "data": {
      "image/png": "[encoded data removed]",
      "text/plain": [
       "<Figure size 720x720 with 1 Axes>"
      ]
     },
     "metadata": {
      "needs_background": "light"
     },
     "output_type": "display_data"
    }
   ],
   "source": [
    "\n",
    "\n",
    "importances = rf_mdl_final.feature_importances_\n",
    "forest_importances = pd.Series(importances, index=X_train1.columns).sort_values()\n",
    "std = np.std([\n",
    "    tree.feature_importances_ for tree in rf_mdl_final.estimators_], axis=0)\n",
    "\n",
    "\n",
    "fig, ax = plt.subplots(figsize=(10,10))\n",
    "forest_importances.plot.barh(xerr=std, ax=ax,color='orange')\n",
    "ax.set_title(\"Feature importances\")\n",
    "ax.set_ylabel(\"Mean decrease in impurity\")\n",
    "fig.tight_layout()\n",
    "\n",
    "# plt.savefig('Results/ur_modeling_importances_rf.svg')"
   ]
  },
  {
   "cell_type": "markdown",
   "metadata": {},
   "source": [
    "### 3.3.2 Now try the MLP\n",
    "Best estimator based on previous run\n",
    "\n",
    "```\n",
    "MLPClassifier(alpha=0.001, hidden_layer_sizes=(100, 100), max_iter=3933,\n",
    "              random_state=42, solver='sgd'\n",
    "```"
   ]
  },
  {
   "cell_type": "code",
   "execution_count": 90,
   "metadata": {},
   "outputs": [],
   "source": [
    "# L2 Loss\n",
    "alpha = np.linspace(start = 0.00001, stop = 0.001, num = 5)\n",
    "# Hidden layers\n",
    "hidden_layer_sizes = [(10,),(50,),(100,),(500,)]\n",
    "## Solver\n",
    "# solver= ['lbfgs', 'sgd', 'adam']\n",
    "solver= ['sgd']\n",
    "## Warm Start\n",
    "# warm_start = [True,False]\n",
    "warm_start = [True]\n",
    "## Max iterations\n",
    "max_iter = [int(x) for x in np.linspace(start = 100, stop =5000, num = 10)]\n",
    "\n",
    "# Create the random grid\n",
    "random_grid = {'alpha': alpha,\n",
    "               'hidden_layer_sizes': hidden_layer_sizes,\n",
    "               'solver': solver,\n",
    "               'warm_start': warm_start,\n",
    "               'max_iter': max_iter}\n",
    "\n",
    "nn_mdl = neural_network.MLPClassifier(random_state=42)\n",
    "\n",
    "nn_random = model_selection.RandomizedSearchCV(estimator = nn_mdl,scoring='f1_weighted', param_distributions = random_grid, n_iter = 100, cv = 3, verbose=2, random_state=42, n_jobs = -1)\n",
    "# Fit the random search model\n",
    "nn_random.fit(X_train1,y_train1)"
   ]
  },
  {
   "cell_type": "code",
   "execution_count": null,
   "metadata": {},
   "outputs": [],
   "source": [
    "# nn_best = nn_random.best_estimator_"
   ]
  },
  {
   "cell_type": "code",
   "execution_count": null,
   "metadata": {},
   "outputs": [
    {
     "data": {
      "text/plain": [
       "MLPClassifier(alpha=0.0002575, max_iter=644, random_state=42, solver='sgd',\n",
       "              warm_start=True)"
      ]
     },
     "execution_count": 747,
     "metadata": {},
     "output_type": "execute_result"
    }
   ],
   "source": [
    "# nn_random.best_estimator_"
   ]
  },
  {
   "cell_type": "code",
   "execution_count": null,
   "metadata": {},
   "outputs": [
    {
     "data": {
      "text/plain": [
       "MLPClassifier(alpha=0.0002575, max_iter=644, random_state=42, solver='sgd',\n",
       "              warm_start=True)"
      ]
     },
     "execution_count": 748,
     "metadata": {},
     "output_type": "execute_result"
    }
   ],
   "source": [
    "nn_random.best_estimator_\n"
   ]
  },
  {
   "cell_type": "markdown",
   "metadata": {},
   "source": [
    "**Tune the hidden layers**"
   ]
  },
  {
   "cell_type": "code",
   "execution_count": 88,
   "metadata": {},
   "outputs": [],
   "source": [
    "# x_layers = np.linspace(40,100,4)\n",
    "# x_layers1=[]\n",
    "\n",
    "# for i in x_layers:\n",
    "#     x_layers1.append((int(i),int(i)))\n",
    "        \n",
    "# mdl_params = {\n",
    "# #    'alpha':0.0002575, \n",
    "# #     'max_iter':50, \n",
    " \n",
    "#     'solver':'sgd',\n",
    "#     'warm_start':False,\n",
    "#     'random_state':42,}\n",
    "# nn_mdl_hlayers = neural_network.MLPClassifier\n",
    "# test_scores_hlayers,holdout_natl_hlayers,holdout_natl_ur_hlayers,prop_ur_pred_hlayers = tune_model(nn_mdl_hlayers,x_layers1,'hidden_layer_sizes',**mdl_params)"
   ]
  },
  {
   "cell_type": "code",
   "execution_count": null,
   "metadata": {},
   "outputs": [],
   "source": [
    "# x_layers = np.linspace(10,100,4)\n",
    "# x_layers1=[]\n",
    "\n",
    "# for i in x_layers:\n",
    "#     x_layers1.append((int(i),))\n",
    "        \n",
    "# mdl_params = {\n",
    "# #    'alpha':0.0002575, \n",
    "# #     'max_iter':50, \n",
    " \n",
    "#     'solver':'sgd',\n",
    "#     'warm_start':False,\n",
    "#     'random_state':42,}\n",
    "# nn_mdl_hlayers = neural_network.MLPClassifier\n",
    "# test_scores_hlayers,holdout_natl_hlayers,holdout_natl_ur_hlayers,prop_ur_pred_hlayers = tune_model(nn_mdl_hlayers,x_layers1,'hidden_layer_sizes',**mdl_params)"
   ]
  },
  {
   "cell_type": "code",
   "execution_count": null,
   "metadata": {},
   "outputs": [],
   "source": [
    "x_layers = np.linspace(10,80,4)\n",
    "x_layers1=[]\n",
    "\n",
    "for i in x_layers:\n",
    "    x_layers1.append((int(i),int(i),int(i)))\n",
    "        \n",
    "mdl_params = {\n",
    "#    'alpha':0.0002575, \n",
    "#     'max_iter':50, \n",
    " \n",
    "    'solver':'sgd',\n",
    "    'warm_start':False,\n",
    "    'random_state':42,}\n",
    "nn_mdl_hlayers = neural_network.MLPClassifier\n",
    "test_scores_hlayers,holdout_natl_hlayers,holdout_natl_ur_hlayers,prop_ur_pred_hlayers = tune_model(nn_mdl_hlayers,x_layers1,'hidden_layer_sizes',**mdl_params)"
   ]
  },
  {
   "cell_type": "code",
   "execution_count": null,
   "metadata": {},
   "outputs": [],
   "source": [
    "# hidden_layer_sizes_nn = (70,70,70)\n",
    "hidden_layer_sizes_nn = (100)\n",
    "# hidden_layer_sizes_nn = (100,100)"
   ]
  },
  {
   "cell_type": "markdown",
   "metadata": {},
   "source": [
    "**Max iter**"
   ]
  },
  {
   "cell_type": "code",
   "execution_count": 81,
   "metadata": {},
   "outputs": [],
   "source": [
    "x_iter = [int(x) for x in np.linspace(100,1000,8)]\n",
    "mdl_params = {     \n",
    "#     'max_iter':max_iter_nn,\n",
    "#     'alpha':alpha_nn,\n",
    "     'hidden_layer_sizes':hidden_layer_sizes_nn,\n",
    "    'solver':'sgd',\n",
    "    'warm_start':False,\n",
    "             'random_state':42,}\n",
    "# mdl_params = {\n",
    "# #    'alpha':0.0002575, \n",
    "# #     'max_iter':50, \n",
    "#      'hidden_layer_sizes':hidden_layer_sizes_nn,\n",
    "#     'solver':'sgd',\n",
    "#     'warm_start':False,\n",
    "#     'random_state':42,}\n",
    "nn_mdl_iter = neural_network.MLPClassifier\n",
    "test_scores_iter,holdout_natl_iter,holdout_natl_ur_iter,prop_ur_pred_iter = tune_model(nn_mdl_iter,x_iter,'max_iter',**mdl_params)"
   ]
  },
  {
   "cell_type": "code",
   "execution_count": null,
   "metadata": {},
   "outputs": [],
   "source": [
    "max_iter_nn = 600"
   ]
  },
  {
   "cell_type": "markdown",
   "metadata": {},
   "source": [
    "**L2 Penalty**"
   ]
  },
  {
   "cell_type": "code",
   "execution_count": null,
   "metadata": {},
   "outputs": [],
   "source": [
    "x_alpha = np.linspace(0.0001,2,10)\n",
    "\n",
    "        \n",
    "mdl_params = {\n",
    "    'max_iter':max_iter_nn,\n",
    "     'hidden_layer_sizes':hidden_layer_sizes_nn,\n",
    "    'solver':'sgd',\n",
    "    'warm_start':False,\n",
    "    'random_state':42,\n",
    "}\n",
    "nn_mdl_alpha = neural_network.MLPClassifier\n",
    "test_scores_alpha,holdout_natl_alpha,holdout_natl_ur_alpha,prop_ur_pred_alpha = tune_model(nn_mdl_alpha,x_alpha,'alpha',**mdl_params)\n"
   ]
  },
  {
   "cell_type": "code",
   "execution_count": null,
   "metadata": {},
   "outputs": [],
   "source": [
    "x_alpha = np.linspace(2,15,9)\n",
    "\n",
    "        \n",
    "mdl_params = {\n",
    "     'max_iter':max_iter_nn,\n",
    "     'hidden_layer_sizes':hidden_layer_sizes_nn,\n",
    "    'solver':'sgd',\n",
    "    'warm_start':False,\n",
    "    'random_state':42,}\n",
    "nn_mdl_alpha = neural_network.MLPClassifier\n",
    "test_scores_alpha,holdout_natl_alpha,holdout_natl_ur_alpha,prop_ur_pred_alpha = tune_model(nn_mdl_alpha,x_alpha,'alpha',**mdl_params)\n"
   ]
  },
  {
   "cell_type": "code",
   "execution_count": null,
   "metadata": {},
   "outputs": [],
   "source": [
    "hidden_layer_sizes_nn = (20,20,20,20)"
   ]
  },
  {
   "cell_type": "code",
   "execution_count": null,
   "metadata": {},
   "outputs": [],
   "source": [
    "alpha_nn = 4"
   ]
  },
  {
   "cell_type": "code",
   "execution_count": null,
   "metadata": {},
   "outputs": [
    {
     "name": "stdout",
     "output_type": "stream",
     "text": [
      "0.6230769230769231\n",
      "0.32873319179051663\n",
      "MLPClassifier(alpha=4, hidden_layer_sizes=(20, 20, 20, 20), max_iter=600,\n",
      "              random_state=42, solver='sgd')\n",
      "Export Done\n"
     ]
    }
   ],
   "source": [
    "mdl_params = {\n",
    "     'max_iter':max_iter_nn,\n",
    "    'alpha':alpha_nn,\n",
    "     'hidden_layer_sizes':hidden_layer_sizes_nn,\n",
    "    'solver':'sgd',\n",
    "    'warm_start':False,\n",
    "    'random_state':42,\n",
    "}\n",
    "nn_mdl_final = neural_network.MLPClassifier(**mdl_params)\n",
    "nn_mdl_final.fit(X_train1,y_train1)\n",
    "\n",
    "df_all_use4['y_pred'] =nn_mdl_final.predict(X_test1)\n",
    "print(df_all_use4['y_pred'].sum()/np.sum(y_test1))\n",
    "\n",
    "df_rest1_nonur['y_pred'] =nn_mdl_final.predict(X_natl_nonur)\n",
    "df_rest1_nonur['y_prob_0'] = nn_mdl_final.predict_proba(X_natl_nonur)[:,0]\n",
    "df_rest1_nonur['y_prob_1'] = nn_mdl_final.predict_proba(X_natl_nonur)[:,1]\n",
    "print(df_rest1_nonur['y_pred'].sum()/df_rest1_nonur['y_pred'].shape[0])\n",
    "\n",
    "update_export_preds(nn_mdl_final,'nn6')"
   ]
  },
  {
   "cell_type": "markdown",
   "metadata": {},
   "source": [
    "### 3.3.3 Now try the GBC"
   ]
  },
  {
   "cell_type": "code",
   "execution_count": null,
   "metadata": {},
   "outputs": [],
   "source": [
    "# Loss\n",
    "loss = ['deviance']\n",
    "\n",
    "# Learning Rate\n",
    "learning_rate = np.linspace(.01,.3,10)\n",
    "\n",
    "## Number of Estimators\n",
    "n_estimators = [int(x) for x in np.linspace(50,1000,10)]\n",
    "\n",
    "## Criterion to measure quality of the split\n",
    "criterion = ['friedman_mse']\n",
    "\n",
    "## Min number of samples\n",
    "min_samples_split = [int(x) for x in np.linspace(2,100,10)]\n",
    "\n",
    "## Min samples in each leaf\n",
    "min_samples_leaf = [int(x) for x in np.linspace(2,100,10)]\n",
    "\n",
    "## Max depth\n",
    "max_depth = [int(x) for x in np.linspace(2,100,10)]\n",
    "\n",
    "# Create the random grid\n",
    "random_grid = {'loss': loss,\n",
    "               'learning_rate': learning_rate,\n",
    "               'n_estimators': n_estimators,\n",
    "               'criterion': criterion,\n",
    "               'min_samples_split': min_samples_split,\n",
    "               'min_samples_leaf':min_samples_leaf,\n",
    "              'max_depth':max_depth}\n",
    "\n",
    "gb_mdl = ensemble.GradientBoostingClassifier(random_state=42,)\n",
    "\n",
    "gb_random = model_selection.RandomizedSearchCV(estimator = gb_mdl,scoring='f1_weighted', param_distributions = random_grid, n_iter = 100, cv = 3, verbose=2, random_state=42, n_jobs = -1)\n",
    "# Fit the random search model\n",
    "gb_random.fit(X_train1,y_train1)"
   ]
  },
  {
   "cell_type": "code",
   "execution_count": null,
   "metadata": {},
   "outputs": [],
   "source": [
    "gb_best = gb_random.best_estimator_"
   ]
  },
  {
   "cell_type": "code",
   "execution_count": null,
   "metadata": {},
   "outputs": [
    {
     "data": {
      "text/plain": [
       "GradientBoostingClassifier(learning_rate=0.01, max_depth=34,\n",
       "                           min_samples_leaf=89, min_samples_split=100,\n",
       "                           n_estimators=50, random_state=42)"
      ]
     },
     "execution_count": 1032,
     "metadata": {},
     "output_type": "execute_result"
    }
   ],
   "source": [
    "gb_random.best_estimator_"
   ]
  },
  {
   "cell_type": "markdown",
   "metadata": {},
   "source": [
    "```\n",
    "{'n_estimators': 50,\n",
    " 'min_samples_split': 100,\n",
    " 'min_samples_leaf': 89,\n",
    " 'max_depth': 34,\n",
    " 'loss': 'deviance',\n",
    " 'learning_rate': 0.01,\n",
    " 'criterion': 'friedman_mse'}\n",
    " ```"
   ]
  },
  {
   "cell_type": "code",
   "execution_count": null,
   "metadata": {},
   "outputs": [
    {
     "data": {
      "text/plain": [
       "{'n_estimators': 50,\n",
       " 'min_samples_split': 100,\n",
       " 'min_samples_leaf': 89,\n",
       " 'max_depth': 34,\n",
       " 'loss': 'deviance',\n",
       " 'learning_rate': 0.01,\n",
       " 'criterion': 'friedman_mse'}"
      ]
     },
     "execution_count": 786,
     "metadata": {},
     "output_type": "execute_result"
    }
   ],
   "source": [
    "gb_random.best_params_"
   ]
  },
  {
   "cell_type": "code",
   "execution_count": null,
   "metadata": {},
   "outputs": [
    {
     "data": {
      "text/plain": [
       "GradientBoostingClassifier(learning_rate=0.01, max_depth=34,\n",
       "                           min_samples_leaf=89, min_samples_split=100,\n",
       "                           n_estimators=50)"
      ]
     },
     "execution_count": 234,
     "metadata": {},
     "output_type": "execute_result"
    }
   ],
   "source": [
    "best_params_gb = {'n_estimators': 50,\n",
    " 'min_samples_split': 100,\n",
    " 'min_samples_leaf': 89,\n",
    " 'max_depth': 34,\n",
    " 'loss': 'deviance',\n",
    " 'learning_rate': 0.01,\n",
    " 'criterion': 'friedman_mse'}\n",
    "gb_mdl = ensemble.GradientBoostingClassifier(**best_params_gb) \n",
    "# gb_mdl = ensemble.GradientBoostingClassifier() \n",
    "gb_mdl.fit(X_train1,y_train1)"
   ]
  },
  {
   "cell_type": "markdown",
   "metadata": {},
   "source": [
    "**Tune n estimators**\n"
   ]
  },
  {
   "cell_type": "code",
   "execution_count": null,
   "metadata": {},
   "outputs": [
    {
     "name": "stdout",
     "output_type": "stream",
     "text": [
      "10\n",
      "64\n",
      "118\n",
      "173\n",
      "227\n",
      "282\n",
      "336\n",
      "391\n",
      "445\n",
      "500\n",
      "Test Set Scores:\n",
      " Precision: 0.86 \n",
      "Recall: 0.81 \n",
      "Accuracy: 0.95 \n",
      "F1 weighted: 0.95\n",
      "National Scores:\n",
      " Precision: 0.06 \n",
      "Recall: 0.91 \n",
      "Accuracy: 0.26 \n",
      "F1 weighted: 0.36\n",
      "National UR Scores:\n",
      " Precision: 1.0 \n",
      "Recall: 0.91 \n",
      "Accuracy: 0.91 \n",
      "F1 weighted: 0.96\n"
     ]
    },
    {
     "data": {
      "image/png": "[encoded data removed]",
      "text/plain": [
       "<Figure size 432x288 with 1 Axes>"
      ]
     },
     "metadata": {
      "needs_background": "light"
     },
     "output_type": "display_data"
    }
   ],
   "source": [
    "x_nest= [int(x) for x in np.linspace(10,500,10)]\n",
    "        \n",
    "mdl_params = {\n",
    "#     'n_estimators': 50,\n",
    "#  'min_samples_split': 100,\n",
    "#     'min_samples_leaf':8,\n",
    "#  'max_depth': 34,\n",
    " 'loss': 'deviance',\n",
    "#  'learning_rate': learning_rate_gb,\n",
    " 'criterion': 'friedman_mse'\n",
    "}\n",
    "gb_mdl_nest = ensemble.GradientBoostingClassifier\n",
    "test_scores_x_nest,holdout_natl_x_nest,holdout_natl_ur_x_nest,prop_ur_pred_x_nest = tune_model(gb_mdl_nest,x_nest,'n_estimators',**mdl_params)"
   ]
  },
  {
   "cell_type": "code",
   "execution_count": null,
   "metadata": {},
   "outputs": [
    {
     "name": "stdout",
     "output_type": "stream",
     "text": [
      "2\n",
      "15\n",
      "28\n",
      "41\n",
      "54\n",
      "67\n",
      "80\n",
      "93\n",
      "106\n",
      "120\n",
      "Test Set Scores:\n",
      " Precision: 0.89 \n",
      "Recall: 0.81 \n",
      "Accuracy: 0.96 \n",
      "F1 weighted: 0.96\n",
      "National Scores:\n",
      " Precision: 0.06 \n",
      "Recall: 0.92 \n",
      "Accuracy: 0.23 \n",
      "F1 weighted: 0.32\n",
      "National UR Scores:\n",
      " Precision: 1.0 \n",
      "Recall: 0.92 \n",
      "Accuracy: 0.92 \n",
      "F1 weighted: 0.96\n"
     ]
    },
    {
     "data": {
      "image/png": "[encoded data removed]",
      "text/plain": [
       "<Figure size 432x288 with 1 Axes>"
      ]
     },
     "metadata": {
      "needs_background": "light"
     },
     "output_type": "display_data"
    }
   ],
   "source": [
    "x_nest= [int(x) for x in np.linspace(2,120,10)]\n",
    "        \n",
    "mdl_params = {\n",
    "#     'n_estimators': 50,\n",
    "#  'min_samples_split': 100,\n",
    "#     'min_samples_leaf':8,\n",
    "#  'max_depth': 34,\n",
    " 'loss': 'deviance',\n",
    "#  'learning_rate': learning_rate_gb,\n",
    " 'criterion': 'friedman_mse',\n",
    "'random_state':42}\n",
    "gb_mdl_nest = ensemble.GradientBoostingClassifier\n",
    "test_scores_x_nest,holdout_natl_x_nest,holdout_natl_ur_x_nest,prop_ur_pred_x_nest = tune_model(gb_mdl_nest,x_nest,'n_estimators',**mdl_params)"
   ]
  },
  {
   "cell_type": "code",
   "execution_count": null,
   "metadata": {},
   "outputs": [],
   "source": [
    "# n_estimators_gb = 1000\n",
    "n_estimators_gb = 100"
   ]
  },
  {
   "cell_type": "markdown",
   "metadata": {},
   "source": [
    "**Min Samples Split**\n",
    "\n",
    "Use 50"
   ]
  },
  {
   "cell_type": "code",
   "execution_count": null,
   "metadata": {},
   "outputs": [
    {
     "name": "stdout",
     "output_type": "stream",
     "text": [
      "2\n",
      "31\n",
      "61\n",
      "91\n",
      "121\n",
      "150\n",
      "180\n",
      "210\n",
      "240\n",
      "270\n",
      "Test Set Scores:\n",
      " Precision: 0.94 \n",
      "Recall: 0.75 \n",
      "Accuracy: 0.96 \n",
      "F1 weighted: 0.96\n",
      "National Scores:\n",
      " Precision: 0.05 \n",
      "Recall: 0.85 \n",
      "Accuracy: 0.24 \n",
      "F1 weighted: 0.33\n",
      "National UR Scores:\n",
      " Precision: 1.0 \n",
      "Recall: 0.85 \n",
      "Accuracy: 0.85 \n",
      "F1 weighted: 0.92\n"
     ]
    },
    {
     "data": {
      "image/png": "[encoded data removed]",
      "text/plain": [
       "<Figure size 432x288 with 1 Axes>"
      ]
     },
     "metadata": {
      "needs_background": "light"
     },
     "output_type": "display_data"
    }
   ],
   "source": [
    "x_split = [int(x) for x in np.linspace(2,270,10)]\n",
    "        \n",
    "mdl_params = {\n",
    "    'n_estimators': n_estimators_gb,\n",
    "#  'min_samples_split': 100,\n",
    "# 'min_samples_leaf':8,\n",
    "#  'max_depth': 34,\n",
    " 'loss': 'deviance',\n",
    "#  'learning_rate': 0.15,\n",
    " 'criterion': 'friedman_mse',\n",
    "'random_state':42}\n",
    "gb_mdl_split = ensemble.GradientBoostingClassifier\n",
    "\n",
    "test_scores_split,holdout_natl_split,holdout_natl_ur_split,prop_ur_pred_split = tune_model(gb_mdl_split,x_split,'min_samples_split',**mdl_params)"
   ]
  },
  {
   "cell_type": "code",
   "execution_count": null,
   "metadata": {},
   "outputs": [
    {
     "name": "stdout",
     "output_type": "stream",
     "text": [
      "250\n",
      "341\n",
      "432\n",
      "523\n",
      "614\n",
      "705\n",
      "796\n",
      "887\n",
      "978\n",
      "1070\n",
      "Test Set Scores:\n",
      " Precision: 0.83 \n",
      "Recall: 0.69 \n",
      "Accuracy: 0.94 \n",
      "F1 weighted: 0.93\n",
      "National Scores:\n",
      " Precision: 0.08 \n",
      "Recall: 0.8 \n",
      "Accuracy: 0.52 \n",
      "F1 weighted: 0.64\n",
      "National UR Scores:\n",
      " Precision: 1.0 \n",
      "Recall: 0.8 \n",
      "Accuracy: 0.8 \n",
      "F1 weighted: 0.89\n"
     ]
    },
    {
     "data": {
      "image/png": "[encoded data removed]",
      "text/plain": [
       "<Figure size 432x288 with 1 Axes>"
      ]
     },
     "metadata": {
      "needs_background": "light"
     },
     "output_type": "display_data"
    }
   ],
   "source": [
    "x_split = [int(x) for x in np.linspace(250,1070,10)]\n",
    "        \n",
    "mdl_params = {\n",
    "    'n_estimators': n_estimators_gb,\n",
    "#  'min_samples_split': 100,\n",
    "# 'min_samples_leaf':8,\n",
    "#  'max_depth': 34,\n",
    " 'loss': 'deviance',\n",
    "#  'learning_rate': 0.15,\n",
    " 'criterion': 'friedman_mse',\n",
    "'random_state':42}\n",
    "gb_mdl_split = ensemble.GradientBoostingClassifier\n",
    "\n",
    "test_scores_split,holdout_natl_split,holdout_natl_ur_split,prop_ur_pred_split = tune_model(gb_mdl_split,x_split,'min_samples_split',**mdl_params)"
   ]
  },
  {
   "cell_type": "code",
   "execution_count": null,
   "metadata": {},
   "outputs": [],
   "source": [
    "min_samples_split_gb = 20"
   ]
  },
  {
   "cell_type": "markdown",
   "metadata": {},
   "source": [
    "**Tune max depth**\n",
    "\n",
    "Seems like no need for more than 10. Use 4 or 6, probably 4? \n"
   ]
  },
  {
   "cell_type": "code",
   "execution_count": null,
   "metadata": {},
   "outputs": [
    {
     "name": "stdout",
     "output_type": "stream",
     "text": [
      "1.0\n",
      "2.0\n",
      "3.0\n",
      "4.0\n",
      "5.0\n",
      "6.0\n",
      "7.0\n",
      "8.0\n",
      "9.0\n",
      "10.0\n",
      "Test Set Scores:\n",
      " Precision: 0.88 \n",
      "Recall: 0.79 \n",
      "Accuracy: 0.95 \n",
      "F1 weighted: 0.95\n",
      "National Scores:\n",
      " Precision: 0.05 \n",
      "Recall: 0.91 \n",
      "Accuracy: 0.22 \n",
      "F1 weighted: 0.3\n",
      "National UR Scores:\n",
      " Precision: 1.0 \n",
      "Recall: 0.91 \n",
      "Accuracy: 0.91 \n",
      "F1 weighted: 0.95\n"
     ]
    },
    {
     "data": {
      "image/png": "[encoded data removed]",
      "text/plain": [
       "<Figure size 432x288 with 1 Axes>"
      ]
     },
     "metadata": {
      "needs_background": "light"
     },
     "output_type": "display_data"
    }
   ],
   "source": [
    "x_maxdepth= np.linspace(1,10,10)\n",
    "        \n",
    "mdl_params = {\n",
    "    'n_estimators': n_estimators_gb,\n",
    " 'min_samples_split': min_samples_split_gb,\n",
    "#     'min_samples_leaf':50,\n",
    "#  'max_depth': 34,\n",
    " 'loss': 'deviance',\n",
    "#  'learning_rate':learning_rate_gb,\n",
    " 'criterion': 'friedman_mse',\n",
    "'random_state':42}\n",
    "gb_mdl_maxdepth = ensemble.GradientBoostingClassifier\n",
    "\n",
    "test_scores_maxdepth,holdout_natl_maxdepth,holdout_natl_ur_maxdepth,prop_ur_pred_maxdepth = tune_model(gb_mdl_maxdepth,x_maxdepth,'max_depth',**mdl_params)"
   ]
  },
  {
   "cell_type": "code",
   "execution_count": null,
   "metadata": {},
   "outputs": [],
   "source": [
    "max_depth_gb = 6"
   ]
  },
  {
   "cell_type": "markdown",
   "metadata": {},
   "source": [
    "**Tune min samples leaf**\n",
    "\n",
    "Seems like anything larger than 77 would be ok. "
   ]
  },
  {
   "cell_type": "code",
   "execution_count": null,
   "metadata": {},
   "outputs": [
    {
     "name": "stdout",
     "output_type": "stream",
     "text": [
      "10\n",
      "20\n",
      "30\n",
      "40\n",
      "50\n",
      "60\n",
      "70\n",
      "80\n",
      "90\n",
      "100\n",
      "Test Set Scores:\n",
      " Precision: 0.9 \n",
      "Recall: 0.78 \n",
      "Accuracy: 0.96 \n",
      "F1 weighted: 0.96\n",
      "National Scores:\n",
      " Precision: 0.06 \n",
      "Recall: 0.91 \n",
      "Accuracy: 0.24 \n",
      "F1 weighted: 0.33\n",
      "National UR Scores:\n",
      " Precision: 1.0 \n",
      "Recall: 0.91 \n",
      "Accuracy: 0.91 \n",
      "F1 weighted: 0.95\n"
     ]
    },
    {
     "data": {
      "image/png": "[encoded data removed]",
      "text/plain": [
       "<Figure size 432x288 with 1 Axes>"
      ]
     },
     "metadata": {
      "needs_background": "light"
     },
     "output_type": "display_data"
    }
   ],
   "source": [
    "x_leaf= [int(x) for x in np.linspace(10,100,10)]\n",
    "        \n",
    "mdl_params = {\n",
    "  'n_estimators': n_estimators_gb,\n",
    " 'min_samples_split': min_samples_split_gb,\n",
    "#     'min_samples_leaf':50,\n",
    " 'max_depth': max_depth_gb,\n",
    "    \n",
    " 'loss': 'deviance',\n",
    "#  'learning_rate':learning_rate_gb,\n",
    " 'criterion': 'friedman_mse',\n",
    "'random_state':42}\n",
    "gb_mdl_leaf = ensemble.GradientBoostingClassifier\n",
    "\n",
    "test_scores_x_leaf,holdout_natl_x_leaf,holdout_natl_ur_x_leaf,prop_ur_pred_x_leaf = tune_model(gb_mdl_leaf,x_leaf,'min_samples_leaf',**mdl_params)\n",
    "\n",
    "\n"
   ]
  },
  {
   "cell_type": "code",
   "execution_count": null,
   "metadata": {},
   "outputs": [],
   "source": [
    "min_samples_leaf_gb=10"
   ]
  },
  {
   "cell_type": "markdown",
   "metadata": {},
   "source": [
    "**Tune the learning rate**\n",
    "\n",
    "\n",
    "Use 0.1 (default) in the future"
   ]
  },
  {
   "cell_type": "code",
   "execution_count": null,
   "metadata": {},
   "outputs": [
    {
     "name": "stdout",
     "output_type": "stream",
     "text": [
      "0.005\n",
      "0.005555555555555556\n",
      "0.006111111111111111\n",
      "0.006666666666666666\n",
      "0.007222222222222222\n",
      "0.0077777777777777776\n",
      "0.008333333333333333\n",
      "0.008888888888888889\n",
      "0.009444444444444445\n",
      "0.01\n",
      "Test Set Scores:\n",
      " Precision: 0.96 \n",
      "Recall: 0.69 \n",
      "Accuracy: 0.95 \n",
      "F1 weighted: 0.95\n",
      "National Scores:\n",
      " Precision: 0.05 \n",
      "Recall: 0.72 \n",
      "Accuracy: 0.33 \n",
      "F1 weighted: 0.45\n",
      "National UR Scores:\n",
      " Precision: 1.0 \n",
      "Recall: 0.72 \n",
      "Accuracy: 0.72 \n",
      "F1 weighted: 0.84\n"
     ]
    },
    {
     "data": {
      "image/png": "[encoded data removed]",
      "text/plain": [
       "<Figure size 432x288 with 1 Axes>"
      ]
     },
     "metadata": {
      "needs_background": "light"
     },
     "output_type": "display_data"
    }
   ],
   "source": [
    "x_learningrate = np.linspace(.005,.01,10)\n",
    "        \n",
    "mdl_params = {\n",
    "    'n_estimators': n_estimators_gb,\n",
    " 'min_samples_split': min_samples_split_gb,\n",
    "    'min_samples_leaf':min_samples_leaf_gb,\n",
    " 'max_depth': max_depth_gb,\n",
    " 'loss': 'deviance',\n",
    "#  'learning_rate': 0.01,\n",
    " 'criterion': 'friedman_mse',\n",
    "'random_state':42}\n",
    "gb_mdl_learningrate = ensemble.GradientBoostingClassifier\n",
    "\n",
    "test_scores_learningrate,holdout_natl_learningrate,holdout_natl_ur_learningrate,prop_ur_pred_learningrate = tune_model(gb_mdl_learningrate,x_learningrate,'learning_rate',**mdl_params)\n",
    "\n"
   ]
  },
  {
   "cell_type": "code",
   "execution_count": null,
   "metadata": {
    "tags": []
   },
   "outputs": [],
   "source": [
    "x_learningrate = np.linspace(.001,.005,5)\n",
    "        \n",
    "mdl_params = {\n",
    "    'n_estimators': n_estimators_gb,\n",
    " 'min_samples_split': min_samples_split_gb,\n",
    "#     'min_samples_leaf':50,\n",
    "#  'max_depth': 34,\n",
    " 'loss': 'deviance',\n",
    "#  'learning_rate': 0.01,\n",
    " 'criterion': 'friedman_mse',\n",
    "'random_state':42}\n",
    "gb_mdl_learningrate = ensemble.GradientBoostingClassifier\n",
    "\n",
    "test_scores_learningrate,holdout_natl_learningrate,holdout_natl_ur_learningrate,prop_ur_pred_learningrate = tune_model(gb_mdl_learningrate,x_learningrate,'learning_rate',**mdl_params)\n",
    "\n"
   ]
  },
  {
   "cell_type": "code",
   "execution_count": null,
   "metadata": {},
   "outputs": [],
   "source": [
    "# learning_rate_gb = 0.0030009\n",
    "learning_rate_gb = 0.02"
   ]
  },
  {
   "cell_type": "markdown",
   "metadata": {},
   "source": [
    "Max Features"
   ]
  },
  {
   "cell_type": "code",
   "execution_count": null,
   "metadata": {},
   "outputs": [
    {
     "name": "stdout",
     "output_type": "stream",
     "text": [
      "2\n",
      "6\n",
      "10\n",
      "14\n",
      "18\n",
      "23\n",
      "27\n",
      "31\n",
      "35\n",
      "40\n",
      "Test Set Scores:\n",
      " Precision: 0.92 \n",
      "Recall: 0.69 \n",
      "Accuracy: 0.94 \n",
      "F1 weighted: 0.94\n",
      "National Scores:\n",
      " Precision: 0.06 \n",
      "Recall: 0.9 \n",
      "Accuracy: 0.29 \n",
      "F1 weighted: 0.4\n",
      "National UR Scores:\n",
      " Precision: 1.0 \n",
      "Recall: 0.9 \n",
      "Accuracy: 0.9 \n",
      "F1 weighted: 0.95\n"
     ]
    },
    {
     "data": {
      "image/png": "[encoded data removed]",
      "text/plain": [
       "<Figure size 432x288 with 1 Axes>"
      ]
     },
     "metadata": {
      "needs_background": "light"
     },
     "output_type": "display_data"
    }
   ],
   "source": [
    "x_maxfeatures = [int(x) for x in np.linspace(2,40,10)]\n",
    "        \n",
    "mdl_params = {\n",
    "    'n_estimators': n_estimators_gb,\n",
    " 'min_samples_split': min_samples_split_gb,\n",
    "    'min_samples_leaf':min_samples_leaf_gb,\n",
    " 'max_depth': max_depth_gb,\n",
    " 'loss': 'deviance',\n",
    " 'learning_rate': learning_rate_gb,\n",
    " 'criterion': 'friedman_mse',\n",
    "'random_state':42}\n",
    "gb_mdl_maxfeatures = ensemble.GradientBoostingClassifier\n",
    "\n",
    "test_scores_maxfeatures,holdout_natl_maxfeatures,holdout_natl_ur_maxfeatures,prop_ur_pred_maxfeatures = tune_model(gb_mdl_maxfeatures,x_maxfeatures,'max_features',**mdl_params)\n",
    "\n"
   ]
  },
  {
   "cell_type": "code",
   "execution_count": null,
   "metadata": {},
   "outputs": [],
   "source": [
    "max_features_gb = 2"
   ]
  },
  {
   "cell_type": "markdown",
   "metadata": {},
   "source": [
    "**Export results**"
   ]
  },
  {
   "cell_type": "code",
   "execution_count": 725,
   "metadata": {},
   "outputs": [
    {
     "name": "stdout",
     "output_type": "stream",
     "text": [
      "0.6846153846153846\n",
      "0.3037862703467799\n",
      "GradientBoostingClassifier(learning_rate=0.02, max_depth=6, max_features=2,\n",
      "                           min_samples_leaf=10, min_samples_split=20)\n",
      "Export Done\n"
     ]
    }
   ],
   "source": [
    "mdl_params = {\n",
    "    'n_estimators': n_estimators_gb,\n",
    " 'min_samples_split': min_samples_split_gb,\n",
    "    'min_samples_leaf':min_samples_leaf_gb,\n",
    " 'max_depth': max_depth_gb,\n",
    "    'max_features':max_features_gb,\n",
    " 'loss': 'deviance',\n",
    " 'learning_rate':learning_rate_gb,\n",
    "#     'learning_rate':.005,\n",
    " 'criterion': 'friedman_mse',\n",
    "}\n",
    "\n",
    "# mdl_params={'n_estimators': 50,\n",
    "#  'min_samples_split': 20,\n",
    "#  'min_samples_leaf': 20,\n",
    "#  'max_depth': 34,\n",
    "#  'loss': 'deviance',\n",
    "#  'learning_rate': .015,\n",
    "#  'criterion': 'friedman_mse'}\n",
    "\n",
    "gb_mdl_final = ensemble.GradientBoostingClassifier(**mdl_params)\n",
    "# gb_mdl_final = ensemble.GradientBoostingClassifier()\n",
    "\n",
    "gb_mdl_final.fit(X_train1,y_train1)\n",
    "\n",
    "df_all_use4['y_pred'] =gb_mdl_final.predict(X_test1)\n",
    "print(df_all_use4['y_pred'].sum()/np.sum(y_test1))\n",
    "\n",
    "# df_rest1_ur['y_prob_1'] = model.predict_proba(X_natl_ur)[:,1]\n",
    "\n",
    "df_rest1_nonur['y_pred'] =gb_mdl_final.predict(X_natl_nonur)\n",
    "df_rest1_nonur['y_prob_0'] = gb_mdl_final.predict_proba(X_natl_nonur)[:,0]\n",
    "df_rest1_nonur['y_prob_1'] = gb_mdl_final.predict_proba(X_natl_nonur)[:,1]\n",
    "print(df_rest1_nonur['y_pred'].sum()/df_rest1_nonur['y_pred'].shape[0])\n",
    "update_export_preds(gb_mdl_final,'gb6')"
   ]
  },
  {
   "cell_type": "markdown",
   "metadata": {},
   "source": [
    "# 4. Combine models and find average probabilities"
   ]
  },
  {
   "cell_type": "code",
   "execution_count": 747,
   "metadata": {},
   "outputs": [],
   "source": [
    "X_all = pd.concat([X1_use,X_natl]).sort_index()"
   ]
  },
  {
   "cell_type": "code",
   "execution_count": 756,
   "metadata": {},
   "outputs": [],
   "source": [
    "rf_pred_1 = rf_mdl_final.predict_proba(X_all)[:,1]\n",
    "nn_pred_1 = nn_mdl_final.predict_proba(X_all)[:,1]\n",
    "gb_pred_1 = gb_mdl_final.predict_proba(X_all)[:,1]"
   ]
  },
  {
   "cell_type": "code",
   "execution_count": 760,
   "metadata": {},
   "outputs": [],
   "source": [
    "df_final = df_all_use3.copy()\n",
    "df_final['rf_pred_1'] = rf_pred_1\n",
    "df_final['nn_pred_1'] = nn_pred_1\n",
    "df_final['gb_pred_1'] = gb_pred_1\n",
    "df_final['has_ur_bin'] = df_final['has_ur'].apply(lambda x: 0 if x=='no' else 1)\n",
    "w_rf=1\n",
    "w_nn=2\n",
    "w_gb=2\n",
    "\n",
    "df_final['avg_pred_1'] = df_final[['rf_pred_1','nn_pred_1','gb_pred_1']].apply(lambda x: (w_rf*x['rf_pred_1']+w_nn*x['nn_pred_1']+w_gb*x['gb_pred_1'])/(w_rf+w_nn+w_gb),axis=1)"
   ]
  },
  {
   "cell_type": "code",
   "execution_count": 75,
   "metadata": {},
   "outputs": [],
   "source": [
    "test = pd.read_sql('select * from ur_tracts_preds_6',con=conn)"
   ]
  },
  {
   "cell_type": "code",
   "execution_count": 761,
   "metadata": {},
   "outputs": [
    {
     "data": {
      "text/plain": [
       "<seaborn.axisgrid.FacetGrid at 0x7fa0262eee20>"
      ]
     },
     "execution_count": 761,
     "metadata": {},
     "output_type": "execute_result"
    },
    {
     "data": {
      "image/png": "[encoded data removed]",
      "text/plain": [
       "<Figure size 405.305x360 with 1 Axes>"
      ]
     },
     "metadata": {
      "needs_background": "light"
     },
     "output_type": "display_data"
    }
   ],
   "source": [
    "sns.displot(data=df_final,x='avg_pred_1',hue='has_ur')"
   ]
  },
  {
   "cell_type": "code",
   "execution_count": 762,
   "metadata": {},
   "outputs": [],
   "source": [
    "df_final.merge(\n",
    "    X_all[X_all.columns[X_all.columns.isin(df_final.columns)==False]],\n",
    "    left_index=True,\n",
    "    right_index=True).to_postgis('ur_tracts_preds_6', \n",
    "                                 engine, \n",
    "                                 if_exists='replace',\n",
    "                                 index=False, \n",
    "                                 dtype={'geom': Geometry(geometry_type='MultiPolygon', srid= 4326)})"
   ]
  },
  {
   "cell_type": "code",
   "execution_count": null,
   "metadata": {},
   "outputs": [],
   "source": []
  },
  {
   "cell_type": "code",
   "execution_count": null,
   "metadata": {},
   "outputs": [],
   "source": []
  },
  {
   "cell_type": "code",
   "execution_count": null,
   "metadata": {},
   "outputs": [],
   "source": []
  },
  {
   "cell_type": "code",
   "execution_count": null,
   "metadata": {},
   "outputs": [],
   "source": []
  },
  {
   "cell_type": "markdown",
   "metadata": {},
   "source": [
    "# 4.0 Hand Coding? \n",
    "What if I just manually coded these tracts? "
   ]
  },
  {
   "cell_type": "code",
   "execution_count": 322,
   "metadata": {},
   "outputs": [
    {
     "name": "stdout",
     "output_type": "stream",
     "text": [
      "There are 64 cities in the analysis\n"
     ]
    }
   ],
   "source": []
  },
  {
   "cell_type": "markdown",
   "metadata": {},
   "source": [
    "There are only 286 projects missing in the dataset I'd be using."
   ]
  },
  {
   "cell_type": "code",
   "execution_count": 1541,
   "metadata": {},
   "outputs": [],
   "source": [
    "ur1_missing = ur1[(ur1.city.isin(df_all_use2_names['NAME'].unique()))&(ur1['Shape_Area'].isna())&\\\n",
    "                      (ur1['project'].str.contains('Interim|Demolition|Demonstration|Dev')==False)]\n",
    "\n",
    "ur1_missing = ur1_missing.sort_values(['state','city','project'])"
   ]
  },
  {
   "cell_type": "code",
   "execution_count": 352,
   "metadata": {},
   "outputs": [
    {
     "data": {
      "text/plain": [
       "Index(['project_id', 'FID', 'city_id', 'SHAPE_Leng', 'conf', 'Shape_Le_1',\n",
       "       'Shape_Area', 'geometry', 'area_ur_total', 'amt_reserved_first',\n",
       "       'amt_reserved_year_first', 'census_year_first', 'project', 'city',\n",
       "       'state', 'amt_reserved_last', 'amt_reserved_year_last', 'has_geom'],\n",
       "      dtype='object')"
      ]
     },
     "execution_count": 352,
     "metadata": {},
     "output_type": "execute_result"
    }
   ],
   "source": [
    "ur1_missing.columns"
   ]
  },
  {
   "cell_type": "code",
   "execution_count": 354,
   "metadata": {},
   "outputs": [],
   "source": [
    "ur1_missing.to_csv('ur1_missing.csv')"
   ]
  },
  {
   "cell_type": "code",
   "execution_count": 1542,
   "metadata": {},
   "outputs": [],
   "source": [
    "ur1_aggcount = ur1[(ur1['Shape_Area'].isna())&(ur1['project'].str.contains('Interim|Demolition|Demonstration|Dev')==False)]\\\n",
    "                            .groupby(['state','city'])\\\n",
    "                            .count()['project'].sort_values(ascending=False).reset_index()\\\n",
    "                            .rename(columns={'project':'project_count'})"
   ]
  },
  {
   "cell_type": "markdown",
   "metadata": {},
   "source": [
    "These are the number of projects each city."
   ]
  },
  {
   "cell_type": "code",
   "execution_count": 1545,
   "metadata": {},
   "outputs": [
    {
     "data": {
      "text/html": [
       "<div>\n",
       "<style scoped>\n",
       "    .dataframe tbody tr th:only-of-type {\n",
       "        vertical-align: middle;\n",
       "    }\n",
       "\n",
       "    .dataframe tbody tr th {\n",
       "        vertical-align: top;\n",
       "    }\n",
       "\n",
       "    .dataframe thead th {\n",
       "        text-align: right;\n",
       "    }\n",
       "</style>\n",
       "<table border=\"1\" class=\"dataframe\">\n",
       "  <thead>\n",
       "    <tr style=\"text-align: right;\">\n",
       "      <th></th>\n",
       "      <th>state</th>\n",
       "      <th>city</th>\n",
       "      <th>project_count</th>\n",
       "    </tr>\n",
       "  </thead>\n",
       "  <tbody>\n",
       "    <tr>\n",
       "      <th>0</th>\n",
       "      <td>IL</td>\n",
       "      <td>Chicago</td>\n",
       "      <td>30</td>\n",
       "    </tr>\n",
       "    <tr>\n",
       "      <th>1</th>\n",
       "      <td>PA</td>\n",
       "      <td>Philadelphia</td>\n",
       "      <td>20</td>\n",
       "    </tr>\n",
       "    <tr>\n",
       "      <th>2</th>\n",
       "      <td>MI</td>\n",
       "      <td>Detroit</td>\n",
       "      <td>13</td>\n",
       "    </tr>\n",
       "    <tr>\n",
       "      <th>3</th>\n",
       "      <td>PA</td>\n",
       "      <td>Wilkes Barre</td>\n",
       "      <td>12</td>\n",
       "    </tr>\n",
       "    <tr>\n",
       "      <th>4</th>\n",
       "      <td>CT</td>\n",
       "      <td>Hartford</td>\n",
       "      <td>12</td>\n",
       "    </tr>\n",
       "    <tr>\n",
       "      <th>5</th>\n",
       "      <td>PA</td>\n",
       "      <td>Scranton</td>\n",
       "      <td>11</td>\n",
       "    </tr>\n",
       "    <tr>\n",
       "      <th>6</th>\n",
       "      <td>GA</td>\n",
       "      <td>Savannah</td>\n",
       "      <td>11</td>\n",
       "    </tr>\n",
       "    <tr>\n",
       "      <th>7</th>\n",
       "      <td>VA</td>\n",
       "      <td>Portsmouth</td>\n",
       "      <td>11</td>\n",
       "    </tr>\n",
       "    <tr>\n",
       "      <th>8</th>\n",
       "      <td>VA</td>\n",
       "      <td>Norfolk</td>\n",
       "      <td>10</td>\n",
       "    </tr>\n",
       "    <tr>\n",
       "      <th>9</th>\n",
       "      <td>TN</td>\n",
       "      <td>Memphis</td>\n",
       "      <td>10</td>\n",
       "    </tr>\n",
       "  </tbody>\n",
       "</table>\n",
       "</div>"
      ],
      "text/plain": [
       "  state          city  project_count\n",
       "0    IL       Chicago             30\n",
       "1    PA  Philadelphia             20\n",
       "2    MI       Detroit             13\n",
       "3    PA  Wilkes Barre             12\n",
       "4    CT      Hartford             12\n",
       "5    PA      Scranton             11\n",
       "6    GA      Savannah             11\n",
       "7    VA    Portsmouth             11\n",
       "8    VA       Norfolk             10\n",
       "9    TN       Memphis             10"
      ]
     },
     "execution_count": 1545,
     "metadata": {},
     "output_type": "execute_result"
    }
   ],
   "source": [
    "ur1_aggcount.head(10)"
   ]
  },
  {
   "cell_type": "code",
   "execution_count": 292,
   "metadata": {},
   "outputs": [
    {
     "data": {
      "text/html": [
       "<div>\n",
       "<style scoped>\n",
       "    .dataframe tbody tr th:only-of-type {\n",
       "        vertical-align: middle;\n",
       "    }\n",
       "\n",
       "    .dataframe tbody tr th {\n",
       "        vertical-align: top;\n",
       "    }\n",
       "\n",
       "    .dataframe thead th {\n",
       "        text-align: right;\n",
       "    }\n",
       "</style>\n",
       "<table border=\"1\" class=\"dataframe\">\n",
       "  <thead>\n",
       "    <tr style=\"text-align: right;\">\n",
       "      <th></th>\n",
       "      <th>project_id</th>\n",
       "      <th>FID</th>\n",
       "      <th>city_id</th>\n",
       "      <th>SHAPE_Leng</th>\n",
       "      <th>conf</th>\n",
       "      <th>Shape_Le_1</th>\n",
       "      <th>Shape_Area</th>\n",
       "      <th>geometry</th>\n",
       "      <th>amt_reserved_first</th>\n",
       "      <th>amt_reserved_year_first</th>\n",
       "      <th>census_year_first</th>\n",
       "      <th>project</th>\n",
       "      <th>city</th>\n",
       "      <th>state</th>\n",
       "      <th>amt_reserved_last</th>\n",
       "      <th>amt_reserved_year_last</th>\n",
       "      <th>has_geom</th>\n",
       "    </tr>\n",
       "  </thead>\n",
       "  <tbody>\n",
       "    <tr>\n",
       "      <th>1127</th>\n",
       "      <td>1183</td>\n",
       "      <td>NaN</td>\n",
       "      <td>NaN</td>\n",
       "      <td>NaN</td>\n",
       "      <td>NaN</td>\n",
       "      <td>NaN</td>\n",
       "      <td>NaN</td>\n",
       "      <td>None</td>\n",
       "      <td>2797000.0</td>\n",
       "      <td>1960</td>\n",
       "      <td>1960</td>\n",
       "      <td>East Pittsburgh</td>\n",
       "      <td>East Pittsburgh</td>\n",
       "      <td>PA</td>\n",
       "      <td>3917317.0</td>\n",
       "      <td>1974</td>\n",
       "      <td>0</td>\n",
       "    </tr>\n",
       "    <tr>\n",
       "      <th>1352</th>\n",
       "      <td>1415</td>\n",
       "      <td>NaN</td>\n",
       "      <td>NaN</td>\n",
       "      <td>NaN</td>\n",
       "      <td>NaN</td>\n",
       "      <td>NaN</td>\n",
       "      <td>NaN</td>\n",
       "      <td>None</td>\n",
       "      <td>7657816.0</td>\n",
       "      <td>1960</td>\n",
       "      <td>1960</td>\n",
       "      <td>East Liberty Sec. A</td>\n",
       "      <td>Pittsburgh</td>\n",
       "      <td>PA</td>\n",
       "      <td>28865649.0</td>\n",
       "      <td>1970</td>\n",
       "      <td>0</td>\n",
       "    </tr>\n",
       "    <tr>\n",
       "      <th>1356</th>\n",
       "      <td>1419</td>\n",
       "      <td>NaN</td>\n",
       "      <td>NaN</td>\n",
       "      <td>NaN</td>\n",
       "      <td>NaN</td>\n",
       "      <td>NaN</td>\n",
       "      <td>NaN</td>\n",
       "      <td>None</td>\n",
       "      <td>8424000.0</td>\n",
       "      <td>1970</td>\n",
       "      <td>1970</td>\n",
       "      <td>North Shore</td>\n",
       "      <td>Pittsburgh</td>\n",
       "      <td>PA</td>\n",
       "      <td>8424000.0</td>\n",
       "      <td>1972</td>\n",
       "      <td>0</td>\n",
       "    </tr>\n",
       "    <tr>\n",
       "      <th>1362</th>\n",
       "      <td>1427</td>\n",
       "      <td>NaN</td>\n",
       "      <td>NaN</td>\n",
       "      <td>NaN</td>\n",
       "      <td>NaN</td>\n",
       "      <td>NaN</td>\n",
       "      <td>NaN</td>\n",
       "      <td>None</td>\n",
       "      <td>60000.0</td>\n",
       "      <td>1961</td>\n",
       "      <td>1970</td>\n",
       "      <td>Demostration Project</td>\n",
       "      <td>Pittsburgh</td>\n",
       "      <td>PA</td>\n",
       "      <td>57476.0</td>\n",
       "      <td>1970</td>\n",
       "      <td>0</td>\n",
       "    </tr>\n",
       "    <tr>\n",
       "      <th>3902</th>\n",
       "      <td>4184</td>\n",
       "      <td>NaN</td>\n",
       "      <td>NaN</td>\n",
       "      <td>NaN</td>\n",
       "      <td>NaN</td>\n",
       "      <td>NaN</td>\n",
       "      <td>NaN</td>\n",
       "      <td>None</td>\n",
       "      <td>18296500.0</td>\n",
       "      <td>1962</td>\n",
       "      <td>1970</td>\n",
       "      <td>Oakland Center</td>\n",
       "      <td>Pittsburgh</td>\n",
       "      <td>PA</td>\n",
       "      <td>18296500.0</td>\n",
       "      <td>1970</td>\n",
       "      <td>0</td>\n",
       "    </tr>\n",
       "  </tbody>\n",
       "</table>\n",
       "</div>"
      ],
      "text/plain": [
       "      project_id  FID  city_id  SHAPE_Leng  conf  Shape_Le_1  Shape_Area  \\\n",
       "1127        1183  NaN      NaN         NaN   NaN         NaN         NaN   \n",
       "1352        1415  NaN      NaN         NaN   NaN         NaN         NaN   \n",
       "1356        1419  NaN      NaN         NaN   NaN         NaN         NaN   \n",
       "1362        1427  NaN      NaN         NaN   NaN         NaN         NaN   \n",
       "3902        4184  NaN      NaN         NaN   NaN         NaN         NaN   \n",
       "\n",
       "     geometry  amt_reserved_first  amt_reserved_year_first  census_year_first  \\\n",
       "1127     None           2797000.0                     1960               1960   \n",
       "1352     None           7657816.0                     1960               1960   \n",
       "1356     None           8424000.0                     1970               1970   \n",
       "1362     None             60000.0                     1961               1970   \n",
       "3902     None          18296500.0                     1962               1970   \n",
       "\n",
       "                   project             city state  amt_reserved_last  \\\n",
       "1127       East Pittsburgh  East Pittsburgh    PA          3917317.0   \n",
       "1352   East Liberty Sec. A       Pittsburgh    PA         28865649.0   \n",
       "1356           North Shore       Pittsburgh    PA          8424000.0   \n",
       "1362  Demostration Project       Pittsburgh    PA            57476.0   \n",
       "3902        Oakland Center       Pittsburgh    PA         18296500.0   \n",
       "\n",
       "      amt_reserved_year_last  has_geom  \n",
       "1127                    1974         0  \n",
       "1352                    1970         0  \n",
       "1356                    1972         0  \n",
       "1362                    1970         0  \n",
       "3902                    1970         0  "
      ]
     },
     "execution_count": 292,
     "metadata": {},
     "output_type": "execute_result"
    }
   ],
   "source": [
    "ur1[(ur1['city'].str.contains('Pittsburgh'))&(ur1['Shape_Area'].isna())&(ur1['project'].str.contains('Interim|Demolition|Demonstration|Dev')==False)]"
   ]
  },
  {
   "cell_type": "code",
   "execution_count": null,
   "metadata": {},
   "outputs": [],
   "source": []
  },
  {
   "cell_type": "code",
   "execution_count": null,
   "metadata": {},
   "outputs": [],
   "source": []
  },
  {
   "cell_type": "code",
   "execution_count": null,
   "metadata": {},
   "outputs": [],
   "source": []
  },
  {
   "cell_type": "code",
   "execution_count": null,
   "metadata": {},
   "outputs": [],
   "source": []
  },
  {
   "cell_type": "code",
   "execution_count": null,
   "metadata": {},
   "outputs": [],
   "source": []
  },
  {
   "cell_type": "code",
   "execution_count": null,
   "metadata": {},
   "outputs": [],
   "source": []
  },
  {
   "cell_type": "code",
   "execution_count": null,
   "metadata": {},
   "outputs": [],
   "source": []
  },
  {
   "cell_type": "code",
   "execution_count": null,
   "metadata": {},
   "outputs": [],
   "source": []
  },
  {
   "cell_type": "code",
   "execution_count": null,
   "metadata": {},
   "outputs": [],
   "source": []
  },
  {
   "cell_type": "code",
   "execution_count": null,
   "metadata": {},
   "outputs": [],
   "source": []
  },
  {
   "cell_type": "code",
   "execution_count": null,
   "metadata": {},
   "outputs": [],
   "source": []
  },
  {
   "cell_type": "code",
   "execution_count": null,
   "metadata": {},
   "outputs": [],
   "source": []
  },
  {
   "cell_type": "code",
   "execution_count": null,
   "metadata": {},
   "outputs": [],
   "source": []
  },
  {
   "cell_type": "code",
   "execution_count": null,
   "metadata": {},
   "outputs": [],
   "source": []
  },
  {
   "cell_type": "code",
   "execution_count": null,
   "metadata": {},
   "outputs": [],
   "source": []
  }
 ],
 "metadata": {
  "kernelspec": {
   "display_name": "Python 3",
   "language": "python",
   "name": "python3"
  },
  "language_info": {
   "codemirror_mode": {
    "name": "ipython",
    "version": 3
   },
   "file_extension": ".py",
   "mimetype": "text/x-python",
   "name": "python",
   "nbconvert_exporter": "python",
   "pygments_lexer": "ipython3",
   "version": "3.9.13"
  }
 },
 "nbformat": 4,
 "nbformat_minor": 4
}
